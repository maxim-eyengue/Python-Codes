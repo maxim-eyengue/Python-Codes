{
 "cells": [
  {
   "cell_type": "markdown",
   "id": "bb686168-f466-4730-b42d-84de40138d4d",
   "metadata": {},
   "source": [
    "# From TF to TF-lite"
   ]
  },
  {
   "cell_type": "markdown",
   "id": "a4a47430-618a-46a6-b173-f640e92b05b0",
   "metadata": {},
   "source": [
    "## Download the Tensorflow model"
   ]
  },
  {
   "cell_type": "code",
   "execution_count": null,
   "id": "2c240107",
   "metadata": {},
   "outputs": [],
   "source": [
    "# download the model and rename it\n",
    "!wget https://github.com/DataTalksClub/machine-learning-zoomcamp/releases/download/chapter7-model/xception_v4_large_08_0.894.h5 -O clothing-model.h5"
   ]
  },
  {
   "cell_type": "code",
   "execution_count": null,
   "id": "4d77b177",
   "metadata": {},
   "outputs": [],
   "source": [
    "# check python version\n",
    "!python -V"
   ]
  },
  {
   "cell_type": "code",
   "execution_count": null,
   "id": "4225e13b",
   "metadata": {},
   "outputs": [],
   "source": [
    "!pip install keras-image-helper"
   ]
  },
  {
   "cell_type": "code",
   "execution_count": null,
   "id": "743b5fe1",
   "metadata": {},
   "outputs": [],
   "source": [
    "!pip install --extra-index-url https://google-coral.github.io/py-repo/ tflite_runtime"
   ]
  },
  {
   "cell_type": "code",
   "execution_count": null,
   "id": "76f422a7",
   "metadata": {},
   "outputs": [],
   "source": [
    "# Necessary import\n",
    "import numpy as np\n",
    "import tensorflow as tf\n",
    "import tensorflow.lite as tflite\n",
    "import tflite_runtime.interpreter as tflite_int # to avoid depending on tensorflow\n",
    "from PIL import Image\n",
    "from tensorflow import keras\n",
    "from tensorflow.keras.preprocessing.image import load_img\n",
    "from tensorflow.keras.applications.xception import preprocess_input\n",
    "from keras_image_helper import create_preprocessor\n",
    "\n",
    "# Check tensorflow version\n",
    "tf.__version__"
   ]
  },
  {
   "cell_type": "code",
   "execution_count": null,
   "id": "7cff12e6",
   "metadata": {},
   "outputs": [],
   "source": [
    "# Download a pants' image\n",
    "!wget http://bit.ly/mlbookcamp-pants -O pants.jpg"
   ]
  },
  {
   "cell_type": "code",
   "execution_count": null,
   "id": "d911b5ea",
   "metadata": {},
   "outputs": [],
   "source": [
    "# Load the model\n",
    "model = keras.models.load_model('clothing-model.h5')"
   ]
  },
  {
   "cell_type": "code",
   "execution_count": null,
   "id": "51863ac5",
   "metadata": {},
   "outputs": [],
   "source": [
    "# Load an image\n",
    "img = load_img('pants.jpg', target_size = (299, 299))\n",
    "\n",
    "# Check the image\n",
    "img"
   ]
  },
  {
   "cell_type": "code",
   "execution_count": null,
   "id": "30d85cf8-e93c-4bdc-bbc1-28b99f56f96e",
   "metadata": {},
   "outputs": [],
   "source": [
    "# Convert the image to a numpy array\n",
    "x = np.array(img)\n",
    "# Batch of 1 image\n",
    "X = np.array([x])\n",
    "\n",
    "# Preprocess input batch\n",
    "X = preprocess_input(X)"
   ]
  },
  {
   "cell_type": "code",
   "execution_count": null,
   "id": "f6f971fb-9b77-403f-a130-b3c657f4d625",
   "metadata": {},
   "outputs": [],
   "source": [
    "# Shape of the batch\n",
    "X.shape"
   ]
  },
  {
   "cell_type": "code",
   "execution_count": null,
   "id": "9c759646",
   "metadata": {},
   "outputs": [],
   "source": [
    "# Make prediction\n",
    "preds = model.predict(X)"
   ]
  },
  {
   "cell_type": "code",
   "execution_count": null,
   "id": "ae8e063e",
   "metadata": {},
   "outputs": [],
   "source": [
    "# Visualize the predictions\n",
    "preds"
   ]
  },
  {
   "cell_type": "code",
   "execution_count": null,
   "id": "09565d86",
   "metadata": {},
   "outputs": [],
   "source": [
    "# Target classes\n",
    "classes = [\n",
    "    'dress',\n",
    "    'hat',\n",
    "    'longsleeve',\n",
    "    'outwear',\n",
    "    'pants',\n",
    "    'shirt',\n",
    "    'shoes',\n",
    "    'shorts',\n",
    "    'skirt',\n",
    "    't-shirt'\n",
    "]\n",
    "\n",
    "# Classes and correponding probabilities\n",
    "dict(zip(classes, preds[0]))"
   ]
  },
  {
   "cell_type": "markdown",
   "id": "50149c7f",
   "metadata": {},
   "source": [
    "## Convert Keras to TF-Lite"
   ]
  },
  {
   "cell_type": "code",
   "execution_count": null,
   "id": "898dc5cf",
   "metadata": {
    "scrolled": true
   },
   "outputs": [],
   "source": [
    "# Initialize converter for the tf model\n",
    "converter = tflite.TFLiteConverter.from_keras_model(model)\n",
    "\n",
    "# Convert to a tf-lite model\n",
    "tflite_model = converter.convert()\n",
    "\n",
    "# Save the converted model as a binary file\n",
    "with open('clothing-model.tflite', 'wb') as f_out:\n",
    "    f_out.write(tflite_model)"
   ]
  },
  {
   "cell_type": "code",
   "execution_count": null,
   "id": "6d47a365",
   "metadata": {},
   "outputs": [],
   "source": [
    "# list files to find the conerted model\n",
    "!ls -lh"
   ]
  },
  {
   "cell_type": "code",
   "execution_count": null,
   "id": "536f5426",
   "metadata": {},
   "outputs": [],
   "source": [
    "# Load the model\n",
    "interpreter = tflite.Interpreter(model_path = 'clothing-model.tflite')\n",
    "# Load the weights from the model to memory (necessary with tf-lite models)\n",
    "interpreter.allocate_tensors()\n",
    "\n",
    "# Specify the input\n",
    "input_index = interpreter.get_input_details()[0]['index']\n",
    "# Specify the output\n",
    "output_index = interpreter.get_output_details()[0]['index']"
   ]
  },
  {
   "cell_type": "code",
   "execution_count": null,
   "id": "2787dd3b",
   "metadata": {},
   "outputs": [],
   "source": [
    "# Initialize the input of the interpreter\n",
    "interpreter.set_tensor(input_index, X)\n",
    "# Invoke computations in the neural network\n",
    "interpreter.invoke()\n",
    "# Fetch predictions\n",
    "preds = interpreter.get_tensor(output_index)"
   ]
  },
  {
   "cell_type": "markdown",
   "id": "d579e000-bc11-420f-b4e3-2f7d8dba16e6",
   "metadata": {},
   "source": [
    "Note that we are using the input batch `X`, that was preprocessed with the function `preprocess_input()`, and previously loaded using `load_img()`, both from `tensorflow`. We need to remove these tensorflow depenedencies."
   ]
  },
  {
   "cell_type": "code",
   "execution_count": null,
   "id": "a6403dbc",
   "metadata": {},
   "outputs": [],
   "source": [
    "# Target classes\n",
    "classes = [\n",
    "    'dress',\n",
    "    'hat',\n",
    "    'longsleeve',\n",
    "    'outwear',\n",
    "    'pants',\n",
    "    'shirt',\n",
    "    'shoes',\n",
    "    'shorts',\n",
    "    'skirt',\n",
    "    't-shirt'\n",
    "]\n",
    "\n",
    "# Classes and predicted probabilities \n",
    "dict(zip(classes, preds[0]))"
   ]
  },
  {
   "cell_type": "markdown",
   "id": "a50e64ac",
   "metadata": {},
   "source": [
    "## Removing TF dependency"
   ]
  },
  {
   "cell_type": "markdown",
   "id": "55976f91-4cdb-437a-9681-e5422fac2884",
   "metadata": {},
   "source": [
    "We use `Image` from the library `PIL` to load the image: "
   ]
  },
  {
   "cell_type": "code",
   "execution_count": null,
   "id": "65e25a72",
   "metadata": {},
   "outputs": [],
   "source": [
    "# read pants' image, resizing it\n",
    "with Image.open('pants.jpg') as img:\n",
    "    img = img.resize((299, 299), Image.NEAREST)\n",
    "\n",
    "# Visualize the image\n",
    "img"
   ]
  },
  {
   "cell_type": "code",
   "execution_count": null,
   "id": "f06c8daa",
   "metadata": {},
   "outputs": [],
   "source": [
    "# Function to preprocess the input batch of images\n",
    "def preprocess_input(x):\n",
    "    x /= 127.5\n",
    "    x -= 1.\n",
    "    return x"
   ]
  },
  {
   "cell_type": "code",
   "execution_count": null,
   "id": "81bf48c8",
   "metadata": {},
   "outputs": [],
   "source": [
    "# Convert the image to a numpy array\n",
    "x = np.array(img, dtype = 'float32')\n",
    "# Batch of 1 image\n",
    "X = np.array([x])\n",
    "\n",
    "# Preprocess input batch\n",
    "X = preprocess_input(X)"
   ]
  },
  {
   "cell_type": "code",
   "execution_count": null,
   "id": "656b5981",
   "metadata": {},
   "outputs": [],
   "source": [
    "# Initialize the input of the interpreter\n",
    "interpreter.set_tensor(input_index, X)\n",
    "# Invoke computations in the neural network\n",
    "interpreter.invoke()\n",
    "# Fetch predictions\n",
    "preds = interpreter.get_tensor(output_index)"
   ]
  },
  {
   "cell_type": "code",
   "execution_count": null,
   "id": "fd9bb26c",
   "metadata": {},
   "outputs": [],
   "source": [
    "# Target classes\n",
    "classes = [\n",
    "    'dress',\n",
    "    'hat',\n",
    "    'longsleeve',\n",
    "    'outwear',\n",
    "    'pants',\n",
    "    'shirt',\n",
    "    'shoes',\n",
    "    'shorts',\n",
    "    'skirt',\n",
    "    't-shirt'\n",
    "]\n",
    "\n",
    "# Classes and predicted probabilities \n",
    "dict(zip(classes, preds[0]))"
   ]
  },
  {
   "cell_type": "markdown",
   "id": "95fb1469-1df5-4e7b-bcd7-8d94d9ffc8d4",
   "metadata": {},
   "source": [
    "Now we do not have any dependency on tensorflow."
   ]
  },
  {
   "cell_type": "markdown",
   "id": "9cfb17f7",
   "metadata": {},
   "source": [
    "## Simpler way of doing it"
   ]
  },
  {
   "cell_type": "markdown",
   "id": "f70d9b97-23c5-4dda-893e-31e9584078a5",
   "metadata": {},
   "source": [
    "We can use the function `create_preprocessor` from the library `keras_image_helper`. Note that instead of importing `tf-lite` from `tf`, we imported ` tflite_runtime.interpreter`."
   ]
  },
  {
   "cell_type": "code",
   "execution_count": null,
   "id": "f5903956",
   "metadata": {},
   "outputs": [],
   "source": [
    "# Load the model\n",
    "interpreter = tflite_int.Interpreter(model_path = 'clothing-model.tflite')\n",
    "# Load the weights from the model to memory (necessary with tf-lite models)\n",
    "interpreter.allocate_tensors()\n",
    "\n",
    "# Specify the input\n",
    "input_index = interpreter.get_input_details()[0]['index']\n",
    "# Specify the output\n",
    "output_index = interpreter.get_output_details()[0]['index']"
   ]
  },
  {
   "cell_type": "code",
   "execution_count": null,
   "id": "8146a9cb",
   "metadata": {},
   "outputs": [],
   "source": [
    "# Initialize data preprocessor\n",
    "preprocessor = create_preprocessor('xception', target_size = (299, 299))"
   ]
  },
  {
   "cell_type": "code",
   "execution_count": null,
   "id": "81622bd1",
   "metadata": {},
   "outputs": [],
   "source": [
    "# image url\n",
    "url = 'http://bit.ly/mlbookcamp-pants'\n",
    "# preprocess image\n",
    "X = preprocessor.from_url(url)"
   ]
  },
  {
   "cell_type": "markdown",
   "id": "bb2189bd-0e46-4a5f-8ecb-df1f52dc102f",
   "metadata": {},
   "source": [
    "Note that we don't even have to download the image."
   ]
  },
  {
   "cell_type": "code",
   "execution_count": null,
   "id": "811511aa",
   "metadata": {},
   "outputs": [],
   "source": [
    "# Initialize the input of the interpreter\n",
    "interpreter.set_tensor(input_index, X)\n",
    "# Invoke computations in the neural network\n",
    "interpreter.invoke()\n",
    "# Fetch predictions\n",
    "preds = interpreter.get_tensor(output_index)"
   ]
  },
  {
   "cell_type": "code",
   "execution_count": null,
   "id": "17c925c5",
   "metadata": {},
   "outputs": [],
   "source": [
    "# Target classes\n",
    "classes = [\n",
    "    'dress',\n",
    "    'hat',\n",
    "    'longsleeve',\n",
    "    'outwear',\n",
    "    'pants',\n",
    "    'shirt',\n",
    "    'shoes',\n",
    "    'shorts',\n",
    "    'skirt',\n",
    "    't-shirt'\n",
    "]\n",
    "\n",
    "# Classes and predicted probabilities \n",
    "dict(zip(classes, preds[0]))"
   ]
  },
  {
   "cell_type": "markdown",
   "id": "1e0e6daa-33f3-4335-a278-475bd157be2f",
   "metadata": {},
   "source": [
    "---"
   ]
  }
 ],
 "metadata": {
  "kernelspec": {
   "display_name": "Python 3 (ipykernel)",
   "language": "python",
   "name": "python3"
  },
  "language_info": {
   "codemirror_mode": {
    "name": "ipython",
    "version": 3
   },
   "file_extension": ".py",
   "mimetype": "text/x-python",
   "name": "python",
   "nbconvert_exporter": "python",
   "pygments_lexer": "ipython3",
   "version": "3.11.10"
  }
 },
 "nbformat": 4,
 "nbformat_minor": 5
}
