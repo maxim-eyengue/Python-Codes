{
 "cells": [
  {
   "cell_type": "markdown",
   "id": "4bb7e036-1203-4484-be13-5e6b86fab4fc",
   "metadata": {},
   "source": [
    "# Session 10 Homework"
   ]
  },
  {
   "cell_type": "markdown",
   "id": "9903df18-db39-4766-972d-b790793f15d5",
   "metadata": {},
   "source": [
    "### Question 1\n"
   ]
  },
  {
   "cell_type": "markdown",
   "id": "fe32792d-cd40-47ad-8411-711586ecfe2e",
   "metadata": {},
   "source": [
    "### Question 2\n",
    "\n"
   ]
  },
  {
   "cell_type": "markdown",
   "id": "48cfb36e-8ac7-4596-82cb-cfbd1a1b5292",
   "metadata": {},
   "source": [
    "### Question 3\n",
    "\n"
   ]
  },
  {
   "cell_type": "markdown",
   "id": "92f9f92e-9fc9-4487-b708-50bc9150c9d5",
   "metadata": {},
   "source": [
    "### Question 4\n",
    "\n"
   ]
  },
  {
   "cell_type": "markdown",
   "id": "8d53537f-f63b-4b46-8135-374cf851fbfc",
   "metadata": {},
   "source": [
    "### Question 5 \n",
    "\n"
   ]
  },
  {
   "cell_type": "markdown",
   "id": "bd37c141-f49b-4c63-b699-05c03139dfe5",
   "metadata": {},
   "source": [
    "### Question 6\n",
    "\n"
   ]
  },
  {
   "cell_type": "markdown",
   "id": "2eb796f3-70c3-4b63-9374-4f2b28268207",
   "metadata": {},
   "source": [
    "### Question 7\n",
    "\n"
   ]
  },
  {
   "cell_type": "markdown",
   "id": "f15f7da1-f378-46ee-a355-73381a4cbaef",
   "metadata": {},
   "source": [
    "---"
   ]
  }
 ],
 "metadata": {
  "kernelspec": {
   "display_name": "Python 3 (ipykernel)",
   "language": "python",
   "name": "python3"
  },
  "language_info": {
   "codemirror_mode": {
    "name": "ipython",
    "version": 3
   },
   "file_extension": ".py",
   "mimetype": "text/x-python",
   "name": "python",
   "nbconvert_exporter": "python",
   "pygments_lexer": "ipython3",
   "version": "3.11.10"
  }
 },
 "nbformat": 4,
 "nbformat_minor": 5
}
