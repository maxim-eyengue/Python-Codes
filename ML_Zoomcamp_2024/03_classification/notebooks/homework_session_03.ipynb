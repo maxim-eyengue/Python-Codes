{
 "cells": [
  {
   "cell_type": "markdown",
   "id": "ba93408b-d2de-4f9d-b179-561e462ce400",
   "metadata": {},
   "source": [
    "# Session 03 Homework"
   ]
  },
  {
   "cell_type": "markdown",
   "id": "d797aa7d-0262-4ad4-b0bd-09a1097c6af1",
   "metadata": {},
   "source": [
    "The goal of this homework is to create a classification model for determining if a bank client will subscribe a term deposit or not."
   ]
  },
  {
   "cell_type": "code",
   "execution_count": 1,
   "id": "3224c9b4-4149-4266-ba10-6d4c7cb4ee71",
   "metadata": {},
   "outputs": [],
   "source": [
    "# Necessary import\n",
    "import zipfile\n",
    "import numpy as np\n",
    "import pandas as pd\n",
    "import seaborn as sns\n",
    "import matplotlib.pyplot as plt\n",
    "%matplotlib inline\n",
    "\n",
    "from sklearn.metrics import mutual_info_score\n",
    "from sklearn.linear_model import LogisticRegression\n",
    "from sklearn.model_selection import train_test_split\n",
    "from sklearn.feature_extraction import DictVectorizer"
   ]
  },
  {
   "cell_type": "markdown",
   "id": "91a1846c-877c-4b77-bcdb-3425e7d664b8",
   "metadata": {},
   "source": [
    "## Get Data\n",
    "We will use the `bank/bank-full.csv` file from the downloaded zip-file of the [Bank Marketing dataset](https://archive.ics.uci.edu/static/public/222/bank+marketing.zip)."
   ]
  },
  {
   "cell_type": "code",
   "execution_count": 2,
   "id": "32d86dde-a5de-455f-8acd-cfac4feb06fd",
   "metadata": {},
   "outputs": [],
   "source": [
    "# zip data url\n",
    "bank_data = \"https://archive.ics.uci.edu/static/public/222/bank+marketing.zip\""
   ]
  },
  {
   "cell_type": "code",
   "execution_count": 5,
   "id": "421501d2-81a8-48be-80a6-7ce8351be6e7",
   "metadata": {},
   "outputs": [],
   "source": [
    "# Get the zip-file\n",
    "!wget $bank_data"
   ]
  },
  {
   "cell_type": "code",
   "execution_count": 7,
   "id": "56be6546-63ae-41c8-91c6-c27df1bfabb0",
   "metadata": {},
   "outputs": [],
   "source": [
    "# Unzip the `bank+marketing.zip` file\n",
    "with zipfile.ZipFile('bank+marketing.zip', 'r') as bank_market:\n",
    "    bank_market.extractall('') # extracting all files to current directory"
   ]
  },
  {
   "cell_type": "markdown",
   "id": "98d66183-41a8-4191-822c-785b3539b4c0",
   "metadata": {},
   "source": [
    "We should first check the files available:"
   ]
  },
  {
   "cell_type": "code",
   "execution_count": 9,
   "id": "51ff5f88-08ae-4609-a2ff-d77fc0a8e8c4",
   "metadata": {},
   "outputs": [
    {
     "name": "stdout",
     "output_type": "stream",
     "text": [
      " Le volume dans le lecteur C n’a pas de nom.\n",
      " Le numéro de série du volume est 2EFA-F61A\n",
      "\n",
      " Répertoire de C:\\Users\\dell\\Videos\\Elearning\\Data Science\\ML_Zoomcamp\\ML_Zoomcamp_2024\\03_classification\\notebooks\n",
      "\n",
      "15/10/2024  19:14    <DIR>          .\n",
      "15/10/2024  19:14    <DIR>          ..\n",
      "15/10/2024  11:27    <DIR>          .ipynb_checkpoints\n",
      "15/10/2024  19:14           579 043 bank.zip\n",
      "15/10/2024  11:53         1 023 843 bank+marketing.zip\n",
      "15/10/2024  19:14           444 572 bank-additional.zip\n",
      "13/10/2024  14:38           977 501 data-week-3.csv\n",
      "14/10/2024  18:47             4 017 homework.md\n",
      "15/10/2024  19:13            86 114 homework_session_03.ipynb\n",
      "15/10/2024  16:15           232 163 logistic_regression.ipynb\n",
      "               7 fichier(s)        3 347 253 octets\n",
      "               3 Rép(s)  330 333 634 560 octets libres\n"
     ]
    }
   ],
   "source": [
    "ls"
   ]
  },
  {
   "cell_type": "markdown",
   "id": "c2467089-ebcf-45ef-b0b1-fd7889129c8d",
   "metadata": {},
   "source": [
    "Now, we can extract the dataset `bank-full.csv` from the `bank.zip` file:"
   ]
  },
  {
   "cell_type": "code",
   "execution_count": 11,
   "id": "c019624e-3e69-4077-b12b-3cb601e3d168",
   "metadata": {},
   "outputs": [],
   "source": [
    "# Extract only the `bank-full.csv` file\n",
    "with zipfile.ZipFile('bank.zip', 'r') as bank:\n",
    "    bank.extract('bank-full.csv', '') # extracting dataset to current directory"
   ]
  },
  {
   "cell_type": "markdown",
   "id": "6c2610fc-ea21-4db9-942d-c02742962885",
   "metadata": {},
   "source": [
    "After extraction, let's read the data:"
   ]
  },
  {
   "cell_type": "code",
   "execution_count": 13,
   "id": "74bf9d22-5440-42f7-92d0-fb9fb8ee4dce",
   "metadata": {},
   "outputs": [
    {
     "data": {
      "text/html": [
       "<div>\n",
       "<style scoped>\n",
       "    .dataframe tbody tr th:only-of-type {\n",
       "        vertical-align: middle;\n",
       "    }\n",
       "\n",
       "    .dataframe tbody tr th {\n",
       "        vertical-align: top;\n",
       "    }\n",
       "\n",
       "    .dataframe thead th {\n",
       "        text-align: right;\n",
       "    }\n",
       "</style>\n",
       "<table border=\"1\" class=\"dataframe\">\n",
       "  <thead>\n",
       "    <tr style=\"text-align: right;\">\n",
       "      <th></th>\n",
       "      <th>age</th>\n",
       "      <th>job</th>\n",
       "      <th>marital</th>\n",
       "      <th>education</th>\n",
       "      <th>default</th>\n",
       "      <th>balance</th>\n",
       "      <th>housing</th>\n",
       "      <th>loan</th>\n",
       "      <th>contact</th>\n",
       "      <th>day</th>\n",
       "      <th>month</th>\n",
       "      <th>duration</th>\n",
       "      <th>campaign</th>\n",
       "      <th>pdays</th>\n",
       "      <th>previous</th>\n",
       "      <th>poutcome</th>\n",
       "      <th>y</th>\n",
       "    </tr>\n",
       "  </thead>\n",
       "  <tbody>\n",
       "    <tr>\n",
       "      <th>45208</th>\n",
       "      <td>72</td>\n",
       "      <td>retired</td>\n",
       "      <td>married</td>\n",
       "      <td>secondary</td>\n",
       "      <td>no</td>\n",
       "      <td>5715</td>\n",
       "      <td>no</td>\n",
       "      <td>no</td>\n",
       "      <td>cellular</td>\n",
       "      <td>17</td>\n",
       "      <td>nov</td>\n",
       "      <td>1127</td>\n",
       "      <td>5</td>\n",
       "      <td>184</td>\n",
       "      <td>3</td>\n",
       "      <td>success</td>\n",
       "      <td>yes</td>\n",
       "    </tr>\n",
       "    <tr>\n",
       "      <th>45209</th>\n",
       "      <td>57</td>\n",
       "      <td>blue-collar</td>\n",
       "      <td>married</td>\n",
       "      <td>secondary</td>\n",
       "      <td>no</td>\n",
       "      <td>668</td>\n",
       "      <td>no</td>\n",
       "      <td>no</td>\n",
       "      <td>telephone</td>\n",
       "      <td>17</td>\n",
       "      <td>nov</td>\n",
       "      <td>508</td>\n",
       "      <td>4</td>\n",
       "      <td>-1</td>\n",
       "      <td>0</td>\n",
       "      <td>unknown</td>\n",
       "      <td>no</td>\n",
       "    </tr>\n",
       "    <tr>\n",
       "      <th>45210</th>\n",
       "      <td>37</td>\n",
       "      <td>entrepreneur</td>\n",
       "      <td>married</td>\n",
       "      <td>secondary</td>\n",
       "      <td>no</td>\n",
       "      <td>2971</td>\n",
       "      <td>no</td>\n",
       "      <td>no</td>\n",
       "      <td>cellular</td>\n",
       "      <td>17</td>\n",
       "      <td>nov</td>\n",
       "      <td>361</td>\n",
       "      <td>2</td>\n",
       "      <td>188</td>\n",
       "      <td>11</td>\n",
       "      <td>other</td>\n",
       "      <td>no</td>\n",
       "    </tr>\n",
       "  </tbody>\n",
       "</table>\n",
       "</div>"
      ],
      "text/plain": [
       "       age           job  marital  education default  balance housing loan  \\\n",
       "45208   72       retired  married  secondary      no     5715      no   no   \n",
       "45209   57   blue-collar  married  secondary      no      668      no   no   \n",
       "45210   37  entrepreneur  married  secondary      no     2971      no   no   \n",
       "\n",
       "         contact  day month  duration  campaign  pdays  previous poutcome    y  \n",
       "45208   cellular   17   nov      1127         5    184         3  success  yes  \n",
       "45209  telephone   17   nov       508         4     -1         0  unknown   no  \n",
       "45210   cellular   17   nov       361         2    188        11    other   no  "
      ]
     },
     "execution_count": 13,
     "metadata": {},
     "output_type": "execute_result"
    }
   ],
   "source": [
    "# Read the dataframe\n",
    "df = pd.read_csv(\"bank-full.csv\", sep = \";\")\n",
    "\n",
    "# Three last rows\n",
    "df.tail(3)"
   ]
  },
  {
   "cell_type": "markdown",
   "id": "6e58b68a-10c9-492c-9fec-cffc07fe5c46",
   "metadata": {},
   "source": [
    "## Data Preparation"
   ]
  },
  {
   "cell_type": "markdown",
   "id": "69104cdb-2497-443e-81e1-f769cdb50f92",
   "metadata": {},
   "source": [
    "For the rest of the homework, we'll need only use these columns:\n",
    "* `age`,\n",
    "* `job`,\n",
    "* `marital`,\n",
    "* `education`,\n",
    "* `balance`,\n",
    "* `housing`,\n",
    "* `contact`,\n",
    "* `day`,\n",
    "* `month`,\n",
    "* `duration`,\n",
    "* `campaign`,\n",
    "* `pdays`,\n",
    "* `previous`,\n",
    "* `poutcome`,\n",
    "* `y`\n",
    " \n",
    "Let's subset our dataset:"
   ]
  },
  {
   "cell_type": "code",
   "execution_count": 15,
   "id": "b3de76a6-5f62-4967-af3a-935f0938822d",
   "metadata": {},
   "outputs": [],
   "source": [
    "# Select relevant features\n",
    "subset = [\"age\", \"job\", \"marital\", \"education\", \"balance\", \"housing\", \"contact\", \"day\",\n",
    "          \"month\", \"duration\", \"campaign\", \"pdays\", \"previous\", \"poutcome\", \"y\"]\n",
    "\n",
    "# Create a subset of data\n",
    "df_subset = df[subset]"
   ]
  },
  {
   "cell_type": "markdown",
   "id": "c14695b3-38cc-43ec-8214-e5c7106aaf9b",
   "metadata": {},
   "source": [
    "Let's check if there are missing values:"
   ]
  },
  {
   "cell_type": "code",
   "execution_count": 17,
   "id": "0698859c-72af-472b-8c1b-a708039e5f73",
   "metadata": {},
   "outputs": [
    {
     "data": {
      "text/plain": [
       "age          0\n",
       "job          0\n",
       "marital      0\n",
       "education    0\n",
       "balance      0\n",
       "housing      0\n",
       "contact      0\n",
       "day          0\n",
       "month        0\n",
       "duration     0\n",
       "campaign     0\n",
       "pdays        0\n",
       "previous     0\n",
       "poutcome     0\n",
       "y            0\n",
       "dtype: int64"
      ]
     },
     "execution_count": 17,
     "metadata": {},
     "output_type": "execute_result"
    }
   ],
   "source": [
    "# Check missing values\n",
    "df_subset.isnull().sum()"
   ]
  },
  {
   "cell_type": "markdown",
   "id": "7e0dd4a8-93a5-4dd0-978f-f71bd72f35a0",
   "metadata": {},
   "source": [
    "### Question 1"
   ]
  },
  {
   "cell_type": "markdown",
   "id": "3c79e054-afc2-469a-9e93-e7b4f6fb12a7",
   "metadata": {},
   "source": [
    "The most frequent observation (mode) for the column `education` is *secondary*."
   ]
  },
  {
   "cell_type": "code",
   "execution_count": 19,
   "id": "0f7db1bd-612d-4349-88c1-c18d1a3e3677",
   "metadata": {},
   "outputs": [
    {
     "data": {
      "text/plain": [
       "0    secondary\n",
       "Name: education, dtype: object"
      ]
     },
     "execution_count": 19,
     "metadata": {},
     "output_type": "execute_result"
    }
   ],
   "source": [
    "# `education` mode\n",
    "df_subset.education.mode()"
   ]
  },
  {
   "cell_type": "markdown",
   "id": "66d36133-f5b1-4bae-a7c8-c1860628d154",
   "metadata": {},
   "source": [
    "### Question 2"
   ]
  },
  {
   "cell_type": "markdown",
   "id": "d1db35bc-ff1e-4555-a2ad-d4b6724614f5",
   "metadata": {},
   "source": [
    "After getting information about the data, we will create a correlation matrix for the numerical features:"
   ]
  },
  {
   "cell_type": "code",
   "execution_count": 22,
   "id": "6ea24ac7-18c9-483a-b54f-1960be25f18c",
   "metadata": {},
   "outputs": [
    {
     "name": "stdout",
     "output_type": "stream",
     "text": [
      "<class 'pandas.core.frame.DataFrame'>\n",
      "RangeIndex: 45211 entries, 0 to 45210\n",
      "Data columns (total 15 columns):\n",
      " #   Column     Non-Null Count  Dtype \n",
      "---  ------     --------------  ----- \n",
      " 0   age        45211 non-null  int64 \n",
      " 1   job        45211 non-null  object\n",
      " 2   marital    45211 non-null  object\n",
      " 3   education  45211 non-null  object\n",
      " 4   balance    45211 non-null  int64 \n",
      " 5   housing    45211 non-null  object\n",
      " 6   contact    45211 non-null  object\n",
      " 7   day        45211 non-null  int64 \n",
      " 8   month      45211 non-null  object\n",
      " 9   duration   45211 non-null  int64 \n",
      " 10  campaign   45211 non-null  int64 \n",
      " 11  pdays      45211 non-null  int64 \n",
      " 12  previous   45211 non-null  int64 \n",
      " 13  poutcome   45211 non-null  object\n",
      " 14  y          45211 non-null  object\n",
      "dtypes: int64(7), object(8)\n",
      "memory usage: 5.2+ MB\n"
     ]
    }
   ],
   "source": [
    "# Dataset info\n",
    "df_subset.info()"
   ]
  },
  {
   "cell_type": "code",
   "execution_count": 24,
   "id": "32bbea1f-d07f-4c9c-8480-cfeed97d6ed7",
   "metadata": {},
   "outputs": [
    {
     "data": {
      "text/html": [
       "<div>\n",
       "<style scoped>\n",
       "    .dataframe tbody tr th:only-of-type {\n",
       "        vertical-align: middle;\n",
       "    }\n",
       "\n",
       "    .dataframe tbody tr th {\n",
       "        vertical-align: top;\n",
       "    }\n",
       "\n",
       "    .dataframe thead th {\n",
       "        text-align: right;\n",
       "    }\n",
       "</style>\n",
       "<table border=\"1\" class=\"dataframe\">\n",
       "  <thead>\n",
       "    <tr style=\"text-align: right;\">\n",
       "      <th></th>\n",
       "      <th>age</th>\n",
       "      <th>balance</th>\n",
       "      <th>day</th>\n",
       "      <th>duration</th>\n",
       "      <th>campaign</th>\n",
       "      <th>pdays</th>\n",
       "      <th>previous</th>\n",
       "    </tr>\n",
       "  </thead>\n",
       "  <tbody>\n",
       "    <tr>\n",
       "      <th>age</th>\n",
       "      <td>1.000000</td>\n",
       "      <td>0.097783</td>\n",
       "      <td>-0.009120</td>\n",
       "      <td>-0.004648</td>\n",
       "      <td>0.004760</td>\n",
       "      <td>-0.023758</td>\n",
       "      <td>0.001288</td>\n",
       "    </tr>\n",
       "    <tr>\n",
       "      <th>balance</th>\n",
       "      <td>0.097783</td>\n",
       "      <td>1.000000</td>\n",
       "      <td>0.004503</td>\n",
       "      <td>0.021560</td>\n",
       "      <td>-0.014578</td>\n",
       "      <td>0.003435</td>\n",
       "      <td>0.016674</td>\n",
       "    </tr>\n",
       "    <tr>\n",
       "      <th>day</th>\n",
       "      <td>-0.009120</td>\n",
       "      <td>0.004503</td>\n",
       "      <td>1.000000</td>\n",
       "      <td>-0.030206</td>\n",
       "      <td>0.162490</td>\n",
       "      <td>-0.093044</td>\n",
       "      <td>-0.051710</td>\n",
       "    </tr>\n",
       "    <tr>\n",
       "      <th>duration</th>\n",
       "      <td>-0.004648</td>\n",
       "      <td>0.021560</td>\n",
       "      <td>-0.030206</td>\n",
       "      <td>1.000000</td>\n",
       "      <td>-0.084570</td>\n",
       "      <td>-0.001565</td>\n",
       "      <td>0.001203</td>\n",
       "    </tr>\n",
       "    <tr>\n",
       "      <th>campaign</th>\n",
       "      <td>0.004760</td>\n",
       "      <td>-0.014578</td>\n",
       "      <td>0.162490</td>\n",
       "      <td>-0.084570</td>\n",
       "      <td>1.000000</td>\n",
       "      <td>-0.088628</td>\n",
       "      <td>-0.032855</td>\n",
       "    </tr>\n",
       "    <tr>\n",
       "      <th>pdays</th>\n",
       "      <td>-0.023758</td>\n",
       "      <td>0.003435</td>\n",
       "      <td>-0.093044</td>\n",
       "      <td>-0.001565</td>\n",
       "      <td>-0.088628</td>\n",
       "      <td>1.000000</td>\n",
       "      <td>0.454820</td>\n",
       "    </tr>\n",
       "    <tr>\n",
       "      <th>previous</th>\n",
       "      <td>0.001288</td>\n",
       "      <td>0.016674</td>\n",
       "      <td>-0.051710</td>\n",
       "      <td>0.001203</td>\n",
       "      <td>-0.032855</td>\n",
       "      <td>0.454820</td>\n",
       "      <td>1.000000</td>\n",
       "    </tr>\n",
       "  </tbody>\n",
       "</table>\n",
       "</div>"
      ],
      "text/plain": [
       "               age   balance       day  duration  campaign     pdays  previous\n",
       "age       1.000000  0.097783 -0.009120 -0.004648  0.004760 -0.023758  0.001288\n",
       "balance   0.097783  1.000000  0.004503  0.021560 -0.014578  0.003435  0.016674\n",
       "day      -0.009120  0.004503  1.000000 -0.030206  0.162490 -0.093044 -0.051710\n",
       "duration -0.004648  0.021560 -0.030206  1.000000 -0.084570 -0.001565  0.001203\n",
       "campaign  0.004760 -0.014578  0.162490 -0.084570  1.000000 -0.088628 -0.032855\n",
       "pdays    -0.023758  0.003435 -0.093044 -0.001565 -0.088628  1.000000  0.454820\n",
       "previous  0.001288  0.016674 -0.051710  0.001203 -0.032855  0.454820  1.000000"
      ]
     },
     "execution_count": 24,
     "metadata": {},
     "output_type": "execute_result"
    }
   ],
   "source": [
    "# Correlation matrix\n",
    "df_subset_corr = df_subset.select_dtypes(\"number\").corr()\n",
    "df_subset_corr"
   ]
  },
  {
   "cell_type": "code",
   "execution_count": 26,
   "id": "b97dd57a-acb3-41e0-bb9c-30a730411ff0",
   "metadata": {},
   "outputs": [
    {
     "data": {
      "image/png": "[encoded data removed]",
      "text/plain": [
       "<Figure size 640x480 with 2 Axes>"
      ]
     },
     "metadata": {},
     "output_type": "display_data"
    }
   ],
   "source": [
    "# Correlation map\n",
    "plt.title(\"Correlation Map\") # map title\n",
    "sns.heatmap(df_subset_corr);"
   ]
  },
  {
   "cell_type": "markdown",
   "id": "c1c21353-2d86-48e5-8667-9040d65fba89",
   "metadata": {},
   "source": [
    "The two features with the biggest correlation are `pdays` and `previous`."
   ]
  },
  {
   "cell_type": "markdown",
   "id": "73146d7e-cbfa-4b41-be32-46f58defba0a",
   "metadata": {},
   "source": [
    "### Target encoding"
   ]
  },
  {
   "cell_type": "markdown",
   "id": "17b6534a-0a22-477a-b2a5-51294e039165",
   "metadata": {},
   "source": [
    "Let's encode the `y` variable, replacing the values *yes*/*no* with *1*/*0*:"
   ]
  },
  {
   "cell_type": "code",
   "execution_count": 30,
   "id": "fa9f28b0-53f8-469c-bc07-6af4e337803f",
   "metadata": {},
   "outputs": [],
   "source": [
    "# Encoding `yes`/`no` to numerical values\n",
    "df.y = (df.y == 1).astype(int)"
   ]
  },
  {
   "cell_type": "markdown",
   "id": "d5dd1d19-cf2c-4a4b-9812-627e5b38b1b7",
   "metadata": {},
   "source": [
    "### Split the data\n",
    "\n",
    " We will split the data into train/val/test sets with 60%/20%/20% distribution using Scikit-Learn (`train_test_split` function) with a seed of `42`:"
   ]
  },
  {
   "cell_type": "code",
   "execution_count": 32,
   "id": "464a5c74-5973-4cba-b70d-43b45a6f1624",
   "metadata": {},
   "outputs": [],
   "source": [
    "# Splitting into full train and test\n",
    "df_full_train, df_test = train_test_split(df_subset, test_size = 0.2, random_state = 42)\n",
    "\n",
    "# Splitting into train and test\n",
    "df_train, df_val = train_test_split(df_full_train, test_size = 0.25, random_state = 42)"
   ]
  },
  {
   "cell_type": "code",
   "execution_count": 34,
   "id": "e724d10b-42a5-4d0c-bea9-c593f508a44c",
   "metadata": {},
   "outputs": [
    {
     "data": {
      "text/plain": [
       "(27126, 9042, 9043)"
      ]
     },
     "execution_count": 34,
     "metadata": {},
     "output_type": "execute_result"
    }
   ],
   "source": [
    "# Check datasets sizes after splitting\n",
    "len(df_train), len(df_val), len(df_test)"
   ]
  },
  {
   "cell_type": "code",
   "execution_count": 36,
   "id": "af53a74f-4927-4e27-8dfd-e24cafe72ed6",
   "metadata": {},
   "outputs": [],
   "source": [
    "# Reset indexes\n",
    "df_train = df_train.reset_index(drop = True)\n",
    "df_test = df_test.reset_index(drop = True)\n",
    "df_val = df_val.reset_index(drop = True)"
   ]
  },
  {
   "cell_type": "markdown",
   "id": "8d818617-5a65-40e9-aace-a4420788d1fe",
   "metadata": {},
   "source": [
    "Let's extract the target variable `y` from our dataframe:"
   ]
  },
  {
   "cell_type": "code",
   "execution_count": 38,
   "id": "10f7dada-2923-4c99-ac5d-6f779af60cf4",
   "metadata": {},
   "outputs": [],
   "source": [
    "# Get the target values\n",
    "y_train = df_train.y.values\n",
    "y_test = df_test.y.values\n",
    "y_val = df_val.y.values\n",
    "\n",
    "# Drop `y` from our data sets\n",
    "del df_train[\"y\"]\n",
    "del df_test[\"y\"]\n",
    "del df_val[\"y\"]"
   ]
  },
  {
   "cell_type": "markdown",
   "id": "ccbeef9b-bb64-4fa0-a6bb-c6b46c8dfe62",
   "metadata": {},
   "source": [
    "### Question 3\n",
    "\n",
    "We calculate the mutual information scores (rounded to 2 decimals) between `y` and other categorical variables in the dataset, using only the training set. We will define a function to ease the process."
   ]
  },
  {
   "cell_type": "code",
   "execution_count": 40,
   "id": "4fe2f0e2-4fa1-4d2b-9dc5-3a5b1a4634ce",
   "metadata": {},
   "outputs": [],
   "source": [
    "# Function to get mutual information sore with respect to the churn\n",
    "def mutual_info_y_score(series):\n",
    "    \"\"\"\n",
    "    This function takes a series and returns the mutual information score\n",
    "    with respect to the `y` variable of the train set.\n",
    "    \"\"\"\n",
    "    return mutual_info_score(series, y_train)"
   ]
  },
  {
   "cell_type": "markdown",
   "id": "b38c3184-2ef3-4fb1-83c7-046391aa832b",
   "metadata": {},
   "source": [
    "Now, we can apply this function to the categorical variables:"
   ]
  },
  {
   "cell_type": "code",
   "execution_count": 42,
   "id": "7cb1c575-c5bf-4d60-a819-ba6683a5d8f1",
   "metadata": {},
   "outputs": [
    {
     "data": {
      "text/plain": [
       "poutcome     0.029533\n",
       "month        0.025090\n",
       "contact      0.013356\n",
       "housing      0.010343\n",
       "job          0.007316\n",
       "education    0.002697\n",
       "marital      0.002050\n",
       "dtype: float64"
      ]
     },
     "execution_count": 42,
     "metadata": {},
     "output_type": "execute_result"
    }
   ],
   "source": [
    "# Apply mutual information columnwise to categorical variables\n",
    "mi_scores = df_train.select_dtypes(\"object\").apply(mutual_info_y_score)\n",
    "\n",
    "# Sourt scores in ascending order\n",
    "mi_scores.sort_values(ascending = False)"
   ]
  },
  {
   "cell_type": "markdown",
   "id": "32147c0c-d6ef-4e23-a065-619d60d39dab",
   "metadata": {},
   "source": [
    "The variable with the biggest mutual information score is `poutcome`."
   ]
  },
  {
   "cell_type": "markdown",
   "id": "57b7b534-5ac6-43e6-a9a6-aff85862049a",
   "metadata": {},
   "source": [
    "### Question 4\n",
    "\n",
    " It's time to train a logistic regression model.\n",
    "As we have several categorical variables in the dataset, we will first include them using one-hot encoding, and then, fit the model on the training dataset."
   ]
  },
  {
   "cell_type": "code",
   "execution_count": 44,
   "id": "de482bd8-b605-4c5d-b06c-e4667b3f3918",
   "metadata": {},
   "outputs": [],
   "source": [
    "# Initialize vectorizer\n",
    "One_Hot_encoder = DictVectorizer(sparse = False) # sparse when there are many categorical variables ---> most of them are 0s\n",
    "\n",
    "# Convert training set to a dictionary\n",
    "train_dict = df_train.to_dict(orient = 'records')\n",
    "\n",
    "# Train the vectorizer and transform features\n",
    "X_train = One_Hot_encoder.fit_transform(train_dict)"
   ]
  },
  {
   "cell_type": "code",
   "execution_count": 46,
   "id": "479e59f1-9ede-4b8d-a515-feb5fe4e30e0",
   "metadata": {},
   "outputs": [
    {
     "data": {
      "text/plain": [
       "array(['age', 'balance', 'campaign', 'contact=cellular',\n",
       "       'contact=telephone', 'contact=unknown', 'day', 'duration',\n",
       "       'education=primary', 'education=secondary', 'education=tertiary',\n",
       "       'education=unknown', 'housing=no', 'housing=yes', 'job=admin.',\n",
       "       'job=blue-collar', 'job=entrepreneur', 'job=housemaid',\n",
       "       'job=management', 'job=retired', 'job=self-employed',\n",
       "       'job=services', 'job=student', 'job=technician', 'job=unemployed',\n",
       "       'job=unknown', 'marital=divorced', 'marital=married',\n",
       "       'marital=single', 'month=apr', 'month=aug', 'month=dec',\n",
       "       'month=feb', 'month=jan', 'month=jul', 'month=jun', 'month=mar',\n",
       "       'month=may', 'month=nov', 'month=oct', 'month=sep', 'pdays',\n",
       "       'poutcome=failure', 'poutcome=other', 'poutcome=success',\n",
       "       'poutcome=unknown', 'previous'], dtype=object)"
      ]
     },
     "execution_count": 46,
     "metadata": {},
     "output_type": "execute_result"
    }
   ],
   "source": [
    "# Check the features\n",
    "One_Hot_encoder.get_feature_names_out()"
   ]
  },
  {
   "cell_type": "code",
   "execution_count": 48,
   "id": "bc686f80-0afd-4ed9-affc-6aef033f5271",
   "metadata": {},
   "outputs": [
    {
     "data": {
      "text/html": [
       "<style>#sk-container-id-1 {\n",
       "  /* Definition of color scheme common for light and dark mode */\n",
       "  --sklearn-color-text: black;\n",
       "  --sklearn-color-line: gray;\n",
       "  /* Definition of color scheme for unfitted estimators */\n",
       "  --sklearn-color-unfitted-level-0: #fff5e6;\n",
       "  --sklearn-color-unfitted-level-1: #f6e4d2;\n",
       "  --sklearn-color-unfitted-level-2: #ffe0b3;\n",
       "  --sklearn-color-unfitted-level-3: chocolate;\n",
       "  /* Definition of color scheme for fitted estimators */\n",
       "  --sklearn-color-fitted-level-0: #f0f8ff;\n",
       "  --sklearn-color-fitted-level-1: #d4ebff;\n",
       "  --sklearn-color-fitted-level-2: #b3dbfd;\n",
       "  --sklearn-color-fitted-level-3: cornflowerblue;\n",
       "\n",
       "  /* Specific color for light theme */\n",
       "  --sklearn-color-text-on-default-background: var(--sg-text-color, var(--theme-code-foreground, var(--jp-content-font-color1, black)));\n",
       "  --sklearn-color-background: var(--sg-background-color, var(--theme-background, var(--jp-layout-color0, white)));\n",
       "  --sklearn-color-border-box: var(--sg-text-color, var(--theme-code-foreground, var(--jp-content-font-color1, black)));\n",
       "  --sklearn-color-icon: #696969;\n",
       "\n",
       "  @media (prefers-color-scheme: dark) {\n",
       "    /* Redefinition of color scheme for dark theme */\n",
       "    --sklearn-color-text-on-default-background: var(--sg-text-color, var(--theme-code-foreground, var(--jp-content-font-color1, white)));\n",
       "    --sklearn-color-background: var(--sg-background-color, var(--theme-background, var(--jp-layout-color0, #111)));\n",
       "    --sklearn-color-border-box: var(--sg-text-color, var(--theme-code-foreground, var(--jp-content-font-color1, white)));\n",
       "    --sklearn-color-icon: #878787;\n",
       "  }\n",
       "}\n",
       "\n",
       "#sk-container-id-1 {\n",
       "  color: var(--sklearn-color-text);\n",
       "}\n",
       "\n",
       "#sk-container-id-1 pre {\n",
       "  padding: 0;\n",
       "}\n",
       "\n",
       "#sk-container-id-1 input.sk-hidden--visually {\n",
       "  border: 0;\n",
       "  clip: rect(1px 1px 1px 1px);\n",
       "  clip: rect(1px, 1px, 1px, 1px);\n",
       "  height: 1px;\n",
       "  margin: -1px;\n",
       "  overflow: hidden;\n",
       "  padding: 0;\n",
       "  position: absolute;\n",
       "  width: 1px;\n",
       "}\n",
       "\n",
       "#sk-container-id-1 div.sk-dashed-wrapped {\n",
       "  border: 1px dashed var(--sklearn-color-line);\n",
       "  margin: 0 0.4em 0.5em 0.4em;\n",
       "  box-sizing: border-box;\n",
       "  padding-bottom: 0.4em;\n",
       "  background-color: var(--sklearn-color-background);\n",
       "}\n",
       "\n",
       "#sk-container-id-1 div.sk-container {\n",
       "  /* jupyter's `normalize.less` sets `[hidden] { display: none; }`\n",
       "     but bootstrap.min.css set `[hidden] { display: none !important; }`\n",
       "     so we also need the `!important` here to be able to override the\n",
       "     default hidden behavior on the sphinx rendered scikit-learn.org.\n",
       "     See: https://github.com/scikit-learn/scikit-learn/issues/21755 */\n",
       "  display: inline-block !important;\n",
       "  position: relative;\n",
       "}\n",
       "\n",
       "#sk-container-id-1 div.sk-text-repr-fallback {\n",
       "  display: none;\n",
       "}\n",
       "\n",
       "div.sk-parallel-item,\n",
       "div.sk-serial,\n",
       "div.sk-item {\n",
       "  /* draw centered vertical line to link estimators */\n",
       "  background-image: linear-gradient(var(--sklearn-color-text-on-default-background), var(--sklearn-color-text-on-default-background));\n",
       "  background-size: 2px 100%;\n",
       "  background-repeat: no-repeat;\n",
       "  background-position: center center;\n",
       "}\n",
       "\n",
       "/* Parallel-specific style estimator block */\n",
       "\n",
       "#sk-container-id-1 div.sk-parallel-item::after {\n",
       "  content: \"\";\n",
       "  width: 100%;\n",
       "  border-bottom: 2px solid var(--sklearn-color-text-on-default-background);\n",
       "  flex-grow: 1;\n",
       "}\n",
       "\n",
       "#sk-container-id-1 div.sk-parallel {\n",
       "  display: flex;\n",
       "  align-items: stretch;\n",
       "  justify-content: center;\n",
       "  background-color: var(--sklearn-color-background);\n",
       "  position: relative;\n",
       "}\n",
       "\n",
       "#sk-container-id-1 div.sk-parallel-item {\n",
       "  display: flex;\n",
       "  flex-direction: column;\n",
       "}\n",
       "\n",
       "#sk-container-id-1 div.sk-parallel-item:first-child::after {\n",
       "  align-self: flex-end;\n",
       "  width: 50%;\n",
       "}\n",
       "\n",
       "#sk-container-id-1 div.sk-parallel-item:last-child::after {\n",
       "  align-self: flex-start;\n",
       "  width: 50%;\n",
       "}\n",
       "\n",
       "#sk-container-id-1 div.sk-parallel-item:only-child::after {\n",
       "  width: 0;\n",
       "}\n",
       "\n",
       "/* Serial-specific style estimator block */\n",
       "\n",
       "#sk-container-id-1 div.sk-serial {\n",
       "  display: flex;\n",
       "  flex-direction: column;\n",
       "  align-items: center;\n",
       "  background-color: var(--sklearn-color-background);\n",
       "  padding-right: 1em;\n",
       "  padding-left: 1em;\n",
       "}\n",
       "\n",
       "\n",
       "/* Toggleable style: style used for estimator/Pipeline/ColumnTransformer box that is\n",
       "clickable and can be expanded/collapsed.\n",
       "- Pipeline and ColumnTransformer use this feature and define the default style\n",
       "- Estimators will overwrite some part of the style using the `sk-estimator` class\n",
       "*/\n",
       "\n",
       "/* Pipeline and ColumnTransformer style (default) */\n",
       "\n",
       "#sk-container-id-1 div.sk-toggleable {\n",
       "  /* Default theme specific background. It is overwritten whether we have a\n",
       "  specific estimator or a Pipeline/ColumnTransformer */\n",
       "  background-color: var(--sklearn-color-background);\n",
       "}\n",
       "\n",
       "/* Toggleable label */\n",
       "#sk-container-id-1 label.sk-toggleable__label {\n",
       "  cursor: pointer;\n",
       "  display: block;\n",
       "  width: 100%;\n",
       "  margin-bottom: 0;\n",
       "  padding: 0.5em;\n",
       "  box-sizing: border-box;\n",
       "  text-align: center;\n",
       "}\n",
       "\n",
       "#sk-container-id-1 label.sk-toggleable__label-arrow:before {\n",
       "  /* Arrow on the left of the label */\n",
       "  content: \"▸\";\n",
       "  float: left;\n",
       "  margin-right: 0.25em;\n",
       "  color: var(--sklearn-color-icon);\n",
       "}\n",
       "\n",
       "#sk-container-id-1 label.sk-toggleable__label-arrow:hover:before {\n",
       "  color: var(--sklearn-color-text);\n",
       "}\n",
       "\n",
       "/* Toggleable content - dropdown */\n",
       "\n",
       "#sk-container-id-1 div.sk-toggleable__content {\n",
       "  max-height: 0;\n",
       "  max-width: 0;\n",
       "  overflow: hidden;\n",
       "  text-align: left;\n",
       "  /* unfitted */\n",
       "  background-color: var(--sklearn-color-unfitted-level-0);\n",
       "}\n",
       "\n",
       "#sk-container-id-1 div.sk-toggleable__content.fitted {\n",
       "  /* fitted */\n",
       "  background-color: var(--sklearn-color-fitted-level-0);\n",
       "}\n",
       "\n",
       "#sk-container-id-1 div.sk-toggleable__content pre {\n",
       "  margin: 0.2em;\n",
       "  border-radius: 0.25em;\n",
       "  color: var(--sklearn-color-text);\n",
       "  /* unfitted */\n",
       "  background-color: var(--sklearn-color-unfitted-level-0);\n",
       "}\n",
       "\n",
       "#sk-container-id-1 div.sk-toggleable__content.fitted pre {\n",
       "  /* unfitted */\n",
       "  background-color: var(--sklearn-color-fitted-level-0);\n",
       "}\n",
       "\n",
       "#sk-container-id-1 input.sk-toggleable__control:checked~div.sk-toggleable__content {\n",
       "  /* Expand drop-down */\n",
       "  max-height: 200px;\n",
       "  max-width: 100%;\n",
       "  overflow: auto;\n",
       "}\n",
       "\n",
       "#sk-container-id-1 input.sk-toggleable__control:checked~label.sk-toggleable__label-arrow:before {\n",
       "  content: \"▾\";\n",
       "}\n",
       "\n",
       "/* Pipeline/ColumnTransformer-specific style */\n",
       "\n",
       "#sk-container-id-1 div.sk-label input.sk-toggleable__control:checked~label.sk-toggleable__label {\n",
       "  color: var(--sklearn-color-text);\n",
       "  background-color: var(--sklearn-color-unfitted-level-2);\n",
       "}\n",
       "\n",
       "#sk-container-id-1 div.sk-label.fitted input.sk-toggleable__control:checked~label.sk-toggleable__label {\n",
       "  background-color: var(--sklearn-color-fitted-level-2);\n",
       "}\n",
       "\n",
       "/* Estimator-specific style */\n",
       "\n",
       "/* Colorize estimator box */\n",
       "#sk-container-id-1 div.sk-estimator input.sk-toggleable__control:checked~label.sk-toggleable__label {\n",
       "  /* unfitted */\n",
       "  background-color: var(--sklearn-color-unfitted-level-2);\n",
       "}\n",
       "\n",
       "#sk-container-id-1 div.sk-estimator.fitted input.sk-toggleable__control:checked~label.sk-toggleable__label {\n",
       "  /* fitted */\n",
       "  background-color: var(--sklearn-color-fitted-level-2);\n",
       "}\n",
       "\n",
       "#sk-container-id-1 div.sk-label label.sk-toggleable__label,\n",
       "#sk-container-id-1 div.sk-label label {\n",
       "  /* The background is the default theme color */\n",
       "  color: var(--sklearn-color-text-on-default-background);\n",
       "}\n",
       "\n",
       "/* On hover, darken the color of the background */\n",
       "#sk-container-id-1 div.sk-label:hover label.sk-toggleable__label {\n",
       "  color: var(--sklearn-color-text);\n",
       "  background-color: var(--sklearn-color-unfitted-level-2);\n",
       "}\n",
       "\n",
       "/* Label box, darken color on hover, fitted */\n",
       "#sk-container-id-1 div.sk-label.fitted:hover label.sk-toggleable__label.fitted {\n",
       "  color: var(--sklearn-color-text);\n",
       "  background-color: var(--sklearn-color-fitted-level-2);\n",
       "}\n",
       "\n",
       "/* Estimator label */\n",
       "\n",
       "#sk-container-id-1 div.sk-label label {\n",
       "  font-family: monospace;\n",
       "  font-weight: bold;\n",
       "  display: inline-block;\n",
       "  line-height: 1.2em;\n",
       "}\n",
       "\n",
       "#sk-container-id-1 div.sk-label-container {\n",
       "  text-align: center;\n",
       "}\n",
       "\n",
       "/* Estimator-specific */\n",
       "#sk-container-id-1 div.sk-estimator {\n",
       "  font-family: monospace;\n",
       "  border: 1px dotted var(--sklearn-color-border-box);\n",
       "  border-radius: 0.25em;\n",
       "  box-sizing: border-box;\n",
       "  margin-bottom: 0.5em;\n",
       "  /* unfitted */\n",
       "  background-color: var(--sklearn-color-unfitted-level-0);\n",
       "}\n",
       "\n",
       "#sk-container-id-1 div.sk-estimator.fitted {\n",
       "  /* fitted */\n",
       "  background-color: var(--sklearn-color-fitted-level-0);\n",
       "}\n",
       "\n",
       "/* on hover */\n",
       "#sk-container-id-1 div.sk-estimator:hover {\n",
       "  /* unfitted */\n",
       "  background-color: var(--sklearn-color-unfitted-level-2);\n",
       "}\n",
       "\n",
       "#sk-container-id-1 div.sk-estimator.fitted:hover {\n",
       "  /* fitted */\n",
       "  background-color: var(--sklearn-color-fitted-level-2);\n",
       "}\n",
       "\n",
       "/* Specification for estimator info (e.g. \"i\" and \"?\") */\n",
       "\n",
       "/* Common style for \"i\" and \"?\" */\n",
       "\n",
       ".sk-estimator-doc-link,\n",
       "a:link.sk-estimator-doc-link,\n",
       "a:visited.sk-estimator-doc-link {\n",
       "  float: right;\n",
       "  font-size: smaller;\n",
       "  line-height: 1em;\n",
       "  font-family: monospace;\n",
       "  background-color: var(--sklearn-color-background);\n",
       "  border-radius: 1em;\n",
       "  height: 1em;\n",
       "  width: 1em;\n",
       "  text-decoration: none !important;\n",
       "  margin-left: 1ex;\n",
       "  /* unfitted */\n",
       "  border: var(--sklearn-color-unfitted-level-1) 1pt solid;\n",
       "  color: var(--sklearn-color-unfitted-level-1);\n",
       "}\n",
       "\n",
       ".sk-estimator-doc-link.fitted,\n",
       "a:link.sk-estimator-doc-link.fitted,\n",
       "a:visited.sk-estimator-doc-link.fitted {\n",
       "  /* fitted */\n",
       "  border: var(--sklearn-color-fitted-level-1) 1pt solid;\n",
       "  color: var(--sklearn-color-fitted-level-1);\n",
       "}\n",
       "\n",
       "/* On hover */\n",
       "div.sk-estimator:hover .sk-estimator-doc-link:hover,\n",
       ".sk-estimator-doc-link:hover,\n",
       "div.sk-label-container:hover .sk-estimator-doc-link:hover,\n",
       ".sk-estimator-doc-link:hover {\n",
       "  /* unfitted */\n",
       "  background-color: var(--sklearn-color-unfitted-level-3);\n",
       "  color: var(--sklearn-color-background);\n",
       "  text-decoration: none;\n",
       "}\n",
       "\n",
       "div.sk-estimator.fitted:hover .sk-estimator-doc-link.fitted:hover,\n",
       ".sk-estimator-doc-link.fitted:hover,\n",
       "div.sk-label-container:hover .sk-estimator-doc-link.fitted:hover,\n",
       ".sk-estimator-doc-link.fitted:hover {\n",
       "  /* fitted */\n",
       "  background-color: var(--sklearn-color-fitted-level-3);\n",
       "  color: var(--sklearn-color-background);\n",
       "  text-decoration: none;\n",
       "}\n",
       "\n",
       "/* Span, style for the box shown on hovering the info icon */\n",
       ".sk-estimator-doc-link span {\n",
       "  display: none;\n",
       "  z-index: 9999;\n",
       "  position: relative;\n",
       "  font-weight: normal;\n",
       "  right: .2ex;\n",
       "  padding: .5ex;\n",
       "  margin: .5ex;\n",
       "  width: min-content;\n",
       "  min-width: 20ex;\n",
       "  max-width: 50ex;\n",
       "  color: var(--sklearn-color-text);\n",
       "  box-shadow: 2pt 2pt 4pt #999;\n",
       "  /* unfitted */\n",
       "  background: var(--sklearn-color-unfitted-level-0);\n",
       "  border: .5pt solid var(--sklearn-color-unfitted-level-3);\n",
       "}\n",
       "\n",
       ".sk-estimator-doc-link.fitted span {\n",
       "  /* fitted */\n",
       "  background: var(--sklearn-color-fitted-level-0);\n",
       "  border: var(--sklearn-color-fitted-level-3);\n",
       "}\n",
       "\n",
       ".sk-estimator-doc-link:hover span {\n",
       "  display: block;\n",
       "}\n",
       "\n",
       "/* \"?\"-specific style due to the `<a>` HTML tag */\n",
       "\n",
       "#sk-container-id-1 a.estimator_doc_link {\n",
       "  float: right;\n",
       "  font-size: 1rem;\n",
       "  line-height: 1em;\n",
       "  font-family: monospace;\n",
       "  background-color: var(--sklearn-color-background);\n",
       "  border-radius: 1rem;\n",
       "  height: 1rem;\n",
       "  width: 1rem;\n",
       "  text-decoration: none;\n",
       "  /* unfitted */\n",
       "  color: var(--sklearn-color-unfitted-level-1);\n",
       "  border: var(--sklearn-color-unfitted-level-1) 1pt solid;\n",
       "}\n",
       "\n",
       "#sk-container-id-1 a.estimator_doc_link.fitted {\n",
       "  /* fitted */\n",
       "  border: var(--sklearn-color-fitted-level-1) 1pt solid;\n",
       "  color: var(--sklearn-color-fitted-level-1);\n",
       "}\n",
       "\n",
       "/* On hover */\n",
       "#sk-container-id-1 a.estimator_doc_link:hover {\n",
       "  /* unfitted */\n",
       "  background-color: var(--sklearn-color-unfitted-level-3);\n",
       "  color: var(--sklearn-color-background);\n",
       "  text-decoration: none;\n",
       "}\n",
       "\n",
       "#sk-container-id-1 a.estimator_doc_link.fitted:hover {\n",
       "  /* fitted */\n",
       "  background-color: var(--sklearn-color-fitted-level-3);\n",
       "}\n",
       "</style><div id=\"sk-container-id-1\" class=\"sk-top-container\"><div class=\"sk-text-repr-fallback\"><pre>LogisticRegression(max_iter=1000, random_state=42, solver=&#x27;liblinear&#x27;)</pre><b>In a Jupyter environment, please rerun this cell to show the HTML representation or trust the notebook. <br />On GitHub, the HTML representation is unable to render, please try loading this page with nbviewer.org.</b></div><div class=\"sk-container\" hidden><div class=\"sk-item\"><div class=\"sk-estimator fitted sk-toggleable\"><input class=\"sk-toggleable__control sk-hidden--visually\" id=\"sk-estimator-id-1\" type=\"checkbox\" checked><label for=\"sk-estimator-id-1\" class=\"sk-toggleable__label fitted sk-toggleable__label-arrow fitted\">&nbsp;&nbsp;LogisticRegression<a class=\"sk-estimator-doc-link fitted\" rel=\"noreferrer\" target=\"_blank\" href=\"https://scikit-learn.org/1.4/modules/generated/sklearn.linear_model.LogisticRegression.html\">?<span>Documentation for LogisticRegression</span></a><span class=\"sk-estimator-doc-link fitted\">i<span>Fitted</span></span></label><div class=\"sk-toggleable__content fitted\"><pre>LogisticRegression(max_iter=1000, random_state=42, solver=&#x27;liblinear&#x27;)</pre></div> </div></div></div></div>"
      ],
      "text/plain": [
       "LogisticRegression(max_iter=1000, random_state=42, solver='liblinear')"
      ]
     },
     "execution_count": 48,
     "metadata": {},
     "output_type": "execute_result"
    }
   ],
   "source": [
    "# Define the model\n",
    "model = LogisticRegression(solver = 'liblinear', C = 1.0, max_iter = 1000, random_state = 42)\n",
    "\n",
    "# Model fitting\n",
    "model.fit(X_train, y_train)"
   ]
  },
  {
   "cell_type": "markdown",
   "id": "849292b9-6014-4f68-a002-9fc803e52793",
   "metadata": {},
   "source": [
    "We prepare the validation dataset and calculate the model accuracy using it:"
   ]
  },
  {
   "cell_type": "code",
   "execution_count": 50,
   "id": "dbe2cfd2-47e5-4b3f-beae-a0b0e831004f",
   "metadata": {},
   "outputs": [],
   "source": [
    "# Convert validation set to a dictionary\n",
    "val_dict = df_val.to_dict(orient = 'records')\n",
    "\n",
    "# Transform validation data\n",
    "X_val = One_Hot_encoder.transform(val_dict)"
   ]
  },
  {
   "cell_type": "code",
   "execution_count": 52,
   "id": "b76b89fe-528f-4337-8bc2-60e6b9b1f914",
   "metadata": {},
   "outputs": [
    {
     "data": {
      "text/plain": [
       "0.9"
      ]
     },
     "execution_count": 52,
     "metadata": {},
     "output_type": "execute_result"
    }
   ],
   "source": [
    "# Make predictions\n",
    "y_pred = model.predict(X_val)\n",
    "\n",
    "# Accuracy score\n",
    "accuracy = (y_pred == y_val).mean()\n",
    "round(accuracy, 2)"
   ]
  },
  {
   "cell_type": "markdown",
   "id": "6bb86c64-5396-428d-8183-60583dac2ddd",
   "metadata": {},
   "source": [
    "The accuracy obtained is $90 \\%$."
   ]
  },
  {
   "cell_type": "markdown",
   "id": "69316e03-9eeb-4b0f-931d-e32436ae32be",
   "metadata": {},
   "source": [
    "We can define a function to train models quickly, and speed fine-tuning and feature elimination for the following questions."
   ]
  },
  {
   "cell_type": "code",
   "execution_count": 55,
   "id": "13258c20-83de-4c70-b543-7982934c296d",
   "metadata": {},
   "outputs": [],
   "source": [
    "# Function to train a regression model\n",
    "def log_reg_train(elim = False, feature = \"None\", C = 1):\n",
    "    \"\"\"\n",
    "    Function to train a logistic regression model specifying a regularization parameter,\n",
    "    and potentially removing one feature from the dataset.\n",
    "    ---\n",
    "    elim: bool value to indicate if a feature shld be removed from the training set,\n",
    "            False by default\n",
    "    feature: feature to remove from the training dataset.\n",
    "            None by default\n",
    "    C: regularization parameter\n",
    "            1 by default.\n",
    "    \"\"\"\n",
    "    # Initialize vectorizer\n",
    "    One_Hot_encoder = DictVectorizer(sparse = False)\n",
    "\n",
    "    # Drop feature if required\n",
    "    if elim:\n",
    "        train = df_train.drop(columns = feature)\n",
    "        val = df_val.drop(columns = feature)\n",
    "    else:\n",
    "        train = df_train\n",
    "        val = df_val\n",
    "        \n",
    "    # Convert training set to a dictionary\n",
    "    train_dict = train.to_dict(orient = 'records')\n",
    "    \n",
    "    # Train the vectorizer and transform features\n",
    "    X_train = One_Hot_encoder.fit_transform(train_dict)\n",
    "    \n",
    "    # Define the model\n",
    "    model = LogisticRegression(solver = 'liblinear', C = C,\n",
    "                               max_iter = 1000, random_state = 42)\n",
    "    \n",
    "    # Model fitting\n",
    "    model.fit(X_train, y_train)\n",
    "    \n",
    "    # Convert validation set to a dictionary\n",
    "    val_dict = val.to_dict(orient = 'records')\n",
    "    \n",
    "    # Transform validation data\n",
    "    X_val = One_Hot_encoder.transform(val_dict)\n",
    "    \n",
    "    # Make predictions\n",
    "    y_pred = model.predict(X_val)\n",
    "    \n",
    "    # Accuracy score\n",
    "    accuracy = (y_pred == y_val).mean()\n",
    "\n",
    "    # return accuracy\n",
    "    return accuracy"
   ]
  },
  {
   "cell_type": "markdown",
   "id": "6aff01cd-f005-4e29-bd33-989b84ee3c5c",
   "metadata": {},
   "source": [
    "### Question 5 \n",
    "\n",
    "Let's find the least useful feature using the *feature elimination* technique.\n",
    "For this purpose, we should train a model with all these features (done in `Question 4`), exclude one feature from this set and train a model without it, recording its accuracy and the absolute difference with the original accuracy (in `Question 4`) and repeating this process for all the features."
   ]
  },
  {
   "cell_type": "code",
   "execution_count": 57,
   "id": "02c055d5-7148-4234-b73c-23dd11313f18",
   "metadata": {},
   "outputs": [
    {
     "data": {
      "text/html": [
       "<div>\n",
       "<style scoped>\n",
       "    .dataframe tbody tr th:only-of-type {\n",
       "        vertical-align: middle;\n",
       "    }\n",
       "\n",
       "    .dataframe tbody tr th {\n",
       "        vertical-align: top;\n",
       "    }\n",
       "\n",
       "    .dataframe thead th {\n",
       "        text-align: right;\n",
       "    }\n",
       "</style>\n",
       "<table border=\"1\" class=\"dataframe\">\n",
       "  <thead>\n",
       "    <tr style=\"text-align: right;\">\n",
       "      <th></th>\n",
       "      <th>scores</th>\n",
       "      <th>abs_differences</th>\n",
       "    </tr>\n",
       "  </thead>\n",
       "  <tbody>\n",
       "    <tr>\n",
       "      <th>age</th>\n",
       "      <td>0.900243</td>\n",
       "      <td>0.001327</td>\n",
       "    </tr>\n",
       "    <tr>\n",
       "      <th>job</th>\n",
       "      <td>0.901128</td>\n",
       "      <td>0.000442</td>\n",
       "    </tr>\n",
       "    <tr>\n",
       "      <th>marital</th>\n",
       "      <td>0.901239</td>\n",
       "      <td>0.000332</td>\n",
       "    </tr>\n",
       "    <tr>\n",
       "      <th>education</th>\n",
       "      <td>0.901017</td>\n",
       "      <td>0.000553</td>\n",
       "    </tr>\n",
       "    <tr>\n",
       "      <th>balance</th>\n",
       "      <td>0.900686</td>\n",
       "      <td>0.000885</td>\n",
       "    </tr>\n",
       "    <tr>\n",
       "      <th>housing</th>\n",
       "      <td>0.901017</td>\n",
       "      <td>0.000553</td>\n",
       "    </tr>\n",
       "    <tr>\n",
       "      <th>contact</th>\n",
       "      <td>0.900354</td>\n",
       "      <td>0.001217</td>\n",
       "    </tr>\n",
       "    <tr>\n",
       "      <th>day</th>\n",
       "      <td>0.900133</td>\n",
       "      <td>0.001438</td>\n",
       "    </tr>\n",
       "    <tr>\n",
       "      <th>month</th>\n",
       "      <td>0.899912</td>\n",
       "      <td>0.001659</td>\n",
       "    </tr>\n",
       "    <tr>\n",
       "      <th>duration</th>\n",
       "      <td>0.890179</td>\n",
       "      <td>0.011391</td>\n",
       "    </tr>\n",
       "    <tr>\n",
       "      <th>campaign</th>\n",
       "      <td>0.900796</td>\n",
       "      <td>0.000774</td>\n",
       "    </tr>\n",
       "    <tr>\n",
       "      <th>pdays</th>\n",
       "      <td>0.901460</td>\n",
       "      <td>0.000111</td>\n",
       "    </tr>\n",
       "    <tr>\n",
       "      <th>previous</th>\n",
       "      <td>0.901349</td>\n",
       "      <td>0.000221</td>\n",
       "    </tr>\n",
       "    <tr>\n",
       "      <th>poutcome</th>\n",
       "      <td>0.894161</td>\n",
       "      <td>0.007410</td>\n",
       "    </tr>\n",
       "  </tbody>\n",
       "</table>\n",
       "</div>"
      ],
      "text/plain": [
       "             scores  abs_differences\n",
       "age        0.900243         0.001327\n",
       "job        0.901128         0.000442\n",
       "marital    0.901239         0.000332\n",
       "education  0.901017         0.000553\n",
       "balance    0.900686         0.000885\n",
       "housing    0.901017         0.000553\n",
       "contact    0.900354         0.001217\n",
       "day        0.900133         0.001438\n",
       "month      0.899912         0.001659\n",
       "duration   0.890179         0.011391\n",
       "campaign   0.900796         0.000774\n",
       "pdays      0.901460         0.000111\n",
       "previous   0.901349         0.000221\n",
       "poutcome   0.894161         0.007410"
      ]
     },
     "execution_count": 57,
     "metadata": {},
     "output_type": "execute_result"
    }
   ],
   "source": [
    "# Feature names\n",
    "features = df_train.columns.to_list()\n",
    "\n",
    "# Initialize scores and differences\n",
    "scores = []\n",
    "differences = []\n",
    "\n",
    "# Feature elimination\n",
    "for feat in features:\n",
    "    # Accuracy without `feat` as feature\n",
    "    no_feat_score = log_reg_train(elim = True, feature = feat, C = 1)\n",
    "\n",
    "    # Append score\n",
    "    scores += [no_feat_score]\n",
    "\n",
    "    # Append difference\n",
    "    differences += [abs(accuracy - no_feat_score)]\n",
    "\n",
    "# Series for scores and differences\n",
    "scores = pd.Series(scores, index = features, name = \"scores\")\n",
    "differences = pd.Series(differences, index = features, name = \"abs_differences\")\n",
    "\n",
    "# Dataframe with results\n",
    "feat_elim_result = pd.concat([scores, differences], axis = 1)\n",
    "feat_elim_result"
   ]
  },
  {
   "cell_type": "markdown",
   "id": "56d0dc23-1862-4228-86eb-5b9debd30343",
   "metadata": {},
   "source": [
    "The feature with the smallest difference among `age`, `balance`, `marital`, and `previous` is `previous`."
   ]
  },
  {
   "cell_type": "markdown",
   "id": "a7ecfbfd-6505-407a-855f-b7d4d6d4fbc7",
   "metadata": {},
   "source": [
    "### Question 6\n",
    "\n",
    "We will now fine tune our logistic regression model on all the features by searching the best regularization parameter `C` among the list: `[0.01, 0.1, 1, 10, 100]`. The accuracy will be calculated on the validation dataset and rounded to 3 decimal digits."
   ]
  },
  {
   "cell_type": "code",
   "execution_count": 59,
   "id": "ce2366b0-3c94-479d-be78-baa382fe1c70",
   "metadata": {},
   "outputs": [
    {
     "data": {
      "text/plain": [
       "0.01      0.894\n",
       "0.10      0.894\n",
       "1.00      0.894\n",
       "10.00     0.894\n",
       "100.00    0.894\n",
       "Name: parameters_scores, dtype: float64"
      ]
     },
     "execution_count": 59,
     "metadata": {},
     "output_type": "execute_result"
    }
   ],
   "source": [
    "# Parameter list\n",
    "reg_params = [0.01, 0.1, 1, 10, 100]\n",
    "\n",
    "# Initialize scores\n",
    "reg_params_scores = []\n",
    "\n",
    "# Parameter Fine-Tuning\n",
    "for param in reg_params:\n",
    "    # Compute accuracy\n",
    "    param_score = log_reg_train(C = param)\n",
    "\n",
    "    # Append rounded score\n",
    "    reg_params_scores += [round(no_feat_score, 3)]\n",
    "\n",
    "# Series for parameters scores\n",
    "param_scores = pd.Series(reg_params_scores, index = reg_params, name = \"parameters_scores\")\n",
    "param_scores"
   ]
  },
  {
   "cell_type": "markdown",
   "id": "a1062bdc-c9bf-41c4-80f8-1c60e660f918",
   "metadata": {},
   "source": [
    "The smallest `C` leading to the best accuracy on the validation set is `0.01`."
   ]
  },
  {
   "cell_type": "markdown",
   "id": "231e3207-d00c-4cc0-b734-4150add2a711",
   "metadata": {},
   "source": [
    "---"
   ]
  }
 ],
 "metadata": {
  "kernelspec": {
   "display_name": "Python 3 (ipykernel)",
   "language": "python",
   "name": "python3"
  },
  "language_info": {
   "codemirror_mode": {
    "name": "ipython",
    "version": 3
   },
   "file_extension": ".py",
   "mimetype": "text/x-python",
   "name": "python",
   "nbconvert_exporter": "python",
   "pygments_lexer": "ipython3",
   "version": "3.12.4"
  }
 },
 "nbformat": 4,
 "nbformat_minor": 5
}
