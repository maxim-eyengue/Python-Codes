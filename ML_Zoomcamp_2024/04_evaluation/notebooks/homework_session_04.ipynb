{
 "cells": [
  {
   "cell_type": "markdown",
   "id": "ba93408b-d2de-4f9d-b179-561e462ce400",
   "metadata": {},
   "source": [
    "# Session 04 Homework"
   ]
  },
  {
   "cell_type": "markdown",
   "id": "d797aa7d-0262-4ad4-b0bd-09a1097c6af1",
   "metadata": {},
   "source": [
    "The goal of this homework is to create a classification model for determining if a bank client will subscribe a term deposit or not."
   ]
  },
  {
   "cell_type": "code",
   "execution_count": 3,
   "id": "3224c9b4-4149-4266-ba10-6d4c7cb4ee71",
   "metadata": {},
   "outputs": [],
   "source": [
    "# Necessary import\n",
    "import zipfile\n",
    "import numpy as np\n",
    "import pandas as pd\n",
    "import matplotlib.pyplot as plt\n",
    "%matplotlib inline\n",
    "\n",
    "from sklearn.model_selection import train_test_split, KFold\n",
    "from sklearn.feature_extraction import DictVectorizer\n",
    "from sklearn.metrics import roc_auc_score\n",
    "from sklearn.linear_model import LogisticRegression"
   ]
  },
  {
   "cell_type": "markdown",
   "id": "91a1846c-877c-4b77-bcdb-3425e7d664b8",
   "metadata": {},
   "source": [
    "## Get Data\n",
    "We will use the `bank/bank-full.csv` file from the downloaded zip-file of the [Bank Marketing dataset](https://archive.ics.uci.edu/static/public/222/bank+marketing.zip)."
   ]
  },
  {
   "cell_type": "code",
   "execution_count": 5,
   "id": "32d86dde-a5de-455f-8acd-cfac4feb06fd",
   "metadata": {},
   "outputs": [],
   "source": [
    "# zip data url\n",
    "bank_data = \"https://archive.ics.uci.edu/static/public/222/bank+marketing.zip\""
   ]
  },
  {
   "cell_type": "code",
   "execution_count": 6,
   "id": "421501d2-81a8-48be-80a6-7ce8351be6e7",
   "metadata": {},
   "outputs": [],
   "source": [
    "# Get the zip-file\n",
    "!wget $bank_data"
   ]
  },
  {
   "cell_type": "code",
   "execution_count": 7,
   "id": "56be6546-63ae-41c8-91c6-c27df1bfabb0",
   "metadata": {},
   "outputs": [],
   "source": [
    "# Unzip the `bank+marketing.zip` file\n",
    "with zipfile.ZipFile('bank+marketing.zip', 'r') as bank_market:\n",
    "    bank_market.extractall('') # extracting all files to current directory"
   ]
  },
  {
   "cell_type": "markdown",
   "id": "98d66183-41a8-4191-822c-785b3539b4c0",
   "metadata": {},
   "source": [
    "We should first check the files available:"
   ]
  },
  {
   "cell_type": "code",
   "execution_count": 9,
   "id": "51ff5f88-08ae-4609-a2ff-d77fc0a8e8c4",
   "metadata": {},
   "outputs": [
    {
     "name": "stdout",
     "output_type": "stream",
     "text": [
      " Le volume dans le lecteur C n’a pas de nom.\n",
      " Le numéro de série du volume est 2EFA-F61A\n",
      "\n",
      " Répertoire de C:\\Users\\dell\\Videos\\Elearning\\Data Science\\ML_Zoomcamp\\ML_Zoomcamp_2024\\04_evaluation\\notebooks\n",
      "\n",
      "21/10/2024  14:57    <DIR>          .\n",
      "21/10/2024  14:57    <DIR>          ..\n",
      "21/10/2024  14:51    <DIR>          .ipynb_checkpoints\n",
      "21/10/2024  14:57           579 043 bank.zip\n",
      "15/10/2024  11:53         1 023 843 bank+marketing.zip\n",
      "21/10/2024  14:57           444 572 bank-additional.zip\n",
      "18/10/2024  13:21           977 501 data-week-3.csv\n",
      "20/10/2024  17:12           293 814 evaluation_metrics.ipynb\n",
      "21/10/2024  14:55            81 010 homework_session_04.ipynb\n",
      "               6 fichier(s)        3 399 783 octets\n",
      "               3 Rép(s)  374 827 921 408 octets libres\n"
     ]
    }
   ],
   "source": [
    "ls"
   ]
  },
  {
   "cell_type": "markdown",
   "id": "c2467089-ebcf-45ef-b0b1-fd7889129c8d",
   "metadata": {},
   "source": [
    "Now, we can extract the dataset `bank-full.csv` from the `bank.zip` file:"
   ]
  },
  {
   "cell_type": "code",
   "execution_count": 11,
   "id": "c019624e-3e69-4077-b12b-3cb601e3d168",
   "metadata": {},
   "outputs": [],
   "source": [
    "# Extract only the `bank-full.csv` file\n",
    "with zipfile.ZipFile('bank.zip', 'r') as bank:\n",
    "    bank.extract('bank-full.csv', '') # extracting dataset to current directory"
   ]
  },
  {
   "cell_type": "markdown",
   "id": "6c2610fc-ea21-4db9-942d-c02742962885",
   "metadata": {},
   "source": [
    "After extraction, let's read the data:"
   ]
  },
  {
   "cell_type": "code",
   "execution_count": 13,
   "id": "74bf9d22-5440-42f7-92d0-fb9fb8ee4dce",
   "metadata": {
    "scrolled": true
   },
   "outputs": [
    {
     "data": {
      "text/html": [
       "<div>\n",
       "<style scoped>\n",
       "    .dataframe tbody tr th:only-of-type {\n",
       "        vertical-align: middle;\n",
       "    }\n",
       "\n",
       "    .dataframe tbody tr th {\n",
       "        vertical-align: top;\n",
       "    }\n",
       "\n",
       "    .dataframe thead th {\n",
       "        text-align: right;\n",
       "    }\n",
       "</style>\n",
       "<table border=\"1\" class=\"dataframe\">\n",
       "  <thead>\n",
       "    <tr style=\"text-align: right;\">\n",
       "      <th></th>\n",
       "      <th>age</th>\n",
       "      <th>job</th>\n",
       "      <th>marital</th>\n",
       "      <th>education</th>\n",
       "      <th>default</th>\n",
       "      <th>balance</th>\n",
       "      <th>housing</th>\n",
       "      <th>loan</th>\n",
       "      <th>contact</th>\n",
       "      <th>day</th>\n",
       "      <th>month</th>\n",
       "      <th>duration</th>\n",
       "      <th>campaign</th>\n",
       "      <th>pdays</th>\n",
       "      <th>previous</th>\n",
       "      <th>poutcome</th>\n",
       "      <th>y</th>\n",
       "    </tr>\n",
       "  </thead>\n",
       "  <tbody>\n",
       "    <tr>\n",
       "      <th>45208</th>\n",
       "      <td>72</td>\n",
       "      <td>retired</td>\n",
       "      <td>married</td>\n",
       "      <td>secondary</td>\n",
       "      <td>no</td>\n",
       "      <td>5715</td>\n",
       "      <td>no</td>\n",
       "      <td>no</td>\n",
       "      <td>cellular</td>\n",
       "      <td>17</td>\n",
       "      <td>nov</td>\n",
       "      <td>1127</td>\n",
       "      <td>5</td>\n",
       "      <td>184</td>\n",
       "      <td>3</td>\n",
       "      <td>success</td>\n",
       "      <td>yes</td>\n",
       "    </tr>\n",
       "    <tr>\n",
       "      <th>45209</th>\n",
       "      <td>57</td>\n",
       "      <td>blue-collar</td>\n",
       "      <td>married</td>\n",
       "      <td>secondary</td>\n",
       "      <td>no</td>\n",
       "      <td>668</td>\n",
       "      <td>no</td>\n",
       "      <td>no</td>\n",
       "      <td>telephone</td>\n",
       "      <td>17</td>\n",
       "      <td>nov</td>\n",
       "      <td>508</td>\n",
       "      <td>4</td>\n",
       "      <td>-1</td>\n",
       "      <td>0</td>\n",
       "      <td>unknown</td>\n",
       "      <td>no</td>\n",
       "    </tr>\n",
       "    <tr>\n",
       "      <th>45210</th>\n",
       "      <td>37</td>\n",
       "      <td>entrepreneur</td>\n",
       "      <td>married</td>\n",
       "      <td>secondary</td>\n",
       "      <td>no</td>\n",
       "      <td>2971</td>\n",
       "      <td>no</td>\n",
       "      <td>no</td>\n",
       "      <td>cellular</td>\n",
       "      <td>17</td>\n",
       "      <td>nov</td>\n",
       "      <td>361</td>\n",
       "      <td>2</td>\n",
       "      <td>188</td>\n",
       "      <td>11</td>\n",
       "      <td>other</td>\n",
       "      <td>no</td>\n",
       "    </tr>\n",
       "  </tbody>\n",
       "</table>\n",
       "</div>"
      ],
      "text/plain": [
       "       age           job  marital  education default  balance housing loan  \\\n",
       "45208   72       retired  married  secondary      no     5715      no   no   \n",
       "45209   57   blue-collar  married  secondary      no      668      no   no   \n",
       "45210   37  entrepreneur  married  secondary      no     2971      no   no   \n",
       "\n",
       "         contact  day month  duration  campaign  pdays  previous poutcome    y  \n",
       "45208   cellular   17   nov      1127         5    184         3  success  yes  \n",
       "45209  telephone   17   nov       508         4     -1         0  unknown   no  \n",
       "45210   cellular   17   nov       361         2    188        11    other   no  "
      ]
     },
     "execution_count": 13,
     "metadata": {},
     "output_type": "execute_result"
    }
   ],
   "source": [
    "# Read the dataframe\n",
    "df = pd.read_csv(\"bank-full.csv\", sep = \";\")\n",
    "\n",
    "# Three last rows\n",
    "df.tail(3)"
   ]
  },
  {
   "cell_type": "markdown",
   "id": "0b1dc94e-8823-4b0e-8b1f-9f3a637df656",
   "metadata": {},
   "source": [
    "## Data Preparation"
   ]
  },
  {
   "cell_type": "markdown",
   "id": "387201af-9aea-437d-aea7-80bfcd61ff8a",
   "metadata": {},
   "source": [
    "### Target encoding\n",
    "\n",
    "Let's encode the `y` variable, replacing the values *yes*/*no* with *1*/*0*:"
   ]
  },
  {
   "cell_type": "code",
   "execution_count": 16,
   "id": "35c8159f-9a0b-4fa3-bc8f-7a76e1967d97",
   "metadata": {},
   "outputs": [
    {
     "data": {
      "text/html": [
       "<div>\n",
       "<style scoped>\n",
       "    .dataframe tbody tr th:only-of-type {\n",
       "        vertical-align: middle;\n",
       "    }\n",
       "\n",
       "    .dataframe tbody tr th {\n",
       "        vertical-align: top;\n",
       "    }\n",
       "\n",
       "    .dataframe thead th {\n",
       "        text-align: right;\n",
       "    }\n",
       "</style>\n",
       "<table border=\"1\" class=\"dataframe\">\n",
       "  <thead>\n",
       "    <tr style=\"text-align: right;\">\n",
       "      <th></th>\n",
       "      <th>age</th>\n",
       "      <th>job</th>\n",
       "      <th>marital</th>\n",
       "      <th>education</th>\n",
       "      <th>default</th>\n",
       "      <th>balance</th>\n",
       "      <th>housing</th>\n",
       "      <th>loan</th>\n",
       "      <th>contact</th>\n",
       "      <th>day</th>\n",
       "      <th>month</th>\n",
       "      <th>duration</th>\n",
       "      <th>campaign</th>\n",
       "      <th>pdays</th>\n",
       "      <th>previous</th>\n",
       "      <th>poutcome</th>\n",
       "      <th>y</th>\n",
       "    </tr>\n",
       "  </thead>\n",
       "  <tbody>\n",
       "    <tr>\n",
       "      <th>45208</th>\n",
       "      <td>72</td>\n",
       "      <td>retired</td>\n",
       "      <td>married</td>\n",
       "      <td>secondary</td>\n",
       "      <td>no</td>\n",
       "      <td>5715</td>\n",
       "      <td>no</td>\n",
       "      <td>no</td>\n",
       "      <td>cellular</td>\n",
       "      <td>17</td>\n",
       "      <td>nov</td>\n",
       "      <td>1127</td>\n",
       "      <td>5</td>\n",
       "      <td>184</td>\n",
       "      <td>3</td>\n",
       "      <td>success</td>\n",
       "      <td>1</td>\n",
       "    </tr>\n",
       "    <tr>\n",
       "      <th>45209</th>\n",
       "      <td>57</td>\n",
       "      <td>blue-collar</td>\n",
       "      <td>married</td>\n",
       "      <td>secondary</td>\n",
       "      <td>no</td>\n",
       "      <td>668</td>\n",
       "      <td>no</td>\n",
       "      <td>no</td>\n",
       "      <td>telephone</td>\n",
       "      <td>17</td>\n",
       "      <td>nov</td>\n",
       "      <td>508</td>\n",
       "      <td>4</td>\n",
       "      <td>-1</td>\n",
       "      <td>0</td>\n",
       "      <td>unknown</td>\n",
       "      <td>0</td>\n",
       "    </tr>\n",
       "    <tr>\n",
       "      <th>45210</th>\n",
       "      <td>37</td>\n",
       "      <td>entrepreneur</td>\n",
       "      <td>married</td>\n",
       "      <td>secondary</td>\n",
       "      <td>no</td>\n",
       "      <td>2971</td>\n",
       "      <td>no</td>\n",
       "      <td>no</td>\n",
       "      <td>cellular</td>\n",
       "      <td>17</td>\n",
       "      <td>nov</td>\n",
       "      <td>361</td>\n",
       "      <td>2</td>\n",
       "      <td>188</td>\n",
       "      <td>11</td>\n",
       "      <td>other</td>\n",
       "      <td>0</td>\n",
       "    </tr>\n",
       "  </tbody>\n",
       "</table>\n",
       "</div>"
      ],
      "text/plain": [
       "       age           job  marital  education default  balance housing loan  \\\n",
       "45208   72       retired  married  secondary      no     5715      no   no   \n",
       "45209   57   blue-collar  married  secondary      no      668      no   no   \n",
       "45210   37  entrepreneur  married  secondary      no     2971      no   no   \n",
       "\n",
       "         contact  day month  duration  campaign  pdays  previous poutcome  y  \n",
       "45208   cellular   17   nov      1127         5    184         3  success  1  \n",
       "45209  telephone   17   nov       508         4     -1         0  unknown  0  \n",
       "45210   cellular   17   nov       361         2    188        11    other  0  "
      ]
     },
     "execution_count": 16,
     "metadata": {},
     "output_type": "execute_result"
    }
   ],
   "source": [
    "# Encoding `yes`/`no` to numerical values\n",
    "df.y = (df.y == \"yes\").astype(int)\n",
    "\n",
    "# Three last rows\n",
    "df.tail(3)"
   ]
  },
  {
   "cell_type": "markdown",
   "id": "69104cdb-2497-443e-81e1-f769cdb50f92",
   "metadata": {},
   "source": [
    "For the rest of the homework, we'll need only use these columns:\n",
    "* `age`,\n",
    "* `job`,\n",
    "* `marital`,\n",
    "* `education`,\n",
    "* `balance`,\n",
    "* `housing`,\n",
    "* `contact`,\n",
    "* `day`,\n",
    "* `month`,\n",
    "* `duration`,\n",
    "* `campaign`,\n",
    "* `pdays`,\n",
    "* `previous`,\n",
    "* `poutcome`,\n",
    "* `y`\n",
    " \n",
    "Let's subset our dataset:"
   ]
  },
  {
   "cell_type": "code",
   "execution_count": 18,
   "id": "b3de76a6-5f62-4967-af3a-935f0938822d",
   "metadata": {},
   "outputs": [],
   "source": [
    "# Select relevant features\n",
    "subset = [\"age\", \"job\", \"marital\", \"education\", \"balance\", \"housing\", \"contact\", \"day\",\n",
    "          \"month\", \"duration\", \"campaign\", \"pdays\", \"previous\", \"poutcome\", \"y\"]\n",
    "\n",
    "# Create a subset of data\n",
    "df = df[subset]"
   ]
  },
  {
   "cell_type": "markdown",
   "id": "c14695b3-38cc-43ec-8214-e5c7106aaf9b",
   "metadata": {},
   "source": [
    "Let's get info about the data:"
   ]
  },
  {
   "cell_type": "code",
   "execution_count": 20,
   "id": "0698859c-72af-472b-8c1b-a708039e5f73",
   "metadata": {},
   "outputs": [
    {
     "name": "stdout",
     "output_type": "stream",
     "text": [
      "<class 'pandas.core.frame.DataFrame'>\n",
      "RangeIndex: 45211 entries, 0 to 45210\n",
      "Data columns (total 15 columns):\n",
      " #   Column     Non-Null Count  Dtype \n",
      "---  ------     --------------  ----- \n",
      " 0   age        45211 non-null  int64 \n",
      " 1   job        45211 non-null  object\n",
      " 2   marital    45211 non-null  object\n",
      " 3   education  45211 non-null  object\n",
      " 4   balance    45211 non-null  int64 \n",
      " 5   housing    45211 non-null  object\n",
      " 6   contact    45211 non-null  object\n",
      " 7   day        45211 non-null  int64 \n",
      " 8   month      45211 non-null  object\n",
      " 9   duration   45211 non-null  int64 \n",
      " 10  campaign   45211 non-null  int64 \n",
      " 11  pdays      45211 non-null  int64 \n",
      " 12  previous   45211 non-null  int64 \n",
      " 13  poutcome   45211 non-null  object\n",
      " 14  y          45211 non-null  int32 \n",
      "dtypes: int32(1), int64(7), object(7)\n",
      "memory usage: 5.0+ MB\n"
     ]
    }
   ],
   "source": [
    "# Check info\n",
    "df.info()"
   ]
  },
  {
   "cell_type": "markdown",
   "id": "955c026d-7021-4adf-bd11-3b880728b4bc",
   "metadata": {},
   "source": [
    "### Split the data\n",
    "\n",
    " We will split the data into train/val/test sets with 60%/20%/20% distribution using Scikit-Learn (`train_test_split` function) with a seed of `1`:"
   ]
  },
  {
   "cell_type": "code",
   "execution_count": 22,
   "id": "bcd0683d-e979-4179-bffd-976178906402",
   "metadata": {},
   "outputs": [],
   "source": [
    "# Splitting into full train and test\n",
    "df_full_train, df_test = train_test_split(df, test_size = 0.2, random_state = 1)\n",
    "\n",
    "# Splitting into train and test\n",
    "df_train, df_val = train_test_split(df_full_train, test_size = 0.25, random_state = 1)"
   ]
  },
  {
   "cell_type": "code",
   "execution_count": 23,
   "id": "5b03cb94-b5bd-497f-93f9-a69b6f4da09a",
   "metadata": {},
   "outputs": [
    {
     "data": {
      "text/plain": [
       "(27126, 9042, 9043)"
      ]
     },
     "execution_count": 23,
     "metadata": {},
     "output_type": "execute_result"
    }
   ],
   "source": [
    "# Check datasets sizes after splitting\n",
    "len(df_train), len(df_val), len(df_test)"
   ]
  },
  {
   "cell_type": "code",
   "execution_count": 24,
   "id": "c1d00176-a688-4d7c-9ad8-8b9fac82cda7",
   "metadata": {},
   "outputs": [],
   "source": [
    "# Reset indexes\n",
    "df_train = df_train.reset_index(drop = True)\n",
    "df_test = df_test.reset_index(drop = True)\n",
    "df_val = df_val.reset_index(drop = True)"
   ]
  },
  {
   "cell_type": "markdown",
   "id": "804dfcaa-1bcf-4e1e-9a8e-8a12b18cc454",
   "metadata": {},
   "source": [
    "Let's extract the target variable `y` from our dataframe:"
   ]
  },
  {
   "cell_type": "code",
   "execution_count": 26,
   "id": "42af6c6a-6a4d-4846-a84b-7eae98247b2b",
   "metadata": {},
   "outputs": [],
   "source": [
    "# Get the target values\n",
    "y_train = df_train.y.values\n",
    "y_test = df_test.y.values\n",
    "y_val = df_val.y.values\n",
    "\n",
    "# Drop `y` from our data sets\n",
    "del df_train[\"y\"]\n",
    "del df_test[\"y\"]\n",
    "del df_val[\"y\"]"
   ]
  },
  {
   "cell_type": "markdown",
   "id": "3c79e054-afc2-469a-9e93-e7b4f6fb12a7",
   "metadata": {},
   "source": [
    "### Question 1: ROC AUC feature importance\n",
    "\n",
    "We will use ROC AUC to evaluate feature importance of numerical variables. Using the training dataset, we compute the AUC of each numerical variable with the `y` variable as ground truth. If an AUC is < 0.5, we will invert this variable by putting \"-\" in front (e.g. `-df_train['engine_hp']`). Note that AUC can go below 0.5 if the variable is negatively correlated with the target variable. Negating this variable helps change the direction of the correlation for negative correlation to become positive."
   ]
  },
  {
   "cell_type": "code",
   "execution_count": 28,
   "id": "0f7db1bd-612d-4349-88c1-c18d1a3e3677",
   "metadata": {},
   "outputs": [
    {
     "data": {
      "text/plain": [
       "duration    0.815\n",
       "previous    0.599\n",
       "pdays       0.590\n",
       "balance     0.589\n",
       "campaign    0.571\n",
       "day         0.526\n",
       "age         0.512\n",
       "Name: feature_importance, dtype: float64"
      ]
     },
     "execution_count": 28,
     "metadata": {},
     "output_type": "execute_result"
    }
   ],
   "source": [
    "# Numerial features list\n",
    "num_features = df_train.select_dtypes(\"number\").columns.to_list()\n",
    "\n",
    "# Initialize scores\n",
    "feat_imp = []\n",
    "\n",
    "# Get Feature importance using AUC\n",
    "for feat in num_features:\n",
    "    # Compute auc score\n",
    "    feat_auc = roc_auc_score(y_train, df_train[feat])\n",
    "\n",
    "    # Invert variable for low AUC\n",
    "    if feat_auc < 0.5:\n",
    "        feat_auc = roc_auc_score(y_train, -df_train[feat])\n",
    "\n",
    "    # Append rounded score\n",
    "    feat_imp += [round(feat_auc, 3)]\n",
    "\n",
    "# Series for feature importance scores\n",
    "feat_scores = pd.Series(feat_imp, index = num_features, name = \"feature_importance\")\n",
    "\n",
    "# Sorted feature importance\n",
    "feat_scores.sort_values(ascending = False)"
   ]
  },
  {
   "cell_type": "markdown",
   "id": "d6864dbd-0dab-4f36-9009-7ba07f7962c1",
   "metadata": {},
   "source": [
    "The numerical variable among `balance`, `day`, `duration` and `previous` with the highest AUC is `duration`."
   ]
  },
  {
   "cell_type": "markdown",
   "id": "66d36133-f5b1-4bae-a7c8-c1860628d154",
   "metadata": {},
   "source": [
    "### Question 2: Training the model\n",
    "\n",
    "Let's apply one-hot-encoding using `DictVectorizer` and train the logistic regression with these parameters:\n",
    "\n",
    "```python\n",
    "LogisticRegression(solver = 'liblinear', C = 1.0, max_iter = 1000).\n",
    "```\n",
    "\n",
    "To do so, we will define a function for model training and another one, to make predictions."
   ]
  },
  {
   "cell_type": "code",
   "execution_count": 31,
   "id": "62b8509f-e6ab-4b41-9c11-8f802b5e5c56",
   "metadata": {},
   "outputs": [],
   "source": [
    "# Function for training a logistic regression model\n",
    "def train(df_train, y_train, C = 1.0):\n",
    "    # Convert data to list of dictionaries\n",
    "    dicts = df_train.to_dict(orient = 'records')\n",
    "\n",
    "    # Initialize One-Hot-Encoder\n",
    "    One_Hot_Enc = DictVectorizer(sparse = False)\n",
    "    # One-Hot-Encoding\n",
    "    X_train = One_Hot_Enc.fit_transform(dicts)\n",
    "\n",
    "    # Initialize Logistic Regression model\n",
    "    logistic_model = LogisticRegression(solver = 'liblinear', C = C, max_iter = 1000)\n",
    "    # Model training\n",
    "    logistic_model.fit(X_train, y_train)\n",
    "\n",
    "    # return logistic regression model and One-Hot-Encoder\n",
    "    return One_Hot_Enc, logistic_model\n",
    "\n",
    "# Function to make predictions\n",
    "def predict(df, One_Hot_Enc, logistic_model):\n",
    "    # Convert data to list of dictionaries\n",
    "    dicts = df.to_dict(orient = 'records')\n",
    "\n",
    "    # One-Hot-Encoding\n",
    "    X = One_Hot_Enc.transform(dicts)\n",
    "    # Make soft predictions\n",
    "    y_pred = logistic_model.predict_proba(X)[:, 1]\n",
    "\n",
    "    # return predictions\n",
    "    return y_pred"
   ]
  },
  {
   "cell_type": "code",
   "execution_count": 32,
   "id": "480344e7-aa1d-4753-844d-112109faa356",
   "metadata": {},
   "outputs": [
    {
     "data": {
      "text/plain": [
       "0.9"
      ]
     },
     "execution_count": 32,
     "metadata": {},
     "output_type": "execute_result"
    }
   ],
   "source": [
    "# Model training\n",
    "One_Hot_Enc, logistic_model = train(df_train, y_train)\n",
    "\n",
    "# Make soft predictions\n",
    "y_pred = predict(df_val, One_Hot_Enc, logistic_model)\n",
    "y_pred\n",
    "\n",
    "# Rounded AUC score\n",
    "round(roc_auc_score(y_val, y_pred), 3)"
   ]
  },
  {
   "cell_type": "markdown",
   "id": "5a2106b4-f607-4fe9-bfe3-5d713925807e",
   "metadata": {},
   "source": [
    "The rounded AUC of this model on the validation dataset is `0.89`."
   ]
  },
  {
   "cell_type": "markdown",
   "id": "ccbeef9b-bb64-4fa0-a6bb-c6b46c8dfe62",
   "metadata": {},
   "source": [
    "### Question 3: Precision and Recall\n",
    "\n",
    "Now let's compute precision and recall for our model. We first evaluate the model on all thresholds from 0.0 to 1.0 with step 0.01, and for each threshold, we compute precision and recall. We will define a function for that and finaly, we plot all scores."
   ]
  },
  {
   "cell_type": "code",
   "execution_count": 35,
   "id": "ec0c26e3-5d93-49d6-b87b-c907fabfc83c",
   "metadata": {},
   "outputs": [],
   "source": [
    "# Function for returning a model precision and recall scores\n",
    "def tpr_fpr_dataframe(y_val, y_pred):\n",
    "    # Initialize scores\n",
    "    scores = []\n",
    "\n",
    "    # List of thresholds\n",
    "    thresholds = np.linspace(0, 1, 101)\n",
    "\n",
    "    # Tuning with possible thresholds\n",
    "    for t in thresholds:\n",
    "        # Real values\n",
    "        actual_positive = (y_val == 1)\n",
    "        actual_negative = (y_val == 0)\n",
    "\n",
    "        # Model's predictions\n",
    "        predict_positive = (y_pred >= t)\n",
    "        predict_negative = (y_pred < t)\n",
    "\n",
    "        # Count of true positives (tp) and true negatives (tn)\n",
    "        tp = (predict_positive & actual_positive).sum()\n",
    "        tn = (predict_negative & actual_negative).sum()\n",
    "\n",
    "        # Count of false positives (fp) and false negatives (fn)\n",
    "        fp = (predict_positive & actual_negative).sum()\n",
    "        fn = (predict_negative & actual_positive).sum()\n",
    "\n",
    "        # Store scores\n",
    "        scores.append((tp, fp, fn, tn))\n",
    "\n",
    "    # Columns names\n",
    "    columns = ['tp', 'fp', 'fn', 'tn']\n",
    "    # Create dataframe for storing results\n",
    "    df_scores = pd.DataFrame(scores, columns = columns, index = thresholds)\n",
    "    \n",
    "    # Compute precision and recall metrics\n",
    "    df_scores['precision'] = df_scores.tp / (df_scores.tp + df_scores.fp)\n",
    "    df_scores['recall'] = df_scores.tp / (df_scores.tp + df_scores.fn)\n",
    "\n",
    "    # return result\n",
    "    return df_scores"
   ]
  },
  {
   "cell_type": "code",
   "execution_count": 36,
   "id": "94ab395e-3f6c-41e0-a65f-ae6f9180ede1",
   "metadata": {},
   "outputs": [
    {
     "data": {
      "text/html": [
       "<div>\n",
       "<style scoped>\n",
       "    .dataframe tbody tr th:only-of-type {\n",
       "        vertical-align: middle;\n",
       "    }\n",
       "\n",
       "    .dataframe tbody tr th {\n",
       "        vertical-align: top;\n",
       "    }\n",
       "\n",
       "    .dataframe thead th {\n",
       "        text-align: right;\n",
       "    }\n",
       "</style>\n",
       "<table border=\"1\" class=\"dataframe\">\n",
       "  <thead>\n",
       "    <tr style=\"text-align: right;\">\n",
       "      <th></th>\n",
       "      <th>tp</th>\n",
       "      <th>fp</th>\n",
       "      <th>fn</th>\n",
       "      <th>tn</th>\n",
       "      <th>precision</th>\n",
       "      <th>recall</th>\n",
       "    </tr>\n",
       "  </thead>\n",
       "  <tbody>\n",
       "    <tr>\n",
       "      <th>0.0</th>\n",
       "      <td>1098</td>\n",
       "      <td>7944</td>\n",
       "      <td>0</td>\n",
       "      <td>0</td>\n",
       "      <td>0.121433</td>\n",
       "      <td>1.000000</td>\n",
       "    </tr>\n",
       "    <tr>\n",
       "      <th>0.1</th>\n",
       "      <td>926</td>\n",
       "      <td>1494</td>\n",
       "      <td>172</td>\n",
       "      <td>6450</td>\n",
       "      <td>0.382645</td>\n",
       "      <td>0.843352</td>\n",
       "    </tr>\n",
       "    <tr>\n",
       "      <th>0.2</th>\n",
       "      <td>711</td>\n",
       "      <td>691</td>\n",
       "      <td>387</td>\n",
       "      <td>7253</td>\n",
       "      <td>0.507133</td>\n",
       "      <td>0.647541</td>\n",
       "    </tr>\n",
       "    <tr>\n",
       "      <th>0.3</th>\n",
       "      <td>565</td>\n",
       "      <td>412</td>\n",
       "      <td>533</td>\n",
       "      <td>7532</td>\n",
       "      <td>0.578301</td>\n",
       "      <td>0.514572</td>\n",
       "    </tr>\n",
       "    <tr>\n",
       "      <th>0.4</th>\n",
       "      <td>459</td>\n",
       "      <td>273</td>\n",
       "      <td>639</td>\n",
       "      <td>7671</td>\n",
       "      <td>0.627049</td>\n",
       "      <td>0.418033</td>\n",
       "    </tr>\n",
       "    <tr>\n",
       "      <th>0.5</th>\n",
       "      <td>371</td>\n",
       "      <td>193</td>\n",
       "      <td>727</td>\n",
       "      <td>7751</td>\n",
       "      <td>0.657801</td>\n",
       "      <td>0.337887</td>\n",
       "    </tr>\n",
       "    <tr>\n",
       "      <th>0.6</th>\n",
       "      <td>290</td>\n",
       "      <td>137</td>\n",
       "      <td>808</td>\n",
       "      <td>7807</td>\n",
       "      <td>0.679157</td>\n",
       "      <td>0.264117</td>\n",
       "    </tr>\n",
       "    <tr>\n",
       "      <th>0.7</th>\n",
       "      <td>224</td>\n",
       "      <td>102</td>\n",
       "      <td>874</td>\n",
       "      <td>7842</td>\n",
       "      <td>0.687117</td>\n",
       "      <td>0.204007</td>\n",
       "    </tr>\n",
       "    <tr>\n",
       "      <th>0.8</th>\n",
       "      <td>148</td>\n",
       "      <td>69</td>\n",
       "      <td>950</td>\n",
       "      <td>7875</td>\n",
       "      <td>0.682028</td>\n",
       "      <td>0.134791</td>\n",
       "    </tr>\n",
       "    <tr>\n",
       "      <th>0.9</th>\n",
       "      <td>77</td>\n",
       "      <td>28</td>\n",
       "      <td>1021</td>\n",
       "      <td>7916</td>\n",
       "      <td>0.733333</td>\n",
       "      <td>0.070128</td>\n",
       "    </tr>\n",
       "    <tr>\n",
       "      <th>1.0</th>\n",
       "      <td>0</td>\n",
       "      <td>0</td>\n",
       "      <td>1098</td>\n",
       "      <td>7944</td>\n",
       "      <td>NaN</td>\n",
       "      <td>0.000000</td>\n",
       "    </tr>\n",
       "  </tbody>\n",
       "</table>\n",
       "</div>"
      ],
      "text/plain": [
       "       tp    fp    fn    tn  precision    recall\n",
       "0.0  1098  7944     0     0   0.121433  1.000000\n",
       "0.1   926  1494   172  6450   0.382645  0.843352\n",
       "0.2   711   691   387  7253   0.507133  0.647541\n",
       "0.3   565   412   533  7532   0.578301  0.514572\n",
       "0.4   459   273   639  7671   0.627049  0.418033\n",
       "0.5   371   193   727  7751   0.657801  0.337887\n",
       "0.6   290   137   808  7807   0.679157  0.264117\n",
       "0.7   224   102   874  7842   0.687117  0.204007\n",
       "0.8   148    69   950  7875   0.682028  0.134791\n",
       "0.9    77    28  1021  7916   0.733333  0.070128\n",
       "1.0     0     0  1098  7944        NaN  0.000000"
      ]
     },
     "execution_count": 36,
     "metadata": {},
     "output_type": "execute_result"
    }
   ],
   "source": [
    "# Dataframe result\n",
    "df_results = tpr_fpr_dataframe(y_val, y_pred)\n",
    "\n",
    "# See some values (skipping 10 observations each time)\n",
    "df_results[ : : 10]"
   ]
  },
  {
   "cell_type": "code",
   "execution_count": 37,
   "id": "6fd32130-654b-48b0-ba2a-833ee8d0f5b8",
   "metadata": {},
   "outputs": [
    {
     "data": {
      "image/png": "[encoded data removed]",
      "text/plain": [
       "<Figure size 640x480 with 1 Axes>"
      ]
     },
     "metadata": {},
     "output_type": "display_data"
    }
   ],
   "source": [
    "# Plot model precision score\n",
    "plt.plot(df_results.index, df_results.precision, label = 'Precision')\n",
    "# Plot model recall score\n",
    "plt.plot(df_results.index, df_results.recall, label = 'Recall')\n",
    "\n",
    "# Intersection line\n",
    "plt.axvline(x = 0.265, color = \"black\", label = \"Threshold Cut\")\n",
    "\n",
    "# Title\n",
    "plt.title(\"Model Scores vs Thresholds\")\n",
    "# legend\n",
    "plt.legend();"
   ]
  },
  {
   "cell_type": "markdown",
   "id": "606851c0-577f-440c-aad9-80b67240952d",
   "metadata": {},
   "source": [
    "The threshold at which precision and recall curves intersect is `0.265`."
   ]
  },
  {
   "cell_type": "markdown",
   "id": "57b7b534-5ac6-43e6-a9a6-aff85862049a",
   "metadata": {},
   "source": [
    "### Question 4: F1 score\n",
    "\n",
    "Precision and recall are conflicting - when one grows, the other goes down. That's why they are often combined into the F1 score - a metrics that takes into account both. This is the formula for computing F1:\n",
    "\n",
    "$$F_1 = 2 \\cdot \\cfrac{P \\cdot R}{P + R}$$\n",
    "\n",
    "Where $P$ is precision and $R$ is recall.\n",
    "\n",
    "Let's compute F1 for all thresholds from 0.0 to 1.0 with increment 0.01:"
   ]
  },
  {
   "cell_type": "code",
   "execution_count": 40,
   "id": "cdca45fd-f5fd-432c-82d5-aba673c08f7e",
   "metadata": {},
   "outputs": [
    {
     "data": {
      "text/plain": [
       "0.22"
      ]
     },
     "execution_count": 40,
     "metadata": {},
     "output_type": "execute_result"
    }
   ],
   "source": [
    "# Compute F1 scores\n",
    "df_results[\"F1_score\"] = 2 * (df_results.precision * df_results.recall) / (df_results.precision + df_results.recall)\n",
    "\n",
    "# Get the threshold with the maximum F1 score\n",
    "df_results[\"F1_score\"].idxmax()"
   ]
  },
  {
   "cell_type": "markdown",
   "id": "313a3ee9-2a4c-45ba-b11a-19a02c46a0d6",
   "metadata": {},
   "source": [
    "The threshold at which F1 is maximal is `0.22`."
   ]
  },
  {
   "cell_type": "markdown",
   "id": "6aff01cd-f005-4e29-bd33-989b84ee3c5c",
   "metadata": {},
   "source": [
    "### Question 5: 5-Fold CV\n",
    "\n",
    "Let's use the `KFold` class from Scikit-Learn to evaluate our model on 5 different folds:\n",
    "\n",
    "```\n",
    "KFold(n_splits = 5, shuffle = True, random_state = 1)\n",
    "```\n",
    "We will iterate over different folds of `df_full_train`, splitting the data into train and validation, to train the model on the training set with the following parameters: `LogisticRegression(solver = 'liblinear', C = 1.0, max_iter = 1000)` and evaluate it on validation set with AUC."
   ]
  },
  {
   "cell_type": "code",
   "execution_count": 43,
   "id": "ef9a6d7b-9089-4a7f-bc0f-4333e2105ffc",
   "metadata": {},
   "outputs": [
    {
     "name": "stdout",
     "output_type": "stream",
     "text": [
      "std = +- 0.005\n"
     ]
    }
   ],
   "source": [
    "# Number of splits\n",
    "n_splits = 5\n",
    "\n",
    "# Kfold cross-validation\n",
    "kfold = KFold(n_splits = n_splits, shuffle = True, random_state = 1)\n",
    "\n",
    "# Initialize scores\n",
    "scores = []\n",
    "\n",
    "# For each iteration of K-fold split and the pair of indexes generated\n",
    "for train_idx, val_idx in kfold.split(df_full_train):\n",
    "    # Select train and validation data\n",
    "    df_train = df_full_train.iloc[train_idx]\n",
    "    df_val = df_full_train.iloc[val_idx]\n",
    "\n",
    "    # Select target variables\n",
    "    y_train = df_train.y.values\n",
    "    y_val = df_val.y.values\n",
    "\n",
    "    # Drop leakage variables (targets)\n",
    "    df_train = df_train.drop(columns = \"y\")\n",
    "    df_val = df_val.drop(columns = \"y\")\n",
    "    \n",
    "    # Train model\n",
    "    One_Hot_Enc, logistic_model = train(df_train, y_train)\n",
    "    # Make predictions\n",
    "    y_pred = predict(df_val, One_Hot_Enc, logistic_model)\n",
    "\n",
    "    # Get score\n",
    "    auc = roc_auc_score(y_val, y_pred)\n",
    "    # Store score\n",
    "    scores.append(auc)\n",
    "\n",
    "# Print scores' standard deviation\n",
    "print('std = +- %.3f' % np.std(scores))"
   ]
  },
  {
   "cell_type": "markdown",
   "id": "d49f780e-baf5-4e1e-9b08-385955bc0615",
   "metadata": {},
   "source": [
    "The standard deviation of the scores across different folds is approximately `0.006`."
   ]
  },
  {
   "cell_type": "markdown",
   "id": "a7ecfbfd-6505-407a-855f-b7d4d6d4fbc7",
   "metadata": {},
   "source": [
    "### Question 6: Hyperparameter Tuning\n",
    "\n",
    "Now let's use 5-Fold cross-validation to find the best parameter `C`. We will iterate over the following `C` values: `[0.000001, 0.001, 1]`, initializing `KFold` with the same parameters as previously,  and using these parameters for the model: `LogisticRegression(solver = 'liblinear', C = C, max_iter = 1000)`, to compute the rounded mean score as well as the rounded std."
   ]
  },
  {
   "cell_type": "code",
   "execution_count": 46,
   "id": "768b3639-8fef-498b-a055-98e4f376abcb",
   "metadata": {},
   "outputs": [
    {
     "name": "stdout",
     "output_type": "stream",
     "text": [
      "C = 1e-06, mean = 0.701, std = +- 0.009\n",
      "C = 0.001, mean = 0.861, std = +- 0.007\n",
      "C = 1, mean = 0.906, std = +- 0.005\n"
     ]
    }
   ],
   "source": [
    "# Number of splits\n",
    "n_splits = 5\n",
    "\n",
    "# List of parameters\n",
    "tun_params = [0.000001, 0.001, 1]\n",
    "\n",
    "# Parameter (C -> regularization) fine-tuning\n",
    "for C in tun_params:\n",
    "    # Kfold cross-validation\n",
    "    kfold = KFold(n_splits = n_splits, shuffle = True, random_state = 1)\n",
    "\n",
    "    # Initialize scores\n",
    "    scores = []\n",
    "\n",
    "    # For each iteration of K-fold split and the pair of indexes generated\n",
    "    for train_idx, val_idx in kfold.split(df_full_train):\n",
    "        # Select train and validation data\n",
    "        df_train = df_full_train.iloc[train_idx]\n",
    "        df_val = df_full_train.iloc[val_idx]\n",
    "    \n",
    "        # Select target variables\n",
    "        y_train = df_train.y.values\n",
    "        y_val = df_val.y.values\n",
    "    \n",
    "        # Drop leakage variables (targets)\n",
    "        df_train = df_train.drop(columns = \"y\")\n",
    "        df_val = df_val.drop(columns = \"y\")\n",
    "        \n",
    "        # Train model\n",
    "        One_Hot_Enc, logistic_model = train(df_train, y_train, C = C)\n",
    "        # Make predictions\n",
    "        y_pred = predict(df_val, One_Hot_Enc, logistic_model)\n",
    "    \n",
    "        # Get score\n",
    "        auc = roc_auc_score(y_val, y_pred)\n",
    "        # Store score\n",
    "        scores.append(auc)\n",
    "\n",
    "    # Print results\n",
    "    print('C = %s, mean = %.3f, std = +- %.3f' % (C, np.mean(scores), np.std(scores)))"
   ]
  },
  {
   "cell_type": "markdown",
   "id": "59adec22-15ae-4c1c-9cbe-aeb4d464c7fc",
   "metadata": {},
   "source": [
    "The `C` leading to the best mean score is `1`."
   ]
  },
  {
   "cell_type": "markdown",
   "id": "231e3207-d00c-4cc0-b734-4150add2a711",
   "metadata": {},
   "source": [
    "---"
   ]
  }
 ],
 "metadata": {
  "kernelspec": {
   "display_name": "Python 3 (ipykernel)",
   "language": "python",
   "name": "python3"
  },
  "language_info": {
   "codemirror_mode": {
    "name": "ipython",
    "version": 3
   },
   "file_extension": ".py",
   "mimetype": "text/x-python",
   "name": "python",
   "nbconvert_exporter": "python",
   "pygments_lexer": "ipython3",
   "version": "3.12.4"
  }
 },
 "nbformat": 4,
 "nbformat_minor": 5
}
