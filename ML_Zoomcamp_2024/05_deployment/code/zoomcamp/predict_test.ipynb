{
 "cells": [
  {
   "cell_type": "markdown",
   "id": "d5ae7b86-8345-44ef-9f66-87c9d1a51916",
   "metadata": {},
   "source": [
    "# Churn & Marketing Services Interaction"
   ]
  },
  {
   "cell_type": "code",
   "execution_count": 5,
   "id": "56a0aee9-63e4-4745-ac38-c4bd87dab66e",
   "metadata": {},
   "outputs": [],
   "source": [
    "# import necessary library\n",
    "import requests"
   ]
  },
  {
   "cell_type": "code",
   "execution_count": 8,
   "id": "6ceef527-97f8-4d71-a34e-7f708cb261c2",
   "metadata": {},
   "outputs": [],
   "source": [
    "# url address for making predictions\n",
    "url = \"http://localhost:9696/predict\""
   ]
  },
  {
   "cell_type": "code",
   "execution_count": 44,
   "id": "5a8b1696-0f83-4e7d-87de-25edadbd6697",
   "metadata": {},
   "outputs": [],
   "source": [
    "# New customer information\n",
    "customer = {\n",
    "    \"gender\": \"female\",\n",
    "    \"seniorcitizen\": 0,\n",
    "    \"partner\": \"yes\",\n",
    "    \"dependents\": \"no\",\n",
    "    \"phoneservice\": \"no\",\n",
    "    \"multiplelines\": \"no_phone_service\",\n",
    "    \"internetservice\": \"dsl\",\n",
    "    \"onlinesecurity\": \"no\",\n",
    "    \"onlinebackup\": \"yes\",\n",
    "    \"deviceprotection\": \"no\",\n",
    "    \"techsupport\": \"no\",\n",
    "    \"streamingtv\": \"no\",\n",
    "    \"streamingmovies\": \"no\",\n",
    "    \"contract\": \"month-to-month\",\n",
    "    \"paperlessbilling\": \"yes\",\n",
    "    \"paymentmethod\": \"electronic_check\",\n",
    "    \"tenure\": 24,\n",
    "    \"monthlycharges\": 29.85,\n",
    "    \"totalcharges\": 24 * 29.85\n",
    "}"
   ]
  },
  {
   "cell_type": "code",
   "execution_count": 17,
   "id": "91317918-c631-4449-b320-743244dd8c55",
   "metadata": {},
   "outputs": [
    {
     "data": {
      "text/plain": [
       "<Response [500]>"
      ]
     },
     "execution_count": 17,
     "metadata": {},
     "output_type": "execute_result"
    }
   ],
   "source": [
    "# send a request for making predictions\n",
    "requests.post(url, json = customer)"
   ]
  },
  {
   "cell_type": "markdown",
   "id": "2b9e459b-a82c-4fa1-af2a-473551412135",
   "metadata": {},
   "source": [
    "The `response [500]` is an error. It says an object of type `bool_` is not JSON serializable. It happens because `JSON` does not knonw how to turn `bool_` from `numpy` into text but it does with usual `python` `bool` type objects.\n",
    "\n",
    "We will make changes converting outputs from `numpy` objects to `python` one and as the app is run in debug mode, the changes will be detected and automatically updated."
   ]
  },
  {
   "cell_type": "code",
   "execution_count": 46,
   "id": "9b12c56d-8372-4911-a427-54d6a107052f",
   "metadata": {},
   "outputs": [
    {
     "data": {
      "text/plain": [
       "<Response [200]>"
      ]
     },
     "execution_count": 46,
     "metadata": {},
     "output_type": "execute_result"
    }
   ],
   "source": [
    "# send a request for making predictions\n",
    "response = requests.post(url, json = customer)\n",
    "response"
   ]
  },
  {
   "cell_type": "markdown",
   "id": "7d02e8a0-6357-42a0-9e28-d91869727033",
   "metadata": {},
   "source": [
    "Now the response is successfull."
   ]
  },
  {
   "cell_type": "code",
   "execution_count": 48,
   "id": "10b67159-2b15-4856-b2dd-67b7ab659e98",
   "metadata": {},
   "outputs": [
    {
     "data": {
      "text/plain": [
       "{'churn': False, 'churn_probability': 0.33982853481307984}"
      ]
     },
     "execution_count": 48,
     "metadata": {},
     "output_type": "execute_result"
    }
   ],
   "source": [
    "# Turn the request content into a python dictionary\n",
    "response = response.json()\n",
    "response"
   ]
  },
  {
   "cell_type": "markdown",
   "id": "463b4620-6319-46c9-9ea2-108612ac4aa2",
   "metadata": {},
   "source": [
    "The marketing service can add something as follow to automatically send mail when needed:"
   ]
  },
  {
   "cell_type": "code",
   "execution_count": 51,
   "id": "acab5e20-0442-40b7-85c7-0b4c5693a2bd",
   "metadata": {},
   "outputs": [],
   "source": [
    "# Send a promotional email if necessary\n",
    "if response['churn']:\n",
    "    print('sending email to', 'asdx-123d')"
   ]
  },
  {
   "cell_type": "markdown",
   "id": "547344f0-f80b-494f-92a3-8e8b759fd0a8",
   "metadata": {},
   "source": [
    "---"
   ]
  }
 ],
 "metadata": {
  "kernelspec": {
   "display_name": "Python 3 (ipykernel)",
   "language": "python",
   "name": "python3"
  },
  "language_info": {
   "codemirror_mode": {
    "name": "ipython",
    "version": 3
   },
   "file_extension": ".py",
   "mimetype": "text/x-python",
   "name": "python",
   "nbconvert_exporter": "python",
   "pygments_lexer": "ipython3",
   "version": "3.12.4"
  }
 },
 "nbformat": 4,
 "nbformat_minor": 5
}
