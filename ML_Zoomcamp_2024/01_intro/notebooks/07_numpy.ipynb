{
 "cells": [
  {
   "cell_type": "markdown",
   "id": "502da6a2",
   "metadata": {},
   "source": [
    "# Machine Learning Zoomcamp\n",
    "\n",
    "\n",
    "## 1.7 Introduction to NumPy\n",
    "\n",
    "\n",
    "Plan:\n",
    "\n",
    "* Creating arrays\n",
    "* Multi-dimensional arrays\n",
    "* Randomly generated arrays\n",
    "* Element-wise operations\n",
    "    * Comparison operations\n",
    "    * Logical operations\n",
    "* Summarizing operations"
   ]
  },
  {
   "cell_type": "code",
   "execution_count": 1,
   "id": "95aa5b76",
   "metadata": {},
   "outputs": [],
   "source": [
    "# import numpy package\n",
    "import numpy as np"
   ]
  },
  {
   "cell_type": "code",
   "execution_count": 4,
   "id": "aa693c84",
   "metadata": {},
   "outputs": [
    {
     "data": {
      "text/plain": [
       "<module 'numpy' from 'C:\\\\Users\\\\dell\\\\anaconda3\\\\envs\\\\ml-zoomcamp\\\\Lib\\\\site-packages\\\\numpy\\\\__init__.py'>"
      ]
     },
     "execution_count": 4,
     "metadata": {},
     "output_type": "execute_result"
    }
   ],
   "source": [
    "# the alias `np` is a convention for numpy\n",
    "np"
   ]
  },
  {
   "cell_type": "markdown",
   "id": "1e3ff2dc",
   "metadata": {},
   "source": [
    "## Creating arrays\n"
   ]
  },
  {
   "cell_type": "code",
   "execution_count": 5,
   "id": "783c3362",
   "metadata": {},
   "outputs": [
    {
     "data": {
      "text/plain": [
       "array([0., 0., 0., 0., 0., 0., 0., 0., 0., 0.])"
      ]
     },
     "execution_count": 5,
     "metadata": {},
     "output_type": "execute_result"
    }
   ],
   "source": [
    "# Array of zeros\n",
    "np.zeros(10)"
   ]
  },
  {
   "cell_type": "code",
   "execution_count": 6,
   "id": "2fc75d89",
   "metadata": {},
   "outputs": [
    {
     "data": {
      "text/plain": [
       "array([1., 1., 1., 1., 1., 1., 1., 1., 1., 1.])"
      ]
     },
     "execution_count": 6,
     "metadata": {},
     "output_type": "execute_result"
    }
   ],
   "source": [
    "# Array of ones\n",
    "np.ones(10)"
   ]
  },
  {
   "cell_type": "code",
   "execution_count": 7,
   "id": "5183483b",
   "metadata": {},
   "outputs": [
    {
     "data": {
      "text/plain": [
       "array([2.5, 2.5, 2.5, 2.5, 2.5, 2.5, 2.5, 2.5, 2.5, 2.5])"
      ]
     },
     "execution_count": 7,
     "metadata": {},
     "output_type": "execute_result"
    }
   ],
   "source": [
    "# Array of a particular size filled with a number\n",
    "np.full(10, 2.5)"
   ]
  },
  {
   "cell_type": "code",
   "execution_count": 15,
   "id": "fe81664d",
   "metadata": {},
   "outputs": [
    {
     "data": {
      "text/plain": [
       "array([ 1,  2,  3,  5,  7, 12])"
      ]
     },
     "execution_count": 15,
     "metadata": {},
     "output_type": "execute_result"
    }
   ],
   "source": [
    "# Create an area from a list and store in a variable\n",
    "a = np.array([1, 2, 3, 5, 7, 12])\n",
    "a"
   ]
  },
  {
   "cell_type": "code",
   "execution_count": 17,
   "id": "dee26035",
   "metadata": {},
   "outputs": [],
   "source": [
    "# Change an element of an array\n",
    "a[2] = 10"
   ]
  },
  {
   "cell_type": "code",
   "execution_count": 18,
   "id": "0cf95a0f",
   "metadata": {},
   "outputs": [
    {
     "data": {
      "text/plain": [
       "array([ 1,  2, 10,  5,  7, 12])"
      ]
     },
     "execution_count": 18,
     "metadata": {},
     "output_type": "execute_result"
    }
   ],
   "source": [
    "# Visualize the array\n",
    "a"
   ]
  },
  {
   "cell_type": "code",
   "execution_count": 8,
   "id": "9a579406",
   "metadata": {},
   "outputs": [
    {
     "data": {
      "text/plain": [
       "array([3, 4, 5, 6, 7, 8, 9])"
      ]
     },
     "execution_count": 8,
     "metadata": {},
     "output_type": "execute_result"
    }
   ],
   "source": [
    "# Create an array from 3 (inclusive) to 10 (exclusive)\n",
    "np.arange(3, 10)"
   ]
  },
  {
   "cell_type": "code",
   "execution_count": 9,
   "id": "96260ddb",
   "metadata": {},
   "outputs": [
    {
     "data": {
      "text/plain": [
       "array([  0.,  10.,  20.,  30.,  40.,  50.,  60.,  70.,  80.,  90., 100.])"
      ]
     },
     "execution_count": 9,
     "metadata": {},
     "output_type": "execute_result"
    }
   ],
   "source": [
    "# Create an area from 0 to 100, with a size 11\n",
    "np.linspace(0, 100, 11)"
   ]
  },
  {
   "cell_type": "markdown",
   "id": "37f36946",
   "metadata": {},
   "source": [
    "## Multi-dimensional arrays\n"
   ]
  },
  {
   "cell_type": "code",
   "execution_count": 25,
   "id": "b4a61c53",
   "metadata": {},
   "outputs": [
    {
     "data": {
      "text/plain": [
       "array([[0., 0.],\n",
       "       [0., 0.],\n",
       "       [0., 0.],\n",
       "       [0., 0.],\n",
       "       [0., 0.]])"
      ]
     },
     "execution_count": 25,
     "metadata": {},
     "output_type": "execute_result"
    }
   ],
   "source": [
    "# Two-dimensional array of 5 rows and 2 columns filled with zeros\n",
    "np.zeros((5, 2))"
   ]
  },
  {
   "cell_type": "code",
   "execution_count": 11,
   "id": "4f75f854",
   "metadata": {},
   "outputs": [],
   "source": [
    "# Two dimensional array of three rows and three columns\n",
    "n = np.array([\n",
    "    [1, 2, 3],\n",
    "    [4, 5, 6],\n",
    "    [7, 8, 9]\n",
    "])"
   ]
  },
  {
   "cell_type": "code",
   "execution_count": 13,
   "id": "619860f6",
   "metadata": {},
   "outputs": [],
   "source": [
    "# Change the value at the first row and the second column\n",
    "n[0, 1] = 20"
   ]
  },
  {
   "cell_type": "code",
   "execution_count": 16,
   "id": "54333fc7",
   "metadata": {},
   "outputs": [
    {
     "data": {
      "text/plain": [
       "array([[ 1, 20,  3],\n",
       "       [ 4,  5,  6],\n",
       "       [ 7,  8,  9]])"
      ]
     },
     "execution_count": 16,
     "metadata": {},
     "output_type": "execute_result"
    }
   ],
   "source": [
    "# Visualize the result\n",
    "n"
   ]
  },
  {
   "cell_type": "code",
   "execution_count": 17,
   "id": "57eef634",
   "metadata": {},
   "outputs": [],
   "source": [
    "# Rewrite the third row\n",
    "n[2] = [1, 1, 1]"
   ]
  },
  {
   "cell_type": "code",
   "execution_count": 18,
   "id": "b3fa6ae7",
   "metadata": {},
   "outputs": [
    {
     "data": {
      "text/plain": [
       "array([[ 1, 20,  3],\n",
       "       [ 4,  5,  6],\n",
       "       [ 1,  1,  1]])"
      ]
     },
     "execution_count": 18,
     "metadata": {},
     "output_type": "execute_result"
    }
   ],
   "source": [
    "# Check the array\n",
    "n"
   ]
  },
  {
   "cell_type": "code",
   "execution_count": 19,
   "id": "42f1d1f4",
   "metadata": {},
   "outputs": [],
   "source": [
    "# Rewrite the third column\n",
    "n[:, 2] = [0, 1, 2]"
   ]
  },
  {
   "cell_type": "code",
   "execution_count": 20,
   "id": "13442277",
   "metadata": {},
   "outputs": [
    {
     "data": {
      "text/plain": [
       "array([[ 1, 20,  0],\n",
       "       [ 4,  5,  1],\n",
       "       [ 1,  1,  2]])"
      ]
     },
     "execution_count": 20,
     "metadata": {},
     "output_type": "execute_result"
    }
   ],
   "source": [
    "# Check the result\n",
    "n"
   ]
  },
  {
   "cell_type": "markdown",
   "id": "62ba6337",
   "metadata": {},
   "source": [
    "## Randomly generated arrays\n"
   ]
  },
  {
   "cell_type": "code",
   "execution_count": 21,
   "id": "6781ff11",
   "metadata": {},
   "outputs": [
    {
     "data": {
      "text/plain": [
       "array([[43.59949021,  2.59262318],\n",
       "       [54.96624779, 43.53223926],\n",
       "       [42.03678021, 33.0334821 ],\n",
       "       [20.4648634 , 61.92709664],\n",
       "       [29.96546737, 26.68272751]])"
      ]
     },
     "execution_count": 21,
     "metadata": {},
     "output_type": "execute_result"
    }
   ],
   "source": [
    "# Random array of 5 rows and 2 columns\n",
    "np.random.seed(2) # to make the result reproducible\n",
    "100 * np.random.rand(5, 2) # from the standard uniform distribution"
   ]
  },
  {
   "cell_type": "code",
   "execution_count": 23,
   "id": "4374e58b",
   "metadata": {},
   "outputs": [
    {
     "data": {
      "text/plain": [
       "array([[-0.41675785, -0.05626683],\n",
       "       [-2.1361961 ,  1.64027081],\n",
       "       [-1.79343559, -0.84174737],\n",
       "       [ 0.50288142, -1.24528809],\n",
       "       [-1.05795222, -0.90900761]])"
      ]
     },
     "execution_count": 23,
     "metadata": {},
     "output_type": "execute_result"
    }
   ],
   "source": [
    "# Random array from the normal distribution\n",
    "np.random.seed(2)\n",
    "np.random.randn(5, 2)"
   ]
  },
  {
   "cell_type": "code",
   "execution_count": 25,
   "id": "ebb39565",
   "metadata": {},
   "outputs": [
    {
     "data": {
      "text/plain": [
       "array([[40, 15],\n",
       "       [72, 22],\n",
       "       [43, 82],\n",
       "       [75,  7],\n",
       "       [34, 49]])"
      ]
     },
     "execution_count": 25,
     "metadata": {},
     "output_type": "execute_result"
    }
   ],
   "source": [
    "# Random array of integers\n",
    "np.random.seed(2)\n",
    "np.random.randint(low = 0, high = 100, size = (5, 2)) # low for the lowest number included, high for the highest excluded"
   ]
  },
  {
   "cell_type": "markdown",
   "id": "364c6d7c",
   "metadata": {},
   "source": [
    "## Element-wise operations\n"
   ]
  },
  {
   "cell_type": "code",
   "execution_count": 26,
   "id": "51390a32",
   "metadata": {},
   "outputs": [
    {
     "data": {
      "text/plain": [
       "array([0, 1, 2, 3, 4])"
      ]
     },
     "execution_count": 26,
     "metadata": {},
     "output_type": "execute_result"
    }
   ],
   "source": [
    "# Create an array\n",
    "a = np.arange(5)\n",
    "a"
   ]
  },
  {
   "cell_type": "code",
   "execution_count": 27,
   "id": "6e87e9b0",
   "metadata": {},
   "outputs": [],
   "source": [
    "# Performing element-wise operations on an array\n",
    "b = (10 + (a * 2)) ** 2 / 100"
   ]
  },
  {
   "cell_type": "code",
   "execution_count": 28,
   "id": "013a9e2a",
   "metadata": {},
   "outputs": [
    {
     "data": {
      "text/plain": [
       "array([1.  , 1.44, 1.96, 2.56, 3.24])"
      ]
     },
     "execution_count": 28,
     "metadata": {},
     "output_type": "execute_result"
    }
   ],
   "source": [
    "# Result\n",
    "b"
   ]
  },
  {
   "cell_type": "code",
   "execution_count": 29,
   "id": "08592c4a",
   "metadata": {},
   "outputs": [
    {
     "data": {
      "text/plain": [
       "array([10.        , 10.69444444, 11.02040816, 11.171875  , 11.2345679 ])"
      ]
     },
     "execution_count": 29,
     "metadata": {},
     "output_type": "execute_result"
    }
   ],
   "source": [
    "# More operations\n",
    "a / b + 10"
   ]
  },
  {
   "cell_type": "markdown",
   "id": "35fc84d3",
   "metadata": {},
   "source": [
    "## Comparison operations"
   ]
  },
  {
   "cell_type": "code",
   "execution_count": 30,
   "id": "e26eefdc",
   "metadata": {},
   "outputs": [
    {
     "data": {
      "text/plain": [
       "array([0, 1, 2, 3, 4])"
      ]
     },
     "execution_count": 30,
     "metadata": {},
     "output_type": "execute_result"
    }
   ],
   "source": [
    "# an array\n",
    "a"
   ]
  },
  {
   "cell_type": "code",
   "execution_count": 31,
   "id": "8fd3fc96",
   "metadata": {},
   "outputs": [
    {
     "data": {
      "text/plain": [
       "array([False, False,  True,  True,  True])"
      ]
     },
     "execution_count": 31,
     "metadata": {},
     "output_type": "execute_result"
    }
   ],
   "source": [
    "# Compare element-wise with 2\n",
    "a >= 2"
   ]
  },
  {
   "cell_type": "code",
   "execution_count": 32,
   "id": "bca43c2c",
   "metadata": {},
   "outputs": [
    {
     "data": {
      "text/plain": [
       "array([1.  , 1.44, 1.96, 2.56, 3.24])"
      ]
     },
     "execution_count": 32,
     "metadata": {},
     "output_type": "execute_result"
    }
   ],
   "source": [
    "# an array\n",
    "b"
   ]
  },
  {
   "cell_type": "code",
   "execution_count": 33,
   "id": "f6e89611",
   "metadata": {},
   "outputs": [
    {
     "data": {
      "text/plain": [
       "array([False, False,  True,  True,  True])"
      ]
     },
     "execution_count": 33,
     "metadata": {},
     "output_type": "execute_result"
    }
   ],
   "source": [
    "# Comparing two arrays element-wise\n",
    "a > b"
   ]
  },
  {
   "cell_type": "code",
   "execution_count": 35,
   "id": "15a5a80a",
   "metadata": {},
   "outputs": [
    {
     "data": {
      "text/plain": [
       "array([2, 3, 4])"
      ]
     },
     "execution_count": 35,
     "metadata": {},
     "output_type": "execute_result"
    }
   ],
   "source": [
    "# returns elements of a for which a > b is true\n",
    "a[a > b]"
   ]
  },
  {
   "cell_type": "markdown",
   "id": "0259499b",
   "metadata": {},
   "source": [
    "## Summarizing operations"
   ]
  },
  {
   "cell_type": "code",
   "execution_count": 36,
   "id": "c1b30281",
   "metadata": {},
   "outputs": [
    {
     "data": {
      "text/plain": [
       "array([0, 1, 2, 3, 4])"
      ]
     },
     "execution_count": 36,
     "metadata": {},
     "output_type": "execute_result"
    }
   ],
   "source": [
    "# array\n",
    "a"
   ]
  },
  {
   "cell_type": "code",
   "execution_count": 37,
   "id": "d850c2aa",
   "metadata": {},
   "outputs": [
    {
     "data": {
      "text/plain": [
       "1.4142135623730951"
      ]
     },
     "execution_count": 37,
     "metadata": {},
     "output_type": "execute_result"
    }
   ],
   "source": [
    "# standard deviation\n",
    "a.std()"
   ]
  },
  {
   "cell_type": "code",
   "execution_count": 39,
   "id": "2b2587f2",
   "metadata": {},
   "outputs": [
    {
     "data": {
      "text/plain": [
       "0"
      ]
     },
     "execution_count": 39,
     "metadata": {},
     "output_type": "execute_result"
    }
   ],
   "source": [
    "# smallest number\n",
    "a.min()"
   ]
  },
  {
   "cell_type": "code",
   "execution_count": 41,
   "id": "36f26fe5-514a-43e6-9a7a-d66e7dce60df",
   "metadata": {},
   "outputs": [
    {
     "data": {
      "text/plain": [
       "4"
      ]
     },
     "execution_count": 41,
     "metadata": {},
     "output_type": "execute_result"
    }
   ],
   "source": [
    "# highest number\n",
    "a.max()"
   ]
  },
  {
   "cell_type": "code",
   "execution_count": 42,
   "id": "aab413ff-7d19-425b-90da-0a09c18fb9f2",
   "metadata": {},
   "outputs": [
    {
     "data": {
      "text/plain": [
       "10"
      ]
     },
     "execution_count": 42,
     "metadata": {},
     "output_type": "execute_result"
    }
   ],
   "source": [
    "# sum of numbers\n",
    "a.sum()"
   ]
  },
  {
   "cell_type": "markdown",
   "id": "0662686b",
   "metadata": {},
   "source": [
    "### Next\n",
    "\n",
    "Linear algebra refresher"
   ]
  },
  {
   "cell_type": "markdown",
   "id": "6f6208cb-426a-4384-b14e-5529d48b292e",
   "metadata": {},
   "source": [
    "---"
   ]
  }
 ],
 "metadata": {
  "kernelspec": {
   "display_name": "Python 3 (ipykernel)",
   "language": "python",
   "name": "python3"
  },
  "language_info": {
   "codemirror_mode": {
    "name": "ipython",
    "version": 3
   },
   "file_extension": ".py",
   "mimetype": "text/x-python",
   "name": "python",
   "nbconvert_exporter": "python",
   "pygments_lexer": "ipython3",
   "version": "3.11.9"
  }
 },
 "nbformat": 4,
 "nbformat_minor": 5
}
