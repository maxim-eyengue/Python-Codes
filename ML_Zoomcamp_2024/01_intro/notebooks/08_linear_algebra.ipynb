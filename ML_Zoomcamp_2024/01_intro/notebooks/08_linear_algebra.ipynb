{
 "cells": [
  {
   "cell_type": "markdown",
   "id": "3aace4b5",
   "metadata": {},
   "source": [
    "# Machine Learning Zoomcamp\n",
    "\n",
    "## 1.8 Linear algebra refresher"
   ]
  },
  {
   "cell_type": "markdown",
   "id": "2cd0b8e5",
   "metadata": {},
   "source": [
    "Plan:\n",
    "\n",
    "* Vector operations\n",
    "* Multiplication\n",
    "    * Vector-vector multiplication\n",
    "    * Matrix-vector multiplication\n",
    "    * Matrix-matrix multiplication\n",
    "* Identity matrix\n",
    "* Inverse"
   ]
  },
  {
   "cell_type": "code",
   "execution_count": 1,
   "id": "1317a223",
   "metadata": {},
   "outputs": [],
   "source": [
    "# import numpy package\n",
    "import numpy as np"
   ]
  },
  {
   "cell_type": "markdown",
   "id": "4052050d",
   "metadata": {},
   "source": [
    "## Vector operations"
   ]
  },
  {
   "cell_type": "code",
   "execution_count": 2,
   "id": "e87a01b7",
   "metadata": {},
   "outputs": [],
   "source": [
    "# create a vector\n",
    "u = np.array([2, 4, 5, 6])"
   ]
  },
  {
   "cell_type": "code",
   "execution_count": 4,
   "id": "913795a9",
   "metadata": {},
   "outputs": [
    {
     "data": {
      "text/plain": [
       "array([ 4,  8, 10, 12])"
      ]
     },
     "execution_count": 4,
     "metadata": {},
     "output_type": "execute_result"
    }
   ],
   "source": [
    "# Element-wise operation with vectors\n",
    "2 * u"
   ]
  },
  {
   "cell_type": "code",
   "execution_count": 5,
   "id": "24625627",
   "metadata": {},
   "outputs": [],
   "source": [
    "# create a vector\n",
    "v = np.array([1, 0, 0, 2])"
   ]
  },
  {
   "cell_type": "code",
   "execution_count": 6,
   "id": "edc95be4",
   "metadata": {},
   "outputs": [
    {
     "data": {
      "text/plain": [
       "array([3, 4, 5, 8])"
      ]
     },
     "execution_count": 6,
     "metadata": {},
     "output_type": "execute_result"
    }
   ],
   "source": [
    "# Element-wise addition between vectors\n",
    "u + v"
   ]
  },
  {
   "cell_type": "code",
   "execution_count": 8,
   "id": "62f471c3",
   "metadata": {},
   "outputs": [
    {
     "data": {
      "text/plain": [
       "array([ 2,  0,  0, 12])"
      ]
     },
     "execution_count": 8,
     "metadata": {},
     "output_type": "execute_result"
    }
   ],
   "source": [
    "# Element-wise multiplication with vectors\n",
    "u * v"
   ]
  },
  {
   "cell_type": "markdown",
   "id": "6cb784ea",
   "metadata": {},
   "source": [
    "## Multiplication"
   ]
  },
  {
   "cell_type": "code",
   "execution_count": 9,
   "id": "6a838e14",
   "metadata": {},
   "outputs": [
    {
     "data": {
      "text/plain": [
       "4"
      ]
     },
     "execution_count": 9,
     "metadata": {},
     "output_type": "execute_result"
    }
   ],
   "source": [
    "# length of vector\n",
    "v.shape[0]"
   ]
  },
  {
   "cell_type": "code",
   "execution_count": 14,
   "id": "bef565ee",
   "metadata": {},
   "outputs": [],
   "source": [
    "# Function for dot product\n",
    "def vector_vector_multiplication(u, v):\n",
    "    \"\"\"\n",
    "    Dot product of two vectors of same size.\n",
    "    \"\"\"\n",
    "    # To make sure the two vectors have the same size\n",
    "    assert (u.shape[0] == v.shape[0]), f\"The two vectors have different shapes.\"\n",
    "\n",
    "    # Initializing parameters for the loop \n",
    "    n = u.shape[0]\n",
    "    result = 0.0\n",
    "\n",
    "    # Loop for vector multiplication\n",
    "    for i in range(n):\n",
    "        result += u[i] * v[i]\n",
    "    \n",
    "    return result"
   ]
  },
  {
   "cell_type": "code",
   "execution_count": 16,
   "id": "5f212712",
   "metadata": {},
   "outputs": [
    {
     "data": {
      "text/plain": [
       "14.0"
      ]
     },
     "execution_count": 16,
     "metadata": {},
     "output_type": "execute_result"
    }
   ],
   "source": [
    "# Call our dot product function\n",
    "vector_vector_multiplication(u, v)"
   ]
  },
  {
   "cell_type": "code",
   "execution_count": 17,
   "id": "69998e2e-4aa8-483d-bb12-eac6f04483c2",
   "metadata": {},
   "outputs": [
    {
     "ename": "AssertionError",
     "evalue": "The two vectors have different shapes.",
     "output_type": "error",
     "traceback": [
      "\u001b[1;31m---------------------------------------------------------------------------\u001b[0m",
      "\u001b[1;31mAssertionError\u001b[0m                            Traceback (most recent call last)",
      "Cell \u001b[1;32mIn[17], line 3\u001b[0m\n\u001b[0;32m      1\u001b[0m \u001b[38;5;66;03m# When the two arrays don't hve the same size\u001b[39;00m\n\u001b[0;32m      2\u001b[0m a \u001b[38;5;241m=\u001b[39m np\u001b[38;5;241m.\u001b[39marray([\u001b[38;5;241m1\u001b[39m, \u001b[38;5;241m2\u001b[39m, \u001b[38;5;241m3\u001b[39m])\n\u001b[1;32m----> 3\u001b[0m vector_vector_multiplication(u, a)\n",
      "Cell \u001b[1;32mIn[14], line 7\u001b[0m, in \u001b[0;36mvector_vector_multiplication\u001b[1;34m(u, v)\u001b[0m\n\u001b[0;32m      3\u001b[0m \u001b[38;5;250m\u001b[39m\u001b[38;5;124;03m\"\"\"\u001b[39;00m\n\u001b[0;32m      4\u001b[0m \u001b[38;5;124;03mDot product of two vectors of same size.\u001b[39;00m\n\u001b[0;32m      5\u001b[0m \u001b[38;5;124;03m\"\"\"\u001b[39;00m\n\u001b[0;32m      6\u001b[0m \u001b[38;5;66;03m# To make sure the two vectors have the same size\u001b[39;00m\n\u001b[1;32m----> 7\u001b[0m \u001b[38;5;28;01massert\u001b[39;00m (u\u001b[38;5;241m.\u001b[39mshape[\u001b[38;5;241m0\u001b[39m] \u001b[38;5;241m==\u001b[39m v\u001b[38;5;241m.\u001b[39mshape[\u001b[38;5;241m0\u001b[39m]), \u001b[38;5;124mf\u001b[39m\u001b[38;5;124m\"\u001b[39m\u001b[38;5;124mThe two vectors have different shapes.\u001b[39m\u001b[38;5;124m\"\u001b[39m\n\u001b[0;32m      9\u001b[0m \u001b[38;5;66;03m# Initializing parameters for the loop \u001b[39;00m\n\u001b[0;32m     10\u001b[0m n \u001b[38;5;241m=\u001b[39m u\u001b[38;5;241m.\u001b[39mshape[\u001b[38;5;241m0\u001b[39m]\n",
      "\u001b[1;31mAssertionError\u001b[0m: The two vectors have different shapes."
     ]
    }
   ],
   "source": [
    "# When the two arrays don't hve the same size\n",
    "a = np.array([1, 2, 3])\n",
    "vector_vector_multiplication(u, a)"
   ]
  },
  {
   "cell_type": "code",
   "execution_count": 18,
   "id": "b57c4464",
   "metadata": {},
   "outputs": [
    {
     "data": {
      "text/plain": [
       "14"
      ]
     },
     "execution_count": 18,
     "metadata": {},
     "output_type": "execute_result"
    }
   ],
   "source": [
    "# The built-in dot product function\n",
    "u.dot(v)"
   ]
  },
  {
   "cell_type": "code",
   "execution_count": 19,
   "id": "b7710217",
   "metadata": {},
   "outputs": [],
   "source": [
    "# Create a matrix \n",
    "U = np.array([\n",
    "    [2, 4, 5, 6],\n",
    "    [1, 2, 1, 2],\n",
    "    [3, 1, 2, 1],\n",
    "])"
   ]
  },
  {
   "cell_type": "code",
   "execution_count": 20,
   "id": "3f1ee5f1",
   "metadata": {},
   "outputs": [
    {
     "data": {
      "text/plain": [
       "(3, 4)"
      ]
     },
     "execution_count": 20,
     "metadata": {},
     "output_type": "execute_result"
    }
   ],
   "source": [
    "# shape of the matrix\n",
    "U.shape"
   ]
  },
  {
   "cell_type": "code",
   "execution_count": 24,
   "id": "8b4f7530",
   "metadata": {},
   "outputs": [],
   "source": [
    "# Function for matrix - vector multiplication\n",
    "def matrix_vector_multiplication(U, v):\n",
    "    \"\"\"\n",
    "    Multiplies a matrix U with a vector v.\n",
    "    \"\"\"\n",
    "    # The matrix should as many columns as the vectors has rows\n",
    "    assert U.shape[1] == v.shape[0], f\"The matrix number of columns is different from the vector number of rows.\"\n",
    "\n",
    "    # Initializing parameters for the loop\n",
    "    num_rows = U.shape[0]\n",
    "    result = np.zeros(num_rows)\n",
    "\n",
    "    # Looping to get the result \n",
    "    for i in range(num_rows):\n",
    "        result[i] = vector_vector_multiplication(U[i], v)\n",
    "    \n",
    "    return result"
   ]
  },
  {
   "cell_type": "code",
   "execution_count": 25,
   "id": "930f42c3",
   "metadata": {},
   "outputs": [
    {
     "data": {
      "text/plain": [
       "array([14.,  5.,  5.])"
      ]
     },
     "execution_count": 25,
     "metadata": {},
     "output_type": "execute_result"
    }
   ],
   "source": [
    "# Call of matrix_vector_multiplication\n",
    "matrix_vector_multiplication(U, v)"
   ]
  },
  {
   "cell_type": "code",
   "execution_count": 26,
   "id": "46775a3c-df68-43bb-a7c4-8587c2297bae",
   "metadata": {},
   "outputs": [
    {
     "ename": "AssertionError",
     "evalue": "The matrix number of columns is different from the vector number of rows.",
     "output_type": "error",
     "traceback": [
      "\u001b[1;31m---------------------------------------------------------------------------\u001b[0m",
      "\u001b[1;31mAssertionError\u001b[0m                            Traceback (most recent call last)",
      "Cell \u001b[1;32mIn[26], line 2\u001b[0m\n\u001b[0;32m      1\u001b[0m \u001b[38;5;66;03m# When the sizes dom't correspond\u001b[39;00m\n\u001b[1;32m----> 2\u001b[0m matrix_vector_multiplication(U, a)\n",
      "Cell \u001b[1;32mIn[24], line 7\u001b[0m, in \u001b[0;36mmatrix_vector_multiplication\u001b[1;34m(U, v)\u001b[0m\n\u001b[0;32m      3\u001b[0m \u001b[38;5;250m\u001b[39m\u001b[38;5;124;03m\"\"\"\u001b[39;00m\n\u001b[0;32m      4\u001b[0m \u001b[38;5;124;03mMultiplies a matrix U with a vector v.\u001b[39;00m\n\u001b[0;32m      5\u001b[0m \u001b[38;5;124;03m\"\"\"\u001b[39;00m\n\u001b[0;32m      6\u001b[0m \u001b[38;5;66;03m# The matrix should as many columns as the vectors has rows\u001b[39;00m\n\u001b[1;32m----> 7\u001b[0m \u001b[38;5;28;01massert\u001b[39;00m U\u001b[38;5;241m.\u001b[39mshape[\u001b[38;5;241m1\u001b[39m] \u001b[38;5;241m==\u001b[39m v\u001b[38;5;241m.\u001b[39mshape[\u001b[38;5;241m0\u001b[39m], \u001b[38;5;124mf\u001b[39m\u001b[38;5;124m\"\u001b[39m\u001b[38;5;124mThe matrix number of columns is different from the vector number of rows.\u001b[39m\u001b[38;5;124m\"\u001b[39m\n\u001b[0;32m      9\u001b[0m \u001b[38;5;66;03m# Initializing parameters for the loop\u001b[39;00m\n\u001b[0;32m     10\u001b[0m num_rows \u001b[38;5;241m=\u001b[39m U\u001b[38;5;241m.\u001b[39mshape[\u001b[38;5;241m0\u001b[39m]\n",
      "\u001b[1;31mAssertionError\u001b[0m: The matrix number of columns is different from the vector number of rows."
     ]
    }
   ],
   "source": [
    "# When the sizes dom't correspond\n",
    "matrix_vector_multiplication(U, a)"
   ]
  },
  {
   "cell_type": "code",
   "execution_count": 27,
   "id": "0937dafd",
   "metadata": {},
   "outputs": [
    {
     "data": {
      "text/plain": [
       "array([14,  5,  5])"
      ]
     },
     "execution_count": 27,
     "metadata": {},
     "output_type": "execute_result"
    }
   ],
   "source": [
    "# Built-in dot function can be used for matrix-vector multiplication\n",
    "U.dot(v)"
   ]
  },
  {
   "cell_type": "code",
   "execution_count": 28,
   "id": "85280363",
   "metadata": {},
   "outputs": [],
   "source": [
    "# Create a matrix\n",
    "V = np.array([\n",
    "    [1, 1, 2],\n",
    "    [0, 0.5, 1], \n",
    "    [0, 2, 1],\n",
    "    [2, 1, 0],\n",
    "])"
   ]
  },
  {
   "cell_type": "code",
   "execution_count": 29,
   "id": "82039bcf",
   "metadata": {},
   "outputs": [],
   "source": [
    "# Matrices multiplication\n",
    "def matrix_matrix_multiplication(U, V):\n",
    "    \"\"\"Multiplies a matrix U with a matrix V\"\"\"\n",
    "    assert U.shape[1] == V.shape[0], f\"The matrix U number of columns should be equal to the matrix V number of rows.\"\n",
    "\n",
    "    # Initializing parameters for the loop\n",
    "    num_rows = U.shape[0]\n",
    "    num_cols = V.shape[1]\n",
    "    result = np.zeros((num_rows, num_cols))\n",
    "\n",
    "    # Looping to get the result\n",
    "    for i in range(num_cols):\n",
    "        vi = V[:, i]\n",
    "        Uvi = matrix_vector_multiplication(U, vi)\n",
    "        result[:, i] = Uvi\n",
    "    \n",
    "    return result"
   ]
  },
  {
   "cell_type": "code",
   "execution_count": 30,
   "id": "ab0e5aba",
   "metadata": {},
   "outputs": [
    {
     "data": {
      "text/plain": [
       "array([[14. , 20. , 13. ],\n",
       "       [ 5. ,  6. ,  5. ],\n",
       "       [ 5. ,  8.5,  9. ]])"
      ]
     },
     "execution_count": 30,
     "metadata": {},
     "output_type": "execute_result"
    }
   ],
   "source": [
    "# Calling the matrices multiplication\n",
    "matrix_matrix_multiplication(U, V)"
   ]
  },
  {
   "cell_type": "code",
   "execution_count": 35,
   "id": "c3058a95-5e96-406d-a8e3-8f3eaf8186c3",
   "metadata": {},
   "outputs": [
    {
     "ename": "AssertionError",
     "evalue": "The matrix U number of columns should be equal to the matrix V number of rows.",
     "output_type": "error",
     "traceback": [
      "\u001b[1;31m---------------------------------------------------------------------------\u001b[0m",
      "\u001b[1;31mAssertionError\u001b[0m                            Traceback (most recent call last)",
      "Cell \u001b[1;32mIn[35], line 3\u001b[0m\n\u001b[0;32m      1\u001b[0m \u001b[38;5;66;03m# When dimensions don't match\u001b[39;00m\n\u001b[0;32m      2\u001b[0m A \u001b[38;5;241m=\u001b[39m np\u001b[38;5;241m.\u001b[39marray([[\u001b[38;5;241m1\u001b[39m, \u001b[38;5;241m2\u001b[39m, \u001b[38;5;241m3\u001b[39m], [\u001b[38;5;241m4\u001b[39m, \u001b[38;5;241m9\u001b[39m, \u001b[38;5;241m0\u001b[39m]])\n\u001b[1;32m----> 3\u001b[0m matrix_matrix_multiplication(U, A)\n",
      "Cell \u001b[1;32mIn[29], line 4\u001b[0m, in \u001b[0;36mmatrix_matrix_multiplication\u001b[1;34m(U, V)\u001b[0m\n\u001b[0;32m      2\u001b[0m \u001b[38;5;28;01mdef\u001b[39;00m \u001b[38;5;21mmatrix_matrix_multiplication\u001b[39m(U, V):\n\u001b[0;32m      3\u001b[0m \u001b[38;5;250m    \u001b[39m\u001b[38;5;124;03m\"\"\"Multiplies a matrix U with a matrix V\"\"\"\u001b[39;00m\n\u001b[1;32m----> 4\u001b[0m     \u001b[38;5;28;01massert\u001b[39;00m U\u001b[38;5;241m.\u001b[39mshape[\u001b[38;5;241m1\u001b[39m] \u001b[38;5;241m==\u001b[39m V\u001b[38;5;241m.\u001b[39mshape[\u001b[38;5;241m0\u001b[39m], \u001b[38;5;124mf\u001b[39m\u001b[38;5;124m\"\u001b[39m\u001b[38;5;124mThe matrix U number of columns should be equal to the matrix V number of rows.\u001b[39m\u001b[38;5;124m\"\u001b[39m\n\u001b[0;32m      6\u001b[0m     \u001b[38;5;66;03m# Initializing parameters for the loop\u001b[39;00m\n\u001b[0;32m      7\u001b[0m     num_rows \u001b[38;5;241m=\u001b[39m U\u001b[38;5;241m.\u001b[39mshape[\u001b[38;5;241m0\u001b[39m]\n",
      "\u001b[1;31mAssertionError\u001b[0m: The matrix U number of columns should be equal to the matrix V number of rows."
     ]
    }
   ],
   "source": [
    "# When dimensions don't match\n",
    "A = np.array([[1, 2, 3], [4, 9, 0]])\n",
    "matrix_matrix_multiplication(U, A)"
   ]
  },
  {
   "cell_type": "code",
   "execution_count": 36,
   "id": "8d0e3b73",
   "metadata": {},
   "outputs": [
    {
     "data": {
      "text/plain": [
       "array([[14. , 20. , 13. ],\n",
       "       [ 5. ,  6. ,  5. ],\n",
       "       [ 5. ,  8.5,  9. ]])"
      ]
     },
     "execution_count": 36,
     "metadata": {},
     "output_type": "execute_result"
    }
   ],
   "source": [
    "# The dot function can be used for matrices multiplication\n",
    "U.dot(V)"
   ]
  },
  {
   "cell_type": "markdown",
   "id": "fb2cdbdd",
   "metadata": {},
   "source": [
    "## Identity matrix"
   ]
  },
  {
   "cell_type": "code",
   "execution_count": 39,
   "id": "ca913560",
   "metadata": {},
   "outputs": [],
   "source": [
    "# Create an identity matrix of size 3\n",
    "I = np.eye(3)"
   ]
  },
  {
   "cell_type": "code",
   "execution_count": 40,
   "id": "0614d05f",
   "metadata": {},
   "outputs": [
    {
     "data": {
      "text/plain": [
       "array([[1. , 1. , 2. ],\n",
       "       [0. , 0.5, 1. ],\n",
       "       [0. , 2. , 1. ],\n",
       "       [2. , 1. , 0. ]])"
      ]
     },
     "execution_count": 40,
     "metadata": {},
     "output_type": "execute_result"
    }
   ],
   "source": [
    "# A vector V\n",
    "V"
   ]
  },
  {
   "cell_type": "code",
   "execution_count": 41,
   "id": "aabbf2ad",
   "metadata": {},
   "outputs": [
    {
     "data": {
      "text/plain": [
       "array([[1. , 1. , 2. ],\n",
       "       [0. , 0.5, 1. ],\n",
       "       [0. , 2. , 1. ],\n",
       "       [2. , 1. , 0. ]])"
      ]
     },
     "execution_count": 41,
     "metadata": {},
     "output_type": "execute_result"
    }
   ],
   "source": [
    "# Multiplying a matrix by th identty matrix\n",
    "V.dot(I)"
   ]
  },
  {
   "cell_type": "markdown",
   "id": "e8f786ef",
   "metadata": {},
   "source": [
    "## Inverse"
   ]
  },
  {
   "cell_type": "code",
   "execution_count": 42,
   "id": "3e6fc747",
   "metadata": {},
   "outputs": [
    {
     "data": {
      "text/plain": [
       "array([[1. , 1. , 2. ],\n",
       "       [0. , 0.5, 1. ],\n",
       "       [0. , 2. , 1. ]])"
      ]
     },
     "execution_count": 42,
     "metadata": {},
     "output_type": "execute_result"
    }
   ],
   "source": [
    "# Create a square matrix from the 3 first rows of V\n",
    "Vs = V[[0, 1, 2]]\n",
    "Vs"
   ]
  },
  {
   "cell_type": "code",
   "execution_count": 44,
   "id": "5265b91e",
   "metadata": {
    "scrolled": true
   },
   "outputs": [
    {
     "data": {
      "text/plain": [
       "array([[ 1.        , -2.        ,  0.        ],\n",
       "       [ 0.        , -0.66666667,  0.66666667],\n",
       "       [ 0.        ,  1.33333333, -0.33333333]])"
      ]
     },
     "execution_count": 44,
     "metadata": {},
     "output_type": "execute_result"
    }
   ],
   "source": [
    "# The inverse of our square matrix\n",
    "Vs_inv = np.linalg.inv(Vs)\n",
    "Vs_inv"
   ]
  },
  {
   "cell_type": "code",
   "execution_count": 45,
   "id": "3cd1d98b",
   "metadata": {},
   "outputs": [
    {
     "data": {
      "text/plain": [
       "array([[1., 0., 0.],\n",
       "       [0., 1., 0.],\n",
       "       [0., 0., 1.]])"
      ]
     },
     "execution_count": 45,
     "metadata": {},
     "output_type": "execute_result"
    }
   ],
   "source": [
    "# A matrix multiplied with its inverse gives the identity\n",
    "Vs_inv.dot(Vs)"
   ]
  },
  {
   "cell_type": "markdown",
   "id": "1c54ed7d",
   "metadata": {},
   "source": [
    "### Next \n",
    "\n",
    "Intro to Pandas"
   ]
  },
  {
   "cell_type": "markdown",
   "id": "3b30fff6-fe98-4ad0-8f8f-1f87537defe5",
   "metadata": {},
   "source": [
    "---"
   ]
  }
 ],
 "metadata": {
  "kernelspec": {
   "display_name": "Python 3 (ipykernel)",
   "language": "python",
   "name": "python3"
  },
  "language_info": {
   "codemirror_mode": {
    "name": "ipython",
    "version": 3
   },
   "file_extension": ".py",
   "mimetype": "text/x-python",
   "name": "python",
   "nbconvert_exporter": "python",
   "pygments_lexer": "ipython3",
   "version": "3.11.9"
  }
 },
 "nbformat": 4,
 "nbformat_minor": 5
}
