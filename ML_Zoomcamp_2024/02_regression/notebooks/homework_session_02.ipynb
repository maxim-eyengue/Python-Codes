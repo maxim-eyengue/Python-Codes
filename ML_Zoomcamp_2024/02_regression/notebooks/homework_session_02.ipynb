{
 "cells": [
  {
   "cell_type": "markdown",
   "id": "67b03d3e-b33a-4acc-9b71-1863b78a55ca",
   "metadata": {},
   "source": [
    "# Session 02 Homework"
   ]
  },
  {
   "cell_type": "markdown",
   "id": "221580cb-420c-406d-b9ab-b51b10b485be",
   "metadata": {},
   "source": [
    "The goal of this homework is to create a regression model for predicting laptop prices."
   ]
  },
  {
   "cell_type": "code",
   "execution_count": 1,
   "id": "168ef532-56fc-4fc1-8153-cf3c85627121",
   "metadata": {},
   "outputs": [],
   "source": [
    "# necessary import\n",
    "import numpy as np\n",
    "import pandas as pd\n",
    "import seaborn as sns\n",
    "import matplotlib.pyplot as plt\n",
    "%matplotlib inline "
   ]
  },
  {
   "cell_type": "markdown",
   "id": "65c1c243-06df-4947-b85e-710cbe96fe86",
   "metadata": {},
   "source": [
    "## Get Data\n",
    "We will use the Laptops price dataset from [Kaggle](https://www.kaggle.com/datasets/juanmerinobermejo/laptops-price-dataset)."
   ]
  },
  {
   "cell_type": "code",
   "execution_count": 2,
   "id": "05ba3626-5b7c-4fe5-adc8-2eb94daae835",
   "metadata": {},
   "outputs": [],
   "source": [
    "# url to get the data\n",
    "laptops_data = \"https://raw.githubusercontent.com/alexeygrigorev/datasets/master/laptops.csv\""
   ]
  },
  {
   "cell_type": "code",
   "execution_count": 3,
   "id": "676e533d-ec72-4e78-a9a2-3d458487424c",
   "metadata": {},
   "outputs": [],
   "source": [
    "# Download the data\n",
    "!wget $laptops_data"
   ]
  },
  {
   "cell_type": "code",
   "execution_count": 4,
   "id": "a5af3853-811e-4064-9711-edbbda288e63",
   "metadata": {},
   "outputs": [
    {
     "data": {
      "text/html": [
       "<div>\n",
       "<style scoped>\n",
       "    .dataframe tbody tr th:only-of-type {\n",
       "        vertical-align: middle;\n",
       "    }\n",
       "\n",
       "    .dataframe tbody tr th {\n",
       "        vertical-align: top;\n",
       "    }\n",
       "\n",
       "    .dataframe thead th {\n",
       "        text-align: right;\n",
       "    }\n",
       "</style>\n",
       "<table border=\"1\" class=\"dataframe\">\n",
       "  <thead>\n",
       "    <tr style=\"text-align: right;\">\n",
       "      <th></th>\n",
       "      <th>Laptop</th>\n",
       "      <th>Status</th>\n",
       "      <th>Brand</th>\n",
       "      <th>Model</th>\n",
       "      <th>CPU</th>\n",
       "      <th>RAM</th>\n",
       "      <th>Storage</th>\n",
       "      <th>Storage type</th>\n",
       "      <th>GPU</th>\n",
       "      <th>Screen</th>\n",
       "      <th>Touch</th>\n",
       "      <th>Final Price</th>\n",
       "    </tr>\n",
       "  </thead>\n",
       "  <tbody>\n",
       "    <tr>\n",
       "      <th>2159</th>\n",
       "      <td>Razer Book FHD+ Intel Evo Core i7-1165G7/16GB/...</td>\n",
       "      <td>Refurbished</td>\n",
       "      <td>Razer</td>\n",
       "      <td>Book</td>\n",
       "      <td>Intel Evo Core i7</td>\n",
       "      <td>16</td>\n",
       "      <td>256</td>\n",
       "      <td>SSD</td>\n",
       "      <td>NaN</td>\n",
       "      <td>13.4</td>\n",
       "      <td>Yes</td>\n",
       "      <td>1699.99</td>\n",
       "    </tr>\n",
       "  </tbody>\n",
       "</table>\n",
       "</div>"
      ],
      "text/plain": [
       "                                                 Laptop       Status  Brand  \\\n",
       "2159  Razer Book FHD+ Intel Evo Core i7-1165G7/16GB/...  Refurbished  Razer   \n",
       "\n",
       "     Model                CPU  RAM  Storage Storage type  GPU  Screen Touch  \\\n",
       "2159  Book  Intel Evo Core i7   16      256          SSD  NaN    13.4   Yes   \n",
       "\n",
       "      Final Price  \n",
       "2159      1699.99  "
      ]
     },
     "execution_count": 4,
     "metadata": {},
     "output_type": "execute_result"
    }
   ],
   "source": [
    "# Read the dataframe\n",
    "df = pd.read_csv(\"laptops.csv\")\n",
    "\n",
    "# Last row\n",
    "df.tail(1)"
   ]
  },
  {
   "cell_type": "markdown",
   "id": "f38da5b3-2c74-4f12-abff-be46fa161226",
   "metadata": {},
   "source": [
    "Or we can simply:"
   ]
  },
  {
   "cell_type": "code",
   "execution_count": 5,
   "id": "7bf78d4f-b21d-4341-b01e-471b2bd6f7cb",
   "metadata": {},
   "outputs": [
    {
     "data": {
      "text/html": [
       "<div>\n",
       "<style scoped>\n",
       "    .dataframe tbody tr th:only-of-type {\n",
       "        vertical-align: middle;\n",
       "    }\n",
       "\n",
       "    .dataframe tbody tr th {\n",
       "        vertical-align: top;\n",
       "    }\n",
       "\n",
       "    .dataframe thead th {\n",
       "        text-align: right;\n",
       "    }\n",
       "</style>\n",
       "<table border=\"1\" class=\"dataframe\">\n",
       "  <thead>\n",
       "    <tr style=\"text-align: right;\">\n",
       "      <th></th>\n",
       "      <th>Laptop</th>\n",
       "      <th>Status</th>\n",
       "      <th>Brand</th>\n",
       "      <th>Model</th>\n",
       "      <th>CPU</th>\n",
       "      <th>RAM</th>\n",
       "      <th>Storage</th>\n",
       "      <th>Storage type</th>\n",
       "      <th>GPU</th>\n",
       "      <th>Screen</th>\n",
       "      <th>Touch</th>\n",
       "      <th>Final Price</th>\n",
       "    </tr>\n",
       "  </thead>\n",
       "  <tbody>\n",
       "    <tr>\n",
       "      <th>0</th>\n",
       "      <td>ASUS ExpertBook B1 B1502CBA-EJ0436X Intel Core...</td>\n",
       "      <td>New</td>\n",
       "      <td>Asus</td>\n",
       "      <td>ExpertBook</td>\n",
       "      <td>Intel Core i5</td>\n",
       "      <td>8</td>\n",
       "      <td>512</td>\n",
       "      <td>SSD</td>\n",
       "      <td>NaN</td>\n",
       "      <td>15.6</td>\n",
       "      <td>No</td>\n",
       "      <td>1009.0</td>\n",
       "    </tr>\n",
       "    <tr>\n",
       "      <th>1</th>\n",
       "      <td>Alurin Go Start Intel Celeron N4020/8GB/256GB ...</td>\n",
       "      <td>New</td>\n",
       "      <td>Alurin</td>\n",
       "      <td>Go</td>\n",
       "      <td>Intel Celeron</td>\n",
       "      <td>8</td>\n",
       "      <td>256</td>\n",
       "      <td>SSD</td>\n",
       "      <td>NaN</td>\n",
       "      <td>15.6</td>\n",
       "      <td>No</td>\n",
       "      <td>299.0</td>\n",
       "    </tr>\n",
       "    <tr>\n",
       "      <th>2</th>\n",
       "      <td>ASUS ExpertBook B1 B1502CBA-EJ0424X Intel Core...</td>\n",
       "      <td>New</td>\n",
       "      <td>Asus</td>\n",
       "      <td>ExpertBook</td>\n",
       "      <td>Intel Core i3</td>\n",
       "      <td>8</td>\n",
       "      <td>256</td>\n",
       "      <td>SSD</td>\n",
       "      <td>NaN</td>\n",
       "      <td>15.6</td>\n",
       "      <td>No</td>\n",
       "      <td>789.0</td>\n",
       "    </tr>\n",
       "  </tbody>\n",
       "</table>\n",
       "</div>"
      ],
      "text/plain": [
       "                                              Laptop Status   Brand  \\\n",
       "0  ASUS ExpertBook B1 B1502CBA-EJ0436X Intel Core...    New    Asus   \n",
       "1  Alurin Go Start Intel Celeron N4020/8GB/256GB ...    New  Alurin   \n",
       "2  ASUS ExpertBook B1 B1502CBA-EJ0424X Intel Core...    New    Asus   \n",
       "\n",
       "        Model            CPU  RAM  Storage Storage type  GPU  Screen Touch  \\\n",
       "0  ExpertBook  Intel Core i5    8      512          SSD  NaN    15.6    No   \n",
       "1          Go  Intel Celeron    8      256          SSD  NaN    15.6    No   \n",
       "2  ExpertBook  Intel Core i3    8      256          SSD  NaN    15.6    No   \n",
       "\n",
       "   Final Price  \n",
       "0       1009.0  \n",
       "1        299.0  \n",
       "2        789.0  "
      ]
     },
     "execution_count": 5,
     "metadata": {},
     "output_type": "execute_result"
    }
   ],
   "source": [
    "# Read the dataframe\n",
    "df = pd.read_csv(laptops_data)\n",
    "\n",
    "# Three first Rows\n",
    "df.head(3)"
   ]
  },
  {
   "cell_type": "markdown",
   "id": "031b42b9-3713-4900-839b-694a44b96a7a",
   "metadata": {},
   "source": [
    "## Data Preparation"
   ]
  },
  {
   "cell_type": "markdown",
   "id": "92319820-6443-4f5a-a558-46712ca40a6c",
   "metadata": {},
   "source": [
    "First, let's normalize columns' names:"
   ]
  },
  {
   "cell_type": "code",
   "execution_count": 6,
   "id": "9320c504-84e9-4b6f-8582-9d934c9add6b",
   "metadata": {},
   "outputs": [],
   "source": [
    "# Standardize columns'names\n",
    "df.columns = df.columns.str.lower().str.replace(\" \", \"_\")"
   ]
  },
  {
   "cell_type": "markdown",
   "id": "1a1594b3-20bb-41a3-89ab-bd8945444e6c",
   "metadata": {},
   "source": [
    "We will only use the columns: `ram`,`storage`, `screen` and `final_price` for our analysis:"
   ]
  },
  {
   "cell_type": "code",
   "execution_count": 7,
   "id": "5e64811a-0a66-48af-a182-9f4d592b57c0",
   "metadata": {},
   "outputs": [],
   "source": [
    "# Subset the data\n",
    "df_subset = df[[\"ram\", \"storage\", \"screen\", \"final_price\"]]"
   ]
  },
  {
   "cell_type": "markdown",
   "id": "6462f81e-c33e-45d4-890d-19b0ebcd9122",
   "metadata": {},
   "source": [
    "## Exploratory data analysis"
   ]
  },
  {
   "cell_type": "code",
   "execution_count": 8,
   "id": "d06ccced-4a6c-4e9b-9102-65a2f430007c",
   "metadata": {},
   "outputs": [
    {
     "data": {
      "image/png": "[encoded data removed]",
      "text/plain": [
       "<Figure size 640x480 with 1 Axes>"
      ]
     },
     "metadata": {},
     "output_type": "display_data"
    }
   ],
   "source": [
    "# Prices distribution\n",
    "sns.histplot(df_subset.final_price)\n",
    "plt.show()"
   ]
  },
  {
   "cell_type": "markdown",
   "id": "d6fd143d-7737-4ac0-b886-6f35d61327ec",
   "metadata": {},
   "source": [
    "We can clearly see that the `final_price` has a long tail distribution as shown by this right-skewed histogram. This means that we might need to normalize this distribution later."
   ]
  },
  {
   "cell_type": "markdown",
   "id": "db22c3b5-b2f2-4c6d-945b-918d1597ce7a",
   "metadata": {},
   "source": [
    "### Question 1"
   ]
  },
  {
   "cell_type": "markdown",
   "id": "48e65a46-883c-4024-9879-ef7f22c3d9a4",
   "metadata": {},
   "source": [
    "Let's check the missing values:"
   ]
  },
  {
   "cell_type": "code",
   "execution_count": 9,
   "id": "c5780d1e-813f-4b54-aa2a-084578aa77fa",
   "metadata": {},
   "outputs": [
    {
     "data": {
      "text/plain": [
       "ram            0\n",
       "storage        0\n",
       "screen         4\n",
       "final_price    0\n",
       "dtype: int64"
      ]
     },
     "execution_count": 9,
     "metadata": {},
     "output_type": "execute_result"
    }
   ],
   "source": [
    "# Sum of missing values per column\n",
    "df_subset.isnull().sum()"
   ]
  },
  {
   "cell_type": "markdown",
   "id": "63b3cc3b-699c-4451-b123-ca6dff43e8bc",
   "metadata": {},
   "source": [
    "The only column with missing values is `screen`."
   ]
  },
  {
   "cell_type": "markdown",
   "id": "75658a07-eb7a-4b39-a5d5-170ce509ffda",
   "metadata": {},
   "source": [
    "### Question 2"
   ]
  },
  {
   "cell_type": "markdown",
   "id": "1d5f28d5-402a-46be-bb49-0ebc82837087",
   "metadata": {},
   "source": [
    "The median for `ram` is given by:"
   ]
  },
  {
   "cell_type": "code",
   "execution_count": 10,
   "id": "c4ec4443-24f0-4647-b958-ca34b4e78390",
   "metadata": {},
   "outputs": [
    {
     "data": {
      "text/plain": [
       "16.0"
      ]
     },
     "execution_count": 10,
     "metadata": {},
     "output_type": "execute_result"
    }
   ],
   "source": [
    "# Ram median\n",
    "df_subset.ram.median()"
   ]
  },
  {
   "cell_type": "markdown",
   "id": "edd8aa76-9610-4c8f-bb97-38161fe0d70b",
   "metadata": {},
   "source": [
    "## Data Splitting"
   ]
  },
  {
   "cell_type": "markdown",
   "id": "e4c7bb06-d4cf-4e34-83de-7c3c87e40ee6",
   "metadata": {},
   "source": [
    "Let's build a function to perform the validation framework:"
   ]
  },
  {
   "cell_type": "code",
   "execution_count": 11,
   "id": "af9ca08a-aba0-44eb-a9a3-1f713349c67f",
   "metadata": {},
   "outputs": [],
   "source": [
    "# Function for splitting and shuffling data\n",
    "def shuffle_data(df, seed):\n",
    "    \"\"\"\n",
    "    This function splits the data into train - validation - test sets with\n",
    "    respectively 60% - 20% - 20% of the original dataframe, shuffles the obtained sets,\n",
    "    and returns them with new index.\n",
    "    ---\n",
    "    df: dataframe\n",
    "    seed: numpy seed for reproducibility\n",
    "    \"\"\"\n",
    "    # Data set size\n",
    "    n = len(df)\n",
    "    # Validation and Test Size\n",
    "    n_val = n_test = int(n * 0.2)\n",
    "    # Train set size\n",
    "    n_train = n - (n_val * 2)\n",
    "    \n",
    "    # Create an index\n",
    "    idx = np.arange(n)\n",
    "    # Shuffle the index\n",
    "    np.random.seed(seed) # for reproducibility\n",
    "    np.random.shuffle(idx)\n",
    "\n",
    "    # Train - Val - Test splitting\n",
    "    df_train = df.iloc[idx[ : n_train]]\n",
    "    df_val = df.iloc[idx[n_train : n_train + n_val]]\n",
    "    df_test = df.iloc[idx[n_train + n_val : ]]\n",
    "\n",
    "    # Reset indexes\n",
    "    df_train.reset_index(drop = True, inplace = True)\n",
    "    df_val.reset_index(drop = True, inplace = True)\n",
    "    df_test.reset_index(drop = True, inplace = True)\n",
    "\n",
    "    # return shuffled data\n",
    "    return df_train, df_val, df_test"
   ]
  },
  {
   "cell_type": "markdown",
   "id": "ec2ac6b2-83ea-4c26-8580-c41db390e45c",
   "metadata": {},
   "source": [
    "We can now shuffle the dataset for each set to be representative of the original data."
   ]
  },
  {
   "cell_type": "code",
   "execution_count": 12,
   "id": "4a376d40-b628-4901-87ce-d6e33cf45faa",
   "metadata": {},
   "outputs": [
    {
     "data": {
      "text/html": [
       "<div>\n",
       "<style scoped>\n",
       "    .dataframe tbody tr th:only-of-type {\n",
       "        vertical-align: middle;\n",
       "    }\n",
       "\n",
       "    .dataframe tbody tr th {\n",
       "        vertical-align: top;\n",
       "    }\n",
       "\n",
       "    .dataframe thead th {\n",
       "        text-align: right;\n",
       "    }\n",
       "</style>\n",
       "<table border=\"1\" class=\"dataframe\">\n",
       "  <thead>\n",
       "    <tr style=\"text-align: right;\">\n",
       "      <th></th>\n",
       "      <th>ram</th>\n",
       "      <th>storage</th>\n",
       "      <th>screen</th>\n",
       "      <th>final_price</th>\n",
       "    </tr>\n",
       "  </thead>\n",
       "  <tbody>\n",
       "    <tr>\n",
       "      <th>0</th>\n",
       "      <td>32</td>\n",
       "      <td>1000</td>\n",
       "      <td>15.6</td>\n",
       "      <td>1123.29</td>\n",
       "    </tr>\n",
       "    <tr>\n",
       "      <th>1</th>\n",
       "      <td>4</td>\n",
       "      <td>64</td>\n",
       "      <td>14.1</td>\n",
       "      <td>201.05</td>\n",
       "    </tr>\n",
       "    <tr>\n",
       "      <th>2</th>\n",
       "      <td>32</td>\n",
       "      <td>1000</td>\n",
       "      <td>14.0</td>\n",
       "      <td>997.74</td>\n",
       "    </tr>\n",
       "  </tbody>\n",
       "</table>\n",
       "</div>"
      ],
      "text/plain": [
       "   ram  storage  screen  final_price\n",
       "0   32     1000    15.6      1123.29\n",
       "1    4       64    14.1       201.05\n",
       "2   32     1000    14.0       997.74"
      ]
     },
     "execution_count": 12,
     "metadata": {},
     "output_type": "execute_result"
    }
   ],
   "source": [
    "# Train - Validation - test splitting with a seed of 42\n",
    "df_train, df_val, df_test = shuffle_data(df = df_subset, seed = 42)\n",
    "\n",
    "# Check the shuffling by visualizing the 3 first rows\n",
    "df_train.head(3)"
   ]
  },
  {
   "cell_type": "code",
   "execution_count": 13,
   "id": "b36dac34-3d1b-4d0a-9f4f-4a3bf1c21b24",
   "metadata": {},
   "outputs": [
    {
     "data": {
      "text/plain": [
       "(432, 432, 1296)"
      ]
     },
     "execution_count": 13,
     "metadata": {},
     "output_type": "execute_result"
    }
   ],
   "source": [
    "# Val, test and train sizes\n",
    "len(df_val), len(df_test), len(df_train)"
   ]
  },
  {
   "cell_type": "markdown",
   "id": "4f88f9bc-f56a-4a88-a41d-eab0b08e1313",
   "metadata": {},
   "source": [
    "### Question 3"
   ]
  },
  {
   "cell_type": "markdown",
   "id": "9d6ba297-e409-4131-bb5b-0129e9e7a15b",
   "metadata": {},
   "source": [
    "Let's now deal with the missing values of `screen` in different ways and train a regression model to compare the two methods."
   ]
  },
  {
   "cell_type": "code",
   "execution_count": 14,
   "id": "a43fa292-a7a6-4092-a5cb-738507039843",
   "metadata": {},
   "outputs": [],
   "source": [
    "# Data Preparation Function\n",
    "def prepare_X(df, fill_value = 0):\n",
    "    \"\"\"\n",
    "    This function prepares a feature matrix `X`.\n",
    "    ---\n",
    "    df: dataframe,\n",
    "    fill_value: value used for filling missing values if any.\n",
    "        default: `0`\n",
    "        Otherwise, please preferably enter a dictionnary or a single value.\n",
    "    \"\"\"\n",
    "    # Remove target feature\n",
    "    df_num = df.drop(columns = \"final_price\")\n",
    "\n",
    "    # Filling missing values\n",
    "    df_num = df_num.fillna(fill_value)\n",
    "\n",
    "    # Extract an array\n",
    "    X = np.array(df_num)\n",
    "\n",
    "    # return feature matrix\n",
    "    return X"
   ]
  },
  {
   "cell_type": "code",
   "execution_count": 15,
   "id": "7c40715e-710d-4978-a88b-157bfe9e7762",
   "metadata": {},
   "outputs": [],
   "source": [
    "# Linear regression model traininng\n",
    "def train_linear_regression(X, y, r = 0):\n",
    "    \"\"\"\n",
    "    Function to train a linear regression model.\n",
    "    ---\n",
    "    X: Feature matrix\n",
    "    y: target vector\n",
    "    r: regularization parameter if any,\n",
    "        defalut value: 0 (no regularization)\n",
    "    \"\"\"\n",
    "    # X_0 vector\n",
    "    ones = np.ones(X.shape[0])   \n",
    "    # Feature matrix\n",
    "    X = np.column_stack([ones, X])\n",
    "    \n",
    "    # Gram matrix\n",
    "    XTX = X.T.dot(X)\n",
    "    # Regularization\n",
    "    XTX = XTX + r * np.eye(XTX.shape[0])\n",
    "    # Gram matrix inverse\n",
    "    XTX_inv = np.linalg.inv(XTX)\n",
    "    \n",
    "    # Weights\n",
    "    w_full = XTX_inv.dot(X.T).dot(y)\n",
    "\n",
    "    # return slope and coefficients\n",
    "    return w_full[0], w_full[1 :]"
   ]
  },
  {
   "cell_type": "code",
   "execution_count": 16,
   "id": "4a0d7633-f961-4b4a-b149-8ff835fe3df8",
   "metadata": {},
   "outputs": [],
   "source": [
    "# Root Mean Square Root Error Function\n",
    "def rmse(y, y_pred):\n",
    "    \"\"\"\n",
    "    Root Mean Square Error between real values and model predictions.\n",
    "    ---\n",
    "    y: real values\n",
    "    y_pred: model predictions\n",
    "    \"\"\"\n",
    "    # Square errors\n",
    "    se = (y - y_pred) ** 2\n",
    "\n",
    "    # Mean square error\n",
    "    mse = se.mean()\n",
    "\n",
    "    # return root mean square error\n",
    "    return np.sqrt(mse)"
   ]
  },
  {
   "cell_type": "code",
   "execution_count": 17,
   "id": "a2854ee5-4261-454b-940e-92adfcc42d59",
   "metadata": {},
   "outputs": [],
   "source": [
    "# Funtion to evaluate the model\n",
    "def evaluate_model(train, val, fill_value = 0, r = 0):\n",
    "    \"\"\"\n",
    "    This function evaluates a linear regression model by returning a rounded rmse.\n",
    "    ---\n",
    "    train: training dataframe \n",
    "    val: validation dataframe\n",
    "    fill_value: value used for filling missing values if any,\n",
    "        default: `0`,\n",
    "        Otherwise, please preferably enter a dictionnary or a single value\n",
    "    r: regularization parameter for linear regression\n",
    "    \"\"\"\n",
    "    # Extract targets\n",
    "    y_train = train.final_price.values\n",
    "    y_val = val.final_price.values\n",
    "    \n",
    "    # Prepare training data\n",
    "    X_train = prepare_X(train, fill_value)\n",
    "    \n",
    "    # Linear Regression\n",
    "    w0, w = train_linear_regression(X_train, y_train, r)\n",
    "    \n",
    "    # Prepare validation data\n",
    "    X_val = prepare_X(val, fill_value)\n",
    "    \n",
    "    # Make predictions on validation data\n",
    "    y_pred = w0 + X_val.dot(w)\n",
    "    \n",
    "    # Rounded RMSE on validation data\n",
    "    score = rmse(y_val, y_pred)\n",
    "\n",
    "    # return score\n",
    "    return round(score, 2)"
   ]
  },
  {
   "cell_type": "markdown",
   "id": "c1c0781e-bc23-470f-a39c-95b5473e3caa",
   "metadata": {},
   "source": [
    "**When filling missing values with 0:**"
   ]
  },
  {
   "cell_type": "code",
   "execution_count": 18,
   "id": "9c2f29ba-b613-41bb-bac2-8afd3bc8e1e1",
   "metadata": {},
   "outputs": [
    {
     "data": {
      "text/plain": [
       "597.36"
      ]
     },
     "execution_count": 18,
     "metadata": {},
     "output_type": "execute_result"
    }
   ],
   "source": [
    "# Model RMSE score when filling missing values with 0\n",
    "evaluate_model(train = df_train, val = df_val, fill_value = 0)"
   ]
  },
  {
   "cell_type": "markdown",
   "id": "cadd66cd-f1bb-4fab-97dd-814acf1a5c1e",
   "metadata": {},
   "source": [
    "**When filling missing values with the mean of the variable:**"
   ]
  },
  {
   "cell_type": "code",
   "execution_count": 19,
   "id": "e79b6fc3-aebc-4993-9519-b216d7fe3703",
   "metadata": {},
   "outputs": [
    {
     "data": {
      "text/plain": [
       "600.27"
      ]
     },
     "execution_count": 19,
     "metadata": {},
     "output_type": "execute_result"
    }
   ],
   "source": [
    "# Model RMSE score when filling missing values with columns' means\n",
    "evaluate_model(train = df_train, val = df_val, fill_value = df_train.mean().to_dict())"
   ]
  },
  {
   "cell_type": "markdown",
   "id": "60aac41d-aab4-4e2a-afbc-251a37890a81",
   "metadata": {},
   "source": [
    "The best option is to fill missing values with 0."
   ]
  },
  {
   "cell_type": "markdown",
   "id": "186a20c1-60ea-44c5-8dee-a7842eb3a99a",
   "metadata": {},
   "source": [
    "### Question 4"
   ]
  },
  {
   "cell_type": "markdown",
   "id": "9956b6e8-edb4-41d3-a5c4-08adb43f200e",
   "metadata": {},
   "source": [
    "Let's train a regularized linear regression, filling missing values with `0`. We will try different values for the regularization parameter `r` from the list: `[0, 0.01, 0.1, 1, 5, 10, 100]` and evaluate the models to choose the best value of `r`."
   ]
  },
  {
   "cell_type": "code",
   "execution_count": 20,
   "id": "24c743f0-7798-4ec2-8835-85ecbdd9118f",
   "metadata": {},
   "outputs": [
    {
     "data": {
      "text/plain": [
       "0.00      597.36\n",
       "0.01      597.36\n",
       "0.10      597.35\n",
       "1.00      597.21\n",
       "5.00      597.01\n",
       "10.00     597.06\n",
       "100.00    597.90\n",
       "Name: parameters_results, dtype: float64"
      ]
     },
     "execution_count": 20,
     "metadata": {},
     "output_type": "execute_result"
    }
   ],
   "source": [
    "# Bunch of values for the hyperparameter\n",
    "params = [0, 0.01, 0.1, 1, 5, 10, 100]\n",
    "\n",
    "# Initialize results\n",
    "results = []\n",
    "\n",
    "# Model Fine Tuning with parameters\n",
    "for param in params:\n",
    "    # store model evaluation score into results\n",
    "    results += [evaluate_model(train = df_train, val = df_val, fill_value = 0, r = param)]\n",
    "\n",
    "# Visualize the results\n",
    "pd.Series(data = results, index = params, name = \"parameters_results\")"
   ]
  },
  {
   "cell_type": "markdown",
   "id": "c1c4050f-4d34-4c29-a421-729496c74626",
   "metadata": {},
   "source": [
    "The value of `r` giving the best result among the given options is `10`."
   ]
  },
  {
   "cell_type": "markdown",
   "id": "2ebaea4c-6ebf-4273-9e8c-77386c3a691d",
   "metadata": {},
   "source": [
    "### Question 5"
   ]
  },
  {
   "cell_type": "markdown",
   "id": "ee917e87-fdb1-4722-a9bb-f29e19368dd8",
   "metadata": {},
   "source": [
    "We will find out how selecting the seed influences our score by trying different seed values from: `[0, 1, 2, 3, 4, 5, 6, 7, 8, 9]`. For each seed, we will split the data into train , validation and test, then fill the missing values with `0` and train the model without regularization. All the scores will then be collected."
   ]
  },
  {
   "cell_type": "code",
   "execution_count": 21,
   "id": "599f0da2-c32d-4e80-9ddf-33df6dedff25",
   "metadata": {},
   "outputs": [
    {
     "data": {
      "text/plain": [
       "0    565.45\n",
       "1    636.80\n",
       "2    588.96\n",
       "3    597.81\n",
       "4    571.96\n",
       "5    573.24\n",
       "6    647.34\n",
       "7    550.44\n",
       "8    587.33\n",
       "9    576.10\n",
       "Name: seeds_results, dtype: float64"
      ]
     },
     "execution_count": 21,
     "metadata": {},
     "output_type": "execute_result"
    }
   ],
   "source": [
    "# Bunch of values for seeds\n",
    "seeds = [0, 1, 2, 3, 4, 5, 6, 7, 8, 9]\n",
    "\n",
    "# Initialize results\n",
    "results = []\n",
    "\n",
    "# Model Fine Tuning with data splitting\n",
    "for s in seeds:\n",
    "    # Train - Validation - test\n",
    "    df_train, df_val, df_test = shuffle_data(df = df_subset, seed = s)\n",
    "\n",
    "    # store model evaluation score into results\n",
    "    results += [evaluate_model(train = df_train, val = df_val, fill_value = 0, r = 0)]\n",
    "\n",
    "# Visualize the results\n",
    "rmse_seeds = pd.Series(data = results, index = seeds, name = \"seeds_results\")\n",
    "rmse_seeds"
   ]
  },
  {
   "cell_type": "code",
   "execution_count": 22,
   "id": "7ec5ee0e-7dc9-4aad-9642-e93e46245640",
   "metadata": {},
   "outputs": [
    {
     "data": {
      "text/plain": [
       "29.176"
      ]
     },
     "execution_count": 22,
     "metadata": {},
     "output_type": "execute_result"
    }
   ],
   "source": [
    "# Standard deviation of all scores\n",
    "std = np.std(rmse_seeds)\n",
    "round(std, 3)"
   ]
  },
  {
   "cell_type": "markdown",
   "id": "285338cf-580c-46ea-a62c-ea85b8437d72",
   "metadata": {},
   "source": [
    "### Question 6"
   ]
  },
  {
   "cell_type": "markdown",
   "id": "f6c5045c-a38e-4e17-a568-f2a1412bc69e",
   "metadata": {},
   "source": [
    "Let's split the dataset using the seed `9`, combine train and validation datasets, fill the missing values with 0 and train a model with `r = 0.001`."
   ]
  },
  {
   "cell_type": "code",
   "execution_count": 23,
   "id": "f414b8a7-5dfd-4eba-b2b0-dd328330c7ec",
   "metadata": {},
   "outputs": [
    {
     "data": {
      "text/plain": [
       "608.61"
      ]
     },
     "execution_count": 23,
     "metadata": {},
     "output_type": "execute_result"
    }
   ],
   "source": [
    "# Train - Validation - test with a seed of `9`\n",
    "df_train, df_val, df_test = shuffle_data(df = df_subset, seed = 9)\n",
    "\n",
    "# Combine Training and Validation sets\n",
    "df_full_train = pd.concat([df_train, df_val])\n",
    "\n",
    "# model evaluation score on the test dataset\n",
    "evaluate_model(train = df_full_train, val = df_test, fill_value = 0, r = 0.001)"
   ]
  },
  {
   "cell_type": "markdown",
   "id": "d9b5a267-e82e-4fca-9a53-cb126fc7368b",
   "metadata": {},
   "source": [
    "---"
   ]
  }
 ],
 "metadata": {
  "kernelspec": {
   "display_name": "Python 3 (ipykernel)",
   "language": "python",
   "name": "python3"
  },
  "language_info": {
   "codemirror_mode": {
    "name": "ipython",
    "version": 3
   },
   "file_extension": ".py",
   "mimetype": "text/x-python",
   "name": "python",
   "nbconvert_exporter": "python",
   "pygments_lexer": "ipython3",
   "version": "3.11.9"
  }
 },
 "nbformat": 4,
 "nbformat_minor": 5
}
