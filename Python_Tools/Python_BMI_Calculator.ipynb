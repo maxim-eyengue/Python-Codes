{
 "cells": [
  {
   "cell_type": "markdown",
   "id": "3777955b-cb5d-4409-9535-2bb2b309d598",
   "metadata": {},
   "source": [
    "# BMI Calculator"
   ]
  },
  {
   "cell_type": "code",
   "execution_count": 1,
   "id": "b955a486-837c-4ac2-9fa4-40d8bef9542f",
   "metadata": {},
   "outputs": [
    {
     "name": "stdin",
     "output_type": "stream",
     "text": [
      "Enter your name:  Maxim\n",
      "Enter your weight in pounds:  161\n",
      "Enter your height in inches:  71\n"
     ]
    },
    {
     "name": "stdout",
     "output_type": "stream",
     "text": [
      "BMI: 22.45\n",
      "Hi Maxim, you are normal weight.\n"
     ]
    }
   ],
   "source": [
    "name = input(\"Enter your name: \") # Your name\n",
    "\n",
    "weight = float(input(\"Enter your weight in pounds: \")) # Weight in pounds\n",
    "\n",
    "height = float(input(\"Enter your height in inches: \")) # Height in inches\n",
    "\n",
    "BMI = (weight * 703) / (height ** 2) # BMI calculation\n",
    "\n",
    "print(\"BMI:\", round(BMI, 2)) # print BMI\n",
    "\n",
    "# Set of Conditions to get inforn=mation from our bmi\n",
    "if(BMI > 0): \n",
    "    if(BMI < 18.5):\n",
    "        print(f\"Hi {name}, you are underweight.\")\n",
    "    elif(BMI < 24.9):\n",
    "        print(f\"Hi {name}, you are normal weight.\")\n",
    "    elif(BMI < 29.9):\n",
    "        print(f\"Hi {name}, you are overweight.\")\n",
    "    elif(BMI < 34.9):\n",
    "        print(f\"Hi {name}, you are obese.\")\n",
    "    elif(BMI < 39.9):\n",
    "        print(f\"Hi {name}, you are severely obese.\")\n",
    "    else:\n",
    "        print(f\"Hi {name}, you are morbidly obese.\")\n",
    "else:\n",
    "    print(f\"Hi {name}, enter valid information ;)\")"
   ]
  },
  {
   "cell_type": "markdown",
   "id": "aeadbe80-71d7-4e57-bd88-7df4666005dc",
   "metadata": {},
   "source": [
    "---"
   ]
  }
 ],
 "metadata": {
  "kernelspec": {
   "display_name": "Python 3 (ipykernel)",
   "language": "python",
   "name": "python3"
  },
  "language_info": {
   "codemirror_mode": {
    "name": "ipython",
    "version": 3
   },
   "file_extension": ".py",
   "mimetype": "text/x-python",
   "name": "python",
   "nbconvert_exporter": "python",
   "pygments_lexer": "ipython3",
   "version": "3.12.4"
  }
 },
 "nbformat": 4,
 "nbformat_minor": 5
}
