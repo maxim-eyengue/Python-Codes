{
 "cells": [
  {
   "cell_type": "markdown",
   "id": "e2a1318b-de44-47ae-8172-65d3c508021c",
   "metadata": {},
   "source": [
    "# Automatic File Sorter in File Explorer"
   ]
  },
  {
   "cell_type": "code",
   "execution_count": 3,
   "id": "05bf707b-c631-42c2-9e59-e8a882168ae1",
   "metadata": {},
   "outputs": [],
   "source": [
    "# import for file operations\n",
    "import os, shutil\n",
    "\n",
    "# Path of files to sort\n",
    "path = r\"C:\\Users\\dell\\Downloads\" # r for raw string and `\\` might cause an issue\n",
    "# path = input(\"Enter the path of the files to organise: \")\n",
    "\n",
    "# Store files for the corresponding path\n",
    "files = os.listdir(path)\n",
    "\n",
    "for file in files :\n",
    "\tfilename, extension = os.path.splitext(file) # Getting names and extensions\n",
    "\tnew_folder = extension[1:] # new folder name --> can use: f\"{extension[1:]} files\" but will store old folders in files\n",
    "\tif not os.path.exists(path + '/' + new_folder): # creating new folder if it doesn't exist\n",
    "\t\tos.makedirs(path + '/' + new_folder)\n",
    "\tshutil.move(path + '/' + file, path + '/' + new_folder + '/' + file) # sorting file"
   ]
  },
  {
   "cell_type": "markdown",
   "id": "c5d5948b-ccdb-4fd8-a12c-47f8e3e5d488",
   "metadata": {},
   "source": [
    "---"
   ]
  }
 ],
 "metadata": {
  "kernelspec": {
   "display_name": "Python 3 (ipykernel)",
   "language": "python",
   "name": "python3"
  },
  "language_info": {
   "codemirror_mode": {
    "name": "ipython",
    "version": 3
   },
   "file_extension": ".py",
   "mimetype": "text/x-python",
   "name": "python",
   "nbconvert_exporter": "python",
   "pygments_lexer": "ipython3",
   "version": "3.12.4"
  }
 },
 "nbformat": 4,
 "nbformat_minor": 5
}
